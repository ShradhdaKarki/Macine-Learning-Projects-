{
 "cells": [
  {
   "cell_type": "markdown",
   "metadata": {
    "id": "U4yN_lGEDqQB"
   },
   "source": [
    "# NEURAL NETWORKS ASSIGNMENT\n",
    "\n",
    "**Purpose:** The objective of this assignment is to get hands-on experience with Neural Networks. \n",
    "\n",
    "**Preparation: **To complete this assignment, you will need.\t\t\n",
    "Have a working version of Python 3.5 or above\n",
    "Listen/read the lectures and understand neural networks\n",
    "A plotting library in Python (e.g. Matplotlib, ggplot or Seaborn)\n",
    "\n",
    "**What to submit: **Your submission should be this single Python notebook. Each question should be in a separate code block, in sequential order and with proper headings and documentation to know which question corresponds to which code solution. \n",
    "\n",
    "# **For this homework, you will implement a two-layer neural network (i.e. one hidden layer).** \n"
   ]
  },
  {
   "cell_type": "code",
   "execution_count": 76,
   "metadata": {
    "id": "xf7s6TLaCe24",
    "outputId": "b0ac75dc-a68d-457e-d4ec-c14bd48c8cd3"
   },
   "outputs": [],
   "source": [
    "#ALL THE IMPORTS\n",
    "\n",
    "#from google.colab import drive\n",
    "#drive.mount(\"/content/drive/\")\n",
    "\n",
    "#!ls \"/content/drive/My Drive\"\n",
    "\n",
    "# TensorFlow and tf.keras\n",
    "import tensorflow as tf\n",
    "from tensorflow import keras\n",
    "\n",
    "# Helper libraries\n",
    "import numpy as np\n",
    "import matplotlib.pyplot as plt\n",
    "import seaborn as sns\n",
    "import pandas as pd\n",
    "from sklearn.model_selection import train_test_split\n",
    "from sklearn import metrics\n",
    "from sklearn.metrics import mean_squared_error, r2_score, confusion_matrix\n",
    "\n",
    "# Function to transform target values of output layer\n",
    "def set_target(outputlayer):\n",
    "    row_maxes = outputlayer.max(axis=1).reshape(-1, 1)\n",
    "    outputlayer = np.where(outputlayer == row_maxes, .9, .1)\n",
    "    return outputlayer \n",
    "\n",
    "# Function to plot accuracy vs epoch graph\n",
    "# help function given to you if you would like to use it.\n",
    "def plot_accgraph(evaluation, n):\n",
    "    fig = plt.figure(figsize=(8,5))\n",
    "    plt.subplot(2,1,1)\n",
    "    plt.plot(evaluation.history['accuracy'])\n",
    "    plt.plot(evaluation.history['val_accuracy'])\n",
    "    plt.title('Accuracy vs Epochs with hidden units = ' +str(n) )\n",
    "    plt.ylabel('accuracy')\n",
    "    plt.xlabel('epoch')\n",
    "    plt.legend(['training', 'test'], loc='lower right')\n"
   ]
  },
  {
   "cell_type": "code",
   "execution_count": null,
   "metadata": {},
   "outputs": [],
   "source": [
    "#pip install tensorflow"
   ]
  },
  {
   "cell_type": "markdown",
   "metadata": {
    "id": "KYfKDayRDm8W"
   },
   "source": [
    "#Data\n",
    "\n",
    "For this assignment, we will develop a neural network to perform handwritten digit recognition task using the Semeion digit dataset. This digit archive is available here: https://archive.ics.uci.edu/ml/datasets/Semeion+Handwritten+Digit\n",
    "\n",
    "\n",
    "---\n",
    "\n"
   ]
  },
  {
   "cell_type": "code",
   "execution_count": 77,
   "metadata": {
    "id": "dWUWXjApCe28"
   },
   "outputs": [],
   "source": [
    "\n",
    "#YOUR CODE TO LOAD THE DATA GOES HERE\n",
    "\n",
    "data=pd.read_csv('semeion.data',header=None, delimiter=r\"\\s+\")\n"
   ]
  },
  {
   "cell_type": "code",
   "execution_count": 78,
   "metadata": {
    "id": "36yBBNVqCe2-",
    "outputId": "b48efe1b-64b6-4482-a6d2-77f6bb8b79a3"
   },
   "outputs": [
    {
     "data": {
      "text/html": [
       "<div>\n",
       "<style scoped>\n",
       "    .dataframe tbody tr th:only-of-type {\n",
       "        vertical-align: middle;\n",
       "    }\n",
       "\n",
       "    .dataframe tbody tr th {\n",
       "        vertical-align: top;\n",
       "    }\n",
       "\n",
       "    .dataframe thead th {\n",
       "        text-align: right;\n",
       "    }\n",
       "</style>\n",
       "<table border=\"1\" class=\"dataframe\">\n",
       "  <thead>\n",
       "    <tr style=\"text-align: right;\">\n",
       "      <th></th>\n",
       "      <th>0</th>\n",
       "      <th>1</th>\n",
       "      <th>2</th>\n",
       "      <th>3</th>\n",
       "      <th>4</th>\n",
       "      <th>5</th>\n",
       "      <th>6</th>\n",
       "      <th>7</th>\n",
       "      <th>8</th>\n",
       "      <th>9</th>\n",
       "      <th>...</th>\n",
       "      <th>256</th>\n",
       "      <th>257</th>\n",
       "      <th>258</th>\n",
       "      <th>259</th>\n",
       "      <th>260</th>\n",
       "      <th>261</th>\n",
       "      <th>262</th>\n",
       "      <th>263</th>\n",
       "      <th>264</th>\n",
       "      <th>265</th>\n",
       "    </tr>\n",
       "  </thead>\n",
       "  <tbody>\n",
       "    <tr>\n",
       "      <td>0</td>\n",
       "      <td>0.0</td>\n",
       "      <td>0.0</td>\n",
       "      <td>0.0</td>\n",
       "      <td>0.0</td>\n",
       "      <td>0.0</td>\n",
       "      <td>0.0</td>\n",
       "      <td>1.0</td>\n",
       "      <td>1.0</td>\n",
       "      <td>1.0</td>\n",
       "      <td>1.0</td>\n",
       "      <td>...</td>\n",
       "      <td>1</td>\n",
       "      <td>0</td>\n",
       "      <td>0</td>\n",
       "      <td>0</td>\n",
       "      <td>0</td>\n",
       "      <td>0</td>\n",
       "      <td>0</td>\n",
       "      <td>0</td>\n",
       "      <td>0</td>\n",
       "      <td>0</td>\n",
       "    </tr>\n",
       "    <tr>\n",
       "      <td>1</td>\n",
       "      <td>0.0</td>\n",
       "      <td>0.0</td>\n",
       "      <td>0.0</td>\n",
       "      <td>0.0</td>\n",
       "      <td>0.0</td>\n",
       "      <td>1.0</td>\n",
       "      <td>1.0</td>\n",
       "      <td>1.0</td>\n",
       "      <td>1.0</td>\n",
       "      <td>1.0</td>\n",
       "      <td>...</td>\n",
       "      <td>1</td>\n",
       "      <td>0</td>\n",
       "      <td>0</td>\n",
       "      <td>0</td>\n",
       "      <td>0</td>\n",
       "      <td>0</td>\n",
       "      <td>0</td>\n",
       "      <td>0</td>\n",
       "      <td>0</td>\n",
       "      <td>0</td>\n",
       "    </tr>\n",
       "    <tr>\n",
       "      <td>2</td>\n",
       "      <td>0.0</td>\n",
       "      <td>0.0</td>\n",
       "      <td>0.0</td>\n",
       "      <td>0.0</td>\n",
       "      <td>0.0</td>\n",
       "      <td>0.0</td>\n",
       "      <td>0.0</td>\n",
       "      <td>0.0</td>\n",
       "      <td>0.0</td>\n",
       "      <td>1.0</td>\n",
       "      <td>...</td>\n",
       "      <td>1</td>\n",
       "      <td>0</td>\n",
       "      <td>0</td>\n",
       "      <td>0</td>\n",
       "      <td>0</td>\n",
       "      <td>0</td>\n",
       "      <td>0</td>\n",
       "      <td>0</td>\n",
       "      <td>0</td>\n",
       "      <td>0</td>\n",
       "    </tr>\n",
       "    <tr>\n",
       "      <td>3</td>\n",
       "      <td>0.0</td>\n",
       "      <td>0.0</td>\n",
       "      <td>0.0</td>\n",
       "      <td>0.0</td>\n",
       "      <td>0.0</td>\n",
       "      <td>0.0</td>\n",
       "      <td>1.0</td>\n",
       "      <td>1.0</td>\n",
       "      <td>1.0</td>\n",
       "      <td>1.0</td>\n",
       "      <td>...</td>\n",
       "      <td>1</td>\n",
       "      <td>0</td>\n",
       "      <td>0</td>\n",
       "      <td>0</td>\n",
       "      <td>0</td>\n",
       "      <td>0</td>\n",
       "      <td>0</td>\n",
       "      <td>0</td>\n",
       "      <td>0</td>\n",
       "      <td>0</td>\n",
       "    </tr>\n",
       "    <tr>\n",
       "      <td>4</td>\n",
       "      <td>0.0</td>\n",
       "      <td>0.0</td>\n",
       "      <td>0.0</td>\n",
       "      <td>0.0</td>\n",
       "      <td>0.0</td>\n",
       "      <td>0.0</td>\n",
       "      <td>0.0</td>\n",
       "      <td>0.0</td>\n",
       "      <td>0.0</td>\n",
       "      <td>1.0</td>\n",
       "      <td>...</td>\n",
       "      <td>1</td>\n",
       "      <td>0</td>\n",
       "      <td>0</td>\n",
       "      <td>0</td>\n",
       "      <td>0</td>\n",
       "      <td>0</td>\n",
       "      <td>0</td>\n",
       "      <td>0</td>\n",
       "      <td>0</td>\n",
       "      <td>0</td>\n",
       "    </tr>\n",
       "    <tr>\n",
       "      <td>...</td>\n",
       "      <td>...</td>\n",
       "      <td>...</td>\n",
       "      <td>...</td>\n",
       "      <td>...</td>\n",
       "      <td>...</td>\n",
       "      <td>...</td>\n",
       "      <td>...</td>\n",
       "      <td>...</td>\n",
       "      <td>...</td>\n",
       "      <td>...</td>\n",
       "      <td>...</td>\n",
       "      <td>...</td>\n",
       "      <td>...</td>\n",
       "      <td>...</td>\n",
       "      <td>...</td>\n",
       "      <td>...</td>\n",
       "      <td>...</td>\n",
       "      <td>...</td>\n",
       "      <td>...</td>\n",
       "      <td>...</td>\n",
       "      <td>...</td>\n",
       "    </tr>\n",
       "    <tr>\n",
       "      <td>1588</td>\n",
       "      <td>0.0</td>\n",
       "      <td>0.0</td>\n",
       "      <td>0.0</td>\n",
       "      <td>1.0</td>\n",
       "      <td>1.0</td>\n",
       "      <td>1.0</td>\n",
       "      <td>1.0</td>\n",
       "      <td>1.0</td>\n",
       "      <td>1.0</td>\n",
       "      <td>1.0</td>\n",
       "      <td>...</td>\n",
       "      <td>0</td>\n",
       "      <td>0</td>\n",
       "      <td>0</td>\n",
       "      <td>0</td>\n",
       "      <td>0</td>\n",
       "      <td>0</td>\n",
       "      <td>0</td>\n",
       "      <td>0</td>\n",
       "      <td>0</td>\n",
       "      <td>1</td>\n",
       "    </tr>\n",
       "    <tr>\n",
       "      <td>1589</td>\n",
       "      <td>0.0</td>\n",
       "      <td>0.0</td>\n",
       "      <td>0.0</td>\n",
       "      <td>1.0</td>\n",
       "      <td>1.0</td>\n",
       "      <td>1.0</td>\n",
       "      <td>1.0</td>\n",
       "      <td>1.0</td>\n",
       "      <td>1.0</td>\n",
       "      <td>1.0</td>\n",
       "      <td>...</td>\n",
       "      <td>0</td>\n",
       "      <td>0</td>\n",
       "      <td>0</td>\n",
       "      <td>0</td>\n",
       "      <td>0</td>\n",
       "      <td>0</td>\n",
       "      <td>0</td>\n",
       "      <td>0</td>\n",
       "      <td>0</td>\n",
       "      <td>1</td>\n",
       "    </tr>\n",
       "    <tr>\n",
       "      <td>1590</td>\n",
       "      <td>0.0</td>\n",
       "      <td>0.0</td>\n",
       "      <td>1.0</td>\n",
       "      <td>1.0</td>\n",
       "      <td>1.0</td>\n",
       "      <td>1.0</td>\n",
       "      <td>1.0</td>\n",
       "      <td>1.0</td>\n",
       "      <td>1.0</td>\n",
       "      <td>1.0</td>\n",
       "      <td>...</td>\n",
       "      <td>0</td>\n",
       "      <td>0</td>\n",
       "      <td>0</td>\n",
       "      <td>0</td>\n",
       "      <td>0</td>\n",
       "      <td>0</td>\n",
       "      <td>0</td>\n",
       "      <td>0</td>\n",
       "      <td>0</td>\n",
       "      <td>1</td>\n",
       "    </tr>\n",
       "    <tr>\n",
       "      <td>1591</td>\n",
       "      <td>0.0</td>\n",
       "      <td>1.0</td>\n",
       "      <td>1.0</td>\n",
       "      <td>1.0</td>\n",
       "      <td>1.0</td>\n",
       "      <td>1.0</td>\n",
       "      <td>1.0</td>\n",
       "      <td>1.0</td>\n",
       "      <td>1.0</td>\n",
       "      <td>1.0</td>\n",
       "      <td>...</td>\n",
       "      <td>0</td>\n",
       "      <td>0</td>\n",
       "      <td>0</td>\n",
       "      <td>0</td>\n",
       "      <td>0</td>\n",
       "      <td>0</td>\n",
       "      <td>0</td>\n",
       "      <td>0</td>\n",
       "      <td>0</td>\n",
       "      <td>1</td>\n",
       "    </tr>\n",
       "    <tr>\n",
       "      <td>1592</td>\n",
       "      <td>0.0</td>\n",
       "      <td>0.0</td>\n",
       "      <td>0.0</td>\n",
       "      <td>0.0</td>\n",
       "      <td>0.0</td>\n",
       "      <td>0.0</td>\n",
       "      <td>1.0</td>\n",
       "      <td>1.0</td>\n",
       "      <td>1.0</td>\n",
       "      <td>1.0</td>\n",
       "      <td>...</td>\n",
       "      <td>0</td>\n",
       "      <td>0</td>\n",
       "      <td>0</td>\n",
       "      <td>0</td>\n",
       "      <td>0</td>\n",
       "      <td>0</td>\n",
       "      <td>0</td>\n",
       "      <td>0</td>\n",
       "      <td>0</td>\n",
       "      <td>1</td>\n",
       "    </tr>\n",
       "  </tbody>\n",
       "</table>\n",
       "<p>1593 rows × 266 columns</p>\n",
       "</div>"
      ],
      "text/plain": [
       "      0    1    2    3    4    5    6    7    8    9    ...  256  257  258  \\\n",
       "0     0.0  0.0  0.0  0.0  0.0  0.0  1.0  1.0  1.0  1.0  ...    1    0    0   \n",
       "1     0.0  0.0  0.0  0.0  0.0  1.0  1.0  1.0  1.0  1.0  ...    1    0    0   \n",
       "2     0.0  0.0  0.0  0.0  0.0  0.0  0.0  0.0  0.0  1.0  ...    1    0    0   \n",
       "3     0.0  0.0  0.0  0.0  0.0  0.0  1.0  1.0  1.0  1.0  ...    1    0    0   \n",
       "4     0.0  0.0  0.0  0.0  0.0  0.0  0.0  0.0  0.0  1.0  ...    1    0    0   \n",
       "...   ...  ...  ...  ...  ...  ...  ...  ...  ...  ...  ...  ...  ...  ...   \n",
       "1588  0.0  0.0  0.0  1.0  1.0  1.0  1.0  1.0  1.0  1.0  ...    0    0    0   \n",
       "1589  0.0  0.0  0.0  1.0  1.0  1.0  1.0  1.0  1.0  1.0  ...    0    0    0   \n",
       "1590  0.0  0.0  1.0  1.0  1.0  1.0  1.0  1.0  1.0  1.0  ...    0    0    0   \n",
       "1591  0.0  1.0  1.0  1.0  1.0  1.0  1.0  1.0  1.0  1.0  ...    0    0    0   \n",
       "1592  0.0  0.0  0.0  0.0  0.0  0.0  1.0  1.0  1.0  1.0  ...    0    0    0   \n",
       "\n",
       "      259  260  261  262  263  264  265  \n",
       "0       0    0    0    0    0    0    0  \n",
       "1       0    0    0    0    0    0    0  \n",
       "2       0    0    0    0    0    0    0  \n",
       "3       0    0    0    0    0    0    0  \n",
       "4       0    0    0    0    0    0    0  \n",
       "...   ...  ...  ...  ...  ...  ...  ...  \n",
       "1588    0    0    0    0    0    0    1  \n",
       "1589    0    0    0    0    0    0    1  \n",
       "1590    0    0    0    0    0    0    1  \n",
       "1591    0    0    0    0    0    0    1  \n",
       "1592    0    0    0    0    0    0    1  \n",
       "\n",
       "[1593 rows x 266 columns]"
      ]
     },
     "execution_count": 78,
     "metadata": {},
     "output_type": "execute_result"
    }
   ],
   "source": [
    "data"
   ]
  },
  {
   "cell_type": "code",
   "execution_count": 79,
   "metadata": {
    "id": "dWJMCiSGCe3A",
    "outputId": "6b75dbfc-c095-4b43-af2e-1d3226ade6e9"
   },
   "outputs": [
    {
     "name": "stdout",
     "output_type": "stream",
     "text": [
      "(1593, 256)\n"
     ]
    },
    {
     "data": {
      "text/html": [
       "<div>\n",
       "<style scoped>\n",
       "    .dataframe tbody tr th:only-of-type {\n",
       "        vertical-align: middle;\n",
       "    }\n",
       "\n",
       "    .dataframe tbody tr th {\n",
       "        vertical-align: top;\n",
       "    }\n",
       "\n",
       "    .dataframe thead th {\n",
       "        text-align: right;\n",
       "    }\n",
       "</style>\n",
       "<table border=\"1\" class=\"dataframe\">\n",
       "  <thead>\n",
       "    <tr style=\"text-align: right;\">\n",
       "      <th></th>\n",
       "      <th>0</th>\n",
       "      <th>1</th>\n",
       "      <th>2</th>\n",
       "      <th>3</th>\n",
       "      <th>4</th>\n",
       "      <th>5</th>\n",
       "      <th>6</th>\n",
       "      <th>7</th>\n",
       "      <th>8</th>\n",
       "      <th>9</th>\n",
       "      <th>...</th>\n",
       "      <th>246</th>\n",
       "      <th>247</th>\n",
       "      <th>248</th>\n",
       "      <th>249</th>\n",
       "      <th>250</th>\n",
       "      <th>251</th>\n",
       "      <th>252</th>\n",
       "      <th>253</th>\n",
       "      <th>254</th>\n",
       "      <th>255</th>\n",
       "    </tr>\n",
       "  </thead>\n",
       "  <tbody>\n",
       "    <tr>\n",
       "      <td>0</td>\n",
       "      <td>0.0</td>\n",
       "      <td>0.0</td>\n",
       "      <td>0.0</td>\n",
       "      <td>0.0</td>\n",
       "      <td>0.0</td>\n",
       "      <td>0.0</td>\n",
       "      <td>1.0</td>\n",
       "      <td>1.0</td>\n",
       "      <td>1.0</td>\n",
       "      <td>1.0</td>\n",
       "      <td>...</td>\n",
       "      <td>1.0</td>\n",
       "      <td>0.0</td>\n",
       "      <td>0.0</td>\n",
       "      <td>0.0</td>\n",
       "      <td>0.0</td>\n",
       "      <td>0.0</td>\n",
       "      <td>0.0</td>\n",
       "      <td>0.0</td>\n",
       "      <td>0.0</td>\n",
       "      <td>0.0</td>\n",
       "    </tr>\n",
       "    <tr>\n",
       "      <td>1</td>\n",
       "      <td>0.0</td>\n",
       "      <td>0.0</td>\n",
       "      <td>0.0</td>\n",
       "      <td>0.0</td>\n",
       "      <td>0.0</td>\n",
       "      <td>1.0</td>\n",
       "      <td>1.0</td>\n",
       "      <td>1.0</td>\n",
       "      <td>1.0</td>\n",
       "      <td>1.0</td>\n",
       "      <td>...</td>\n",
       "      <td>1.0</td>\n",
       "      <td>1.0</td>\n",
       "      <td>1.0</td>\n",
       "      <td>1.0</td>\n",
       "      <td>1.0</td>\n",
       "      <td>0.0</td>\n",
       "      <td>0.0</td>\n",
       "      <td>0.0</td>\n",
       "      <td>0.0</td>\n",
       "      <td>0.0</td>\n",
       "    </tr>\n",
       "    <tr>\n",
       "      <td>2</td>\n",
       "      <td>0.0</td>\n",
       "      <td>0.0</td>\n",
       "      <td>0.0</td>\n",
       "      <td>0.0</td>\n",
       "      <td>0.0</td>\n",
       "      <td>0.0</td>\n",
       "      <td>0.0</td>\n",
       "      <td>0.0</td>\n",
       "      <td>0.0</td>\n",
       "      <td>1.0</td>\n",
       "      <td>...</td>\n",
       "      <td>1.0</td>\n",
       "      <td>0.0</td>\n",
       "      <td>0.0</td>\n",
       "      <td>0.0</td>\n",
       "      <td>0.0</td>\n",
       "      <td>0.0</td>\n",
       "      <td>0.0</td>\n",
       "      <td>0.0</td>\n",
       "      <td>0.0</td>\n",
       "      <td>0.0</td>\n",
       "    </tr>\n",
       "    <tr>\n",
       "      <td>3</td>\n",
       "      <td>0.0</td>\n",
       "      <td>0.0</td>\n",
       "      <td>0.0</td>\n",
       "      <td>0.0</td>\n",
       "      <td>0.0</td>\n",
       "      <td>0.0</td>\n",
       "      <td>1.0</td>\n",
       "      <td>1.0</td>\n",
       "      <td>1.0</td>\n",
       "      <td>1.0</td>\n",
       "      <td>...</td>\n",
       "      <td>0.0</td>\n",
       "      <td>0.0</td>\n",
       "      <td>0.0</td>\n",
       "      <td>0.0</td>\n",
       "      <td>0.0</td>\n",
       "      <td>0.0</td>\n",
       "      <td>0.0</td>\n",
       "      <td>0.0</td>\n",
       "      <td>0.0</td>\n",
       "      <td>0.0</td>\n",
       "    </tr>\n",
       "    <tr>\n",
       "      <td>4</td>\n",
       "      <td>0.0</td>\n",
       "      <td>0.0</td>\n",
       "      <td>0.0</td>\n",
       "      <td>0.0</td>\n",
       "      <td>0.0</td>\n",
       "      <td>0.0</td>\n",
       "      <td>0.0</td>\n",
       "      <td>0.0</td>\n",
       "      <td>0.0</td>\n",
       "      <td>1.0</td>\n",
       "      <td>...</td>\n",
       "      <td>0.0</td>\n",
       "      <td>0.0</td>\n",
       "      <td>0.0</td>\n",
       "      <td>0.0</td>\n",
       "      <td>0.0</td>\n",
       "      <td>0.0</td>\n",
       "      <td>0.0</td>\n",
       "      <td>0.0</td>\n",
       "      <td>0.0</td>\n",
       "      <td>0.0</td>\n",
       "    </tr>\n",
       "    <tr>\n",
       "      <td>...</td>\n",
       "      <td>...</td>\n",
       "      <td>...</td>\n",
       "      <td>...</td>\n",
       "      <td>...</td>\n",
       "      <td>...</td>\n",
       "      <td>...</td>\n",
       "      <td>...</td>\n",
       "      <td>...</td>\n",
       "      <td>...</td>\n",
       "      <td>...</td>\n",
       "      <td>...</td>\n",
       "      <td>...</td>\n",
       "      <td>...</td>\n",
       "      <td>...</td>\n",
       "      <td>...</td>\n",
       "      <td>...</td>\n",
       "      <td>...</td>\n",
       "      <td>...</td>\n",
       "      <td>...</td>\n",
       "      <td>...</td>\n",
       "      <td>...</td>\n",
       "    </tr>\n",
       "    <tr>\n",
       "      <td>1588</td>\n",
       "      <td>0.0</td>\n",
       "      <td>0.0</td>\n",
       "      <td>0.0</td>\n",
       "      <td>1.0</td>\n",
       "      <td>1.0</td>\n",
       "      <td>1.0</td>\n",
       "      <td>1.0</td>\n",
       "      <td>1.0</td>\n",
       "      <td>1.0</td>\n",
       "      <td>1.0</td>\n",
       "      <td>...</td>\n",
       "      <td>0.0</td>\n",
       "      <td>0.0</td>\n",
       "      <td>0.0</td>\n",
       "      <td>0.0</td>\n",
       "      <td>0.0</td>\n",
       "      <td>0.0</td>\n",
       "      <td>0.0</td>\n",
       "      <td>1.0</td>\n",
       "      <td>1.0</td>\n",
       "      <td>0.0</td>\n",
       "    </tr>\n",
       "    <tr>\n",
       "      <td>1589</td>\n",
       "      <td>0.0</td>\n",
       "      <td>0.0</td>\n",
       "      <td>0.0</td>\n",
       "      <td>1.0</td>\n",
       "      <td>1.0</td>\n",
       "      <td>1.0</td>\n",
       "      <td>1.0</td>\n",
       "      <td>1.0</td>\n",
       "      <td>1.0</td>\n",
       "      <td>1.0</td>\n",
       "      <td>...</td>\n",
       "      <td>1.0</td>\n",
       "      <td>1.0</td>\n",
       "      <td>1.0</td>\n",
       "      <td>1.0</td>\n",
       "      <td>1.0</td>\n",
       "      <td>1.0</td>\n",
       "      <td>1.0</td>\n",
       "      <td>0.0</td>\n",
       "      <td>0.0</td>\n",
       "      <td>0.0</td>\n",
       "    </tr>\n",
       "    <tr>\n",
       "      <td>1590</td>\n",
       "      <td>0.0</td>\n",
       "      <td>0.0</td>\n",
       "      <td>1.0</td>\n",
       "      <td>1.0</td>\n",
       "      <td>1.0</td>\n",
       "      <td>1.0</td>\n",
       "      <td>1.0</td>\n",
       "      <td>1.0</td>\n",
       "      <td>1.0</td>\n",
       "      <td>1.0</td>\n",
       "      <td>...</td>\n",
       "      <td>0.0</td>\n",
       "      <td>0.0</td>\n",
       "      <td>0.0</td>\n",
       "      <td>1.0</td>\n",
       "      <td>1.0</td>\n",
       "      <td>0.0</td>\n",
       "      <td>0.0</td>\n",
       "      <td>0.0</td>\n",
       "      <td>0.0</td>\n",
       "      <td>0.0</td>\n",
       "    </tr>\n",
       "    <tr>\n",
       "      <td>1591</td>\n",
       "      <td>0.0</td>\n",
       "      <td>1.0</td>\n",
       "      <td>1.0</td>\n",
       "      <td>1.0</td>\n",
       "      <td>1.0</td>\n",
       "      <td>1.0</td>\n",
       "      <td>1.0</td>\n",
       "      <td>1.0</td>\n",
       "      <td>1.0</td>\n",
       "      <td>1.0</td>\n",
       "      <td>...</td>\n",
       "      <td>0.0</td>\n",
       "      <td>0.0</td>\n",
       "      <td>0.0</td>\n",
       "      <td>1.0</td>\n",
       "      <td>1.0</td>\n",
       "      <td>0.0</td>\n",
       "      <td>0.0</td>\n",
       "      <td>0.0</td>\n",
       "      <td>0.0</td>\n",
       "      <td>0.0</td>\n",
       "    </tr>\n",
       "    <tr>\n",
       "      <td>1592</td>\n",
       "      <td>0.0</td>\n",
       "      <td>0.0</td>\n",
       "      <td>0.0</td>\n",
       "      <td>0.0</td>\n",
       "      <td>0.0</td>\n",
       "      <td>0.0</td>\n",
       "      <td>1.0</td>\n",
       "      <td>1.0</td>\n",
       "      <td>1.0</td>\n",
       "      <td>1.0</td>\n",
       "      <td>...</td>\n",
       "      <td>1.0</td>\n",
       "      <td>0.0</td>\n",
       "      <td>0.0</td>\n",
       "      <td>0.0</td>\n",
       "      <td>0.0</td>\n",
       "      <td>0.0</td>\n",
       "      <td>0.0</td>\n",
       "      <td>0.0</td>\n",
       "      <td>0.0</td>\n",
       "      <td>0.0</td>\n",
       "    </tr>\n",
       "  </tbody>\n",
       "</table>\n",
       "<p>1593 rows × 256 columns</p>\n",
       "</div>"
      ],
      "text/plain": [
       "      0    1    2    3    4    5    6    7    8    9    ...  246  247  248  \\\n",
       "0     0.0  0.0  0.0  0.0  0.0  0.0  1.0  1.0  1.0  1.0  ...  1.0  0.0  0.0   \n",
       "1     0.0  0.0  0.0  0.0  0.0  1.0  1.0  1.0  1.0  1.0  ...  1.0  1.0  1.0   \n",
       "2     0.0  0.0  0.0  0.0  0.0  0.0  0.0  0.0  0.0  1.0  ...  1.0  0.0  0.0   \n",
       "3     0.0  0.0  0.0  0.0  0.0  0.0  1.0  1.0  1.0  1.0  ...  0.0  0.0  0.0   \n",
       "4     0.0  0.0  0.0  0.0  0.0  0.0  0.0  0.0  0.0  1.0  ...  0.0  0.0  0.0   \n",
       "...   ...  ...  ...  ...  ...  ...  ...  ...  ...  ...  ...  ...  ...  ...   \n",
       "1588  0.0  0.0  0.0  1.0  1.0  1.0  1.0  1.0  1.0  1.0  ...  0.0  0.0  0.0   \n",
       "1589  0.0  0.0  0.0  1.0  1.0  1.0  1.0  1.0  1.0  1.0  ...  1.0  1.0  1.0   \n",
       "1590  0.0  0.0  1.0  1.0  1.0  1.0  1.0  1.0  1.0  1.0  ...  0.0  0.0  0.0   \n",
       "1591  0.0  1.0  1.0  1.0  1.0  1.0  1.0  1.0  1.0  1.0  ...  0.0  0.0  0.0   \n",
       "1592  0.0  0.0  0.0  0.0  0.0  0.0  1.0  1.0  1.0  1.0  ...  1.0  0.0  0.0   \n",
       "\n",
       "      249  250  251  252  253  254  255  \n",
       "0     0.0  0.0  0.0  0.0  0.0  0.0  0.0  \n",
       "1     1.0  1.0  0.0  0.0  0.0  0.0  0.0  \n",
       "2     0.0  0.0  0.0  0.0  0.0  0.0  0.0  \n",
       "3     0.0  0.0  0.0  0.0  0.0  0.0  0.0  \n",
       "4     0.0  0.0  0.0  0.0  0.0  0.0  0.0  \n",
       "...   ...  ...  ...  ...  ...  ...  ...  \n",
       "1588  0.0  0.0  0.0  0.0  1.0  1.0  0.0  \n",
       "1589  1.0  1.0  1.0  1.0  0.0  0.0  0.0  \n",
       "1590  1.0  1.0  0.0  0.0  0.0  0.0  0.0  \n",
       "1591  1.0  1.0  0.0  0.0  0.0  0.0  0.0  \n",
       "1592  0.0  0.0  0.0  0.0  0.0  0.0  0.0  \n",
       "\n",
       "[1593 rows x 256 columns]"
      ]
     },
     "execution_count": 79,
     "metadata": {},
     "output_type": "execute_result"
    }
   ],
   "source": [
    "# THE CODE TO CREATE X AND Y IS ALREADY GIVEN HERE\n",
    "#Delineate our image samples (features)\n",
    "X = data.iloc[:,:-10]\n",
    "print(X.shape)\n",
    "X"
   ]
  },
  {
   "cell_type": "code",
   "execution_count": 80,
   "metadata": {
    "id": "zK1rjPetCe3C",
    "outputId": "24ac1cdf-cf1f-47bc-d675-b0551c0a672b"
   },
   "outputs": [
    {
     "data": {
      "text/plain": [
       "array([[0., 0., 0., ..., 0., 0., 0.],\n",
       "       [0., 0., 0., ..., 0., 0., 0.],\n",
       "       [0., 0., 0., ..., 0., 0., 0.],\n",
       "       ...,\n",
       "       [0., 0., 1., ..., 0., 0., 0.],\n",
       "       [0., 1., 1., ..., 0., 0., 0.],\n",
       "       [0., 0., 0., ..., 0., 0., 0.]])"
      ]
     },
     "execution_count": 80,
     "metadata": {},
     "output_type": "execute_result"
    }
   ],
   "source": [
    "# Convert to array \n",
    "X = np.asarray(X)\n",
    "X"
   ]
  },
  {
   "cell_type": "code",
   "execution_count": 81,
   "metadata": {
    "id": "OBegFPxSCe3E",
    "outputId": "c7b5ffe8-54cd-4070-cff8-7a0150353f24"
   },
   "outputs": [
    {
     "name": "stdout",
     "output_type": "stream",
     "text": [
      "(1593, 10)\n"
     ]
    },
    {
     "data": {
      "text/html": [
       "<div>\n",
       "<style scoped>\n",
       "    .dataframe tbody tr th:only-of-type {\n",
       "        vertical-align: middle;\n",
       "    }\n",
       "\n",
       "    .dataframe tbody tr th {\n",
       "        vertical-align: top;\n",
       "    }\n",
       "\n",
       "    .dataframe thead th {\n",
       "        text-align: right;\n",
       "    }\n",
       "</style>\n",
       "<table border=\"1\" class=\"dataframe\">\n",
       "  <thead>\n",
       "    <tr style=\"text-align: right;\">\n",
       "      <th></th>\n",
       "      <th>256</th>\n",
       "      <th>257</th>\n",
       "      <th>258</th>\n",
       "      <th>259</th>\n",
       "      <th>260</th>\n",
       "      <th>261</th>\n",
       "      <th>262</th>\n",
       "      <th>263</th>\n",
       "      <th>264</th>\n",
       "      <th>265</th>\n",
       "    </tr>\n",
       "  </thead>\n",
       "  <tbody>\n",
       "    <tr>\n",
       "      <td>0</td>\n",
       "      <td>1</td>\n",
       "      <td>0</td>\n",
       "      <td>0</td>\n",
       "      <td>0</td>\n",
       "      <td>0</td>\n",
       "      <td>0</td>\n",
       "      <td>0</td>\n",
       "      <td>0</td>\n",
       "      <td>0</td>\n",
       "      <td>0</td>\n",
       "    </tr>\n",
       "    <tr>\n",
       "      <td>1</td>\n",
       "      <td>1</td>\n",
       "      <td>0</td>\n",
       "      <td>0</td>\n",
       "      <td>0</td>\n",
       "      <td>0</td>\n",
       "      <td>0</td>\n",
       "      <td>0</td>\n",
       "      <td>0</td>\n",
       "      <td>0</td>\n",
       "      <td>0</td>\n",
       "    </tr>\n",
       "    <tr>\n",
       "      <td>2</td>\n",
       "      <td>1</td>\n",
       "      <td>0</td>\n",
       "      <td>0</td>\n",
       "      <td>0</td>\n",
       "      <td>0</td>\n",
       "      <td>0</td>\n",
       "      <td>0</td>\n",
       "      <td>0</td>\n",
       "      <td>0</td>\n",
       "      <td>0</td>\n",
       "    </tr>\n",
       "    <tr>\n",
       "      <td>3</td>\n",
       "      <td>1</td>\n",
       "      <td>0</td>\n",
       "      <td>0</td>\n",
       "      <td>0</td>\n",
       "      <td>0</td>\n",
       "      <td>0</td>\n",
       "      <td>0</td>\n",
       "      <td>0</td>\n",
       "      <td>0</td>\n",
       "      <td>0</td>\n",
       "    </tr>\n",
       "    <tr>\n",
       "      <td>4</td>\n",
       "      <td>1</td>\n",
       "      <td>0</td>\n",
       "      <td>0</td>\n",
       "      <td>0</td>\n",
       "      <td>0</td>\n",
       "      <td>0</td>\n",
       "      <td>0</td>\n",
       "      <td>0</td>\n",
       "      <td>0</td>\n",
       "      <td>0</td>\n",
       "    </tr>\n",
       "    <tr>\n",
       "      <td>...</td>\n",
       "      <td>...</td>\n",
       "      <td>...</td>\n",
       "      <td>...</td>\n",
       "      <td>...</td>\n",
       "      <td>...</td>\n",
       "      <td>...</td>\n",
       "      <td>...</td>\n",
       "      <td>...</td>\n",
       "      <td>...</td>\n",
       "      <td>...</td>\n",
       "    </tr>\n",
       "    <tr>\n",
       "      <td>1588</td>\n",
       "      <td>0</td>\n",
       "      <td>0</td>\n",
       "      <td>0</td>\n",
       "      <td>0</td>\n",
       "      <td>0</td>\n",
       "      <td>0</td>\n",
       "      <td>0</td>\n",
       "      <td>0</td>\n",
       "      <td>0</td>\n",
       "      <td>1</td>\n",
       "    </tr>\n",
       "    <tr>\n",
       "      <td>1589</td>\n",
       "      <td>0</td>\n",
       "      <td>0</td>\n",
       "      <td>0</td>\n",
       "      <td>0</td>\n",
       "      <td>0</td>\n",
       "      <td>0</td>\n",
       "      <td>0</td>\n",
       "      <td>0</td>\n",
       "      <td>0</td>\n",
       "      <td>1</td>\n",
       "    </tr>\n",
       "    <tr>\n",
       "      <td>1590</td>\n",
       "      <td>0</td>\n",
       "      <td>0</td>\n",
       "      <td>0</td>\n",
       "      <td>0</td>\n",
       "      <td>0</td>\n",
       "      <td>0</td>\n",
       "      <td>0</td>\n",
       "      <td>0</td>\n",
       "      <td>0</td>\n",
       "      <td>1</td>\n",
       "    </tr>\n",
       "    <tr>\n",
       "      <td>1591</td>\n",
       "      <td>0</td>\n",
       "      <td>0</td>\n",
       "      <td>0</td>\n",
       "      <td>0</td>\n",
       "      <td>0</td>\n",
       "      <td>0</td>\n",
       "      <td>0</td>\n",
       "      <td>0</td>\n",
       "      <td>0</td>\n",
       "      <td>1</td>\n",
       "    </tr>\n",
       "    <tr>\n",
       "      <td>1592</td>\n",
       "      <td>0</td>\n",
       "      <td>0</td>\n",
       "      <td>0</td>\n",
       "      <td>0</td>\n",
       "      <td>0</td>\n",
       "      <td>0</td>\n",
       "      <td>0</td>\n",
       "      <td>0</td>\n",
       "      <td>0</td>\n",
       "      <td>1</td>\n",
       "    </tr>\n",
       "  </tbody>\n",
       "</table>\n",
       "<p>1593 rows × 10 columns</p>\n",
       "</div>"
      ],
      "text/plain": [
       "      256  257  258  259  260  261  262  263  264  265\n",
       "0       1    0    0    0    0    0    0    0    0    0\n",
       "1       1    0    0    0    0    0    0    0    0    0\n",
       "2       1    0    0    0    0    0    0    0    0    0\n",
       "3       1    0    0    0    0    0    0    0    0    0\n",
       "4       1    0    0    0    0    0    0    0    0    0\n",
       "...   ...  ...  ...  ...  ...  ...  ...  ...  ...  ...\n",
       "1588    0    0    0    0    0    0    0    0    0    1\n",
       "1589    0    0    0    0    0    0    0    0    0    1\n",
       "1590    0    0    0    0    0    0    0    0    0    1\n",
       "1591    0    0    0    0    0    0    0    0    0    1\n",
       "1592    0    0    0    0    0    0    0    0    0    1\n",
       "\n",
       "[1593 rows x 10 columns]"
      ]
     },
     "execution_count": 81,
     "metadata": {},
     "output_type": "execute_result"
    }
   ],
   "source": [
    "# Delineate labels\n",
    "y = data.iloc[:,-10:]\n",
    "print(y.shape)\n",
    "y"
   ]
  },
  {
   "cell_type": "code",
   "execution_count": 82,
   "metadata": {
    "id": "XcM0mqClCe3G",
    "outputId": "76ba4170-67d6-4578-d613-4a2abcc2aca2"
   },
   "outputs": [
    {
     "data": {
      "text/plain": [
       "array([[1, 0, 0, ..., 0, 0, 0],\n",
       "       [1, 0, 0, ..., 0, 0, 0],\n",
       "       [1, 0, 0, ..., 0, 0, 0],\n",
       "       ...,\n",
       "       [0, 0, 0, ..., 0, 0, 1],\n",
       "       [0, 0, 0, ..., 0, 0, 1],\n",
       "       [0, 0, 0, ..., 0, 0, 1]], dtype=int64)"
      ]
     },
     "execution_count": 82,
     "metadata": {},
     "output_type": "execute_result"
    }
   ],
   "source": [
    "# Convert to array\n",
    "y = np.asarray(y)\n",
    "y"
   ]
  },
  {
   "cell_type": "code",
   "execution_count": 83,
   "metadata": {
    "id": "U4_5GFpSCe3J"
   },
   "outputs": [],
   "source": [
    "# Split into training and test sets\n",
    "\n",
    "X_train, X_test, y_train, y_test = train_test_split(X, y, test_size = 0.30, random_state = 10)"
   ]
  },
  {
   "cell_type": "code",
   "execution_count": 84,
   "metadata": {
    "id": "7E6A6YDbCe3M",
    "outputId": "3465ff0f-f15b-4471-d4fc-1f07f2b264e0"
   },
   "outputs": [
    {
     "data": {
      "text/plain": [
       "256"
      ]
     },
     "execution_count": 84,
     "metadata": {},
     "output_type": "execute_result"
    }
   ],
   "source": [
    "# Number of features in our training set, confirmed\n",
    "X_train.shape[1]"
   ]
  },
  {
   "cell_type": "markdown",
   "metadata": {
    "id": "VfXR5zpHCe3O"
   },
   "source": [
    "\n",
    "# ALL QUESTIONS BELOW ARE BASED ON THE FOLLOWING NEURAL NETWORK STRUCTURE\n",
    "\n",
    "**Neural Network structure:** Your NN (neural network) will have one hidden layer with n hidden units (n should be a parameter of your program function) and 10 output units. The network should be fully connected. \n",
    "\n",
    "**Activation function:** Hidden and output units should use the sigmoid activation function. \n",
    "\n",
    "**Bias unit:** Every hidden and output unit should have a weighted connection from bias unit, whose value should be set to 1. \n",
    "\n",
    "**Output:** The output units should correspond to one of 10 classes (1 to 9). Set the target value tk for output unit k to 0.9 if input class is the kth class, 0.1 otherwise. <-- THIS HAS ALREADY BEEN DONE FOR YOU ABOVE\n",
    "\n",
    "**Training:** Use backpropagation with SGD to train the network. Set the learning rate to 0.1. \n",
    "\n"
   ]
  },
  {
   "cell_type": "markdown",
   "metadata": {
    "id": "wk1wblkaFJlr"
   },
   "source": [
    "**Question 1:** Experiment with varying the number of hidden units. (Each subquestion below is worth 2 points = 10 points total) \n",
    "\n",
    "***1a.*** Conduct experiments with n = 20, 50 and 100. (Hint: remember to include bias unit weights). Train your network for 50 epochs. After each epoch, record your accuracy on training set AND test set for your network. After training is complete, create a confusion matrix for each of your trained networks, summarizing results on the test set. \n",
    "\n",
    "***1b.*** Give a plot of both training and test accuracy as a function of epoch number (graph both of these on sample plot). \n",
    "\n",
    "\n",
    "***1c.*** Discuss your results in at least 50 words: How does the number of hidden units affect the final accuracy on the test data? \n",
    "\n",
    "***1d.*** Discuss your results in at least 50 words: How does the number of hidden units affect the number of epochs needed for training to converge? \n",
    "\n",
    "***1e.*** Discuss your results in at least 50 words: Is there any evidence that any of your networks overfit to the training data? If so, what is the evidence?\n"
   ]
  },
  {
   "cell_type": "markdown",
   "metadata": {},
   "source": [
    "### Intializing Neural Network"
   ]
  },
  {
   "cell_type": "code",
   "execution_count": 98,
   "metadata": {
    "id": "WCXbSOdzCe3S",
    "outputId": "81811906-c13c-45e4-b24f-a5522933281d"
   },
   "outputs": [],
   "source": [
    "# Train the neural net\n",
    "\n",
    "#YOUR CODE GOES HERE\n",
    "\n",
    "bias_initializer=tf.keras.initializers.Ones()\n",
    "nn=tf.keras.models.Sequential()\n"
   ]
  },
  {
   "cell_type": "markdown",
   "metadata": {},
   "source": [
    "### Input Layer and Hidden Layer"
   ]
  },
  {
   "cell_type": "code",
   "execution_count": 99,
   "metadata": {
    "id": "-7__PxKeCe3U",
    "outputId": "4513f0fd-7a65-4ffe-ea18-4f3e2ccc7c54"
   },
   "outputs": [],
   "source": [
    "nn.add(tf.keras.layers.Dense(units=20, activation='sigmoid',use_bias=True,bias_initializer=bias_initializer))\n"
   ]
  },
  {
   "cell_type": "markdown",
   "metadata": {},
   "source": [
    "### Output Layer"
   ]
  },
  {
   "cell_type": "code",
   "execution_count": 100,
   "metadata": {},
   "outputs": [],
   "source": [
    "\n",
    "nn.add(tf.keras.layers.Dense(units=10, activation='sigmoid',use_bias=True,bias_initializer=bias_initializer))\n"
   ]
  },
  {
   "cell_type": "markdown",
   "metadata": {},
   "source": [
    "### Training the Network"
   ]
  },
  {
   "cell_type": "code",
   "execution_count": null,
   "metadata": {},
   "outputs": [],
   "source": [
    "#X_train50, X_test50, y_train50, y_test = train_test_split(X, y, test_size = 0.30, random_state = 10)"
   ]
  },
  {
   "cell_type": "code",
   "execution_count": 101,
   "metadata": {},
   "outputs": [],
   "source": [
    "optimizer=keras.optimizers.SGD(lr=0.1)\n"
   ]
  },
  {
   "cell_type": "code",
   "execution_count": 102,
   "metadata": {},
   "outputs": [],
   "source": [
    "nn.compile(optimizer = optimizer,loss = 'categorical_crossentropy', metrics = ['accuracy'])\n",
    "\n",
    "#keras.metrics.Precision(), keras.metrics.Recall(),keras.metrics.Accuracy()"
   ]
  },
  {
   "cell_type": "code",
   "execution_count": 103,
   "metadata": {},
   "outputs": [
    {
     "name": "stdout",
     "output_type": "stream",
     "text": [
      "Epoch 1/50\n",
      "34/34 [==============================] - 1s 11ms/step - loss: 2.4303 - accuracy: 0.1389 - val_loss: 2.1451 - val_accuracy: 0.3482\n",
      "Epoch 2/50\n",
      "34/34 [==============================] - 0s 3ms/step - loss: 2.1066 - accuracy: 0.3472 - val_loss: 1.9606 - val_accuracy: 0.5357\n",
      "Epoch 3/50\n",
      "34/34 [==============================] - 0s 3ms/step - loss: 1.9235 - accuracy: 0.5328 - val_loss: 1.7545 - val_accuracy: 0.6429\n",
      "Epoch 4/50\n",
      "34/34 [==============================] - 0s 3ms/step - loss: 1.7387 - accuracy: 0.6554 - val_loss: 1.5780 - val_accuracy: 0.7768\n",
      "Epoch 5/50\n",
      "34/34 [==============================] - 0s 4ms/step - loss: 1.5404 - accuracy: 0.7930 - val_loss: 1.4067 - val_accuracy: 0.8214\n",
      "Epoch 6/50\n",
      "34/34 [==============================] - 0s 3ms/step - loss: 1.3499 - accuracy: 0.8197 - val_loss: 1.2498 - val_accuracy: 0.8304\n",
      "Epoch 7/50\n",
      "34/34 [==============================] - 0s 3ms/step - loss: 1.1894 - accuracy: 0.8456 - val_loss: 1.1393 - val_accuracy: 0.8482\n",
      "Epoch 8/50\n",
      "34/34 [==============================] - 0s 3ms/step - loss: 1.0806 - accuracy: 0.8629 - val_loss: 1.0246 - val_accuracy: 0.8750\n",
      "Epoch 9/50\n",
      "34/34 [==============================] - 0s 3ms/step - loss: 0.9505 - accuracy: 0.8653 - val_loss: 0.9299 - val_accuracy: 0.8571\n",
      "Epoch 10/50\n",
      "34/34 [==============================] - 0s 4ms/step - loss: 0.8287 - accuracy: 0.8919 - val_loss: 0.8608 - val_accuracy: 0.8750\n",
      "Epoch 11/50\n",
      "34/34 [==============================] - 0s 3ms/step - loss: 0.7923 - accuracy: 0.8765 - val_loss: 0.7827 - val_accuracy: 0.8839\n",
      "Epoch 12/50\n",
      "34/34 [==============================] - 0s 3ms/step - loss: 0.7185 - accuracy: 0.8852 - val_loss: 0.7338 - val_accuracy: 0.8839\n",
      "Epoch 13/50\n",
      "34/34 [==============================] - 2s 48ms/step - loss: 0.6503 - accuracy: 0.8982 - val_loss: 0.6805 - val_accuracy: 0.8929\n",
      "Epoch 14/50\n",
      "34/34 [==============================] - 0s 4ms/step - loss: 0.5994 - accuracy: 0.9063 - val_loss: 0.6375 - val_accuracy: 0.8839\n",
      "Epoch 15/50\n",
      "34/34 [==============================] - 0s 3ms/step - loss: 0.5839 - accuracy: 0.8942 - val_loss: 0.6072 - val_accuracy: 0.8929\n",
      "Epoch 16/50\n",
      "34/34 [==============================] - 0s 4ms/step - loss: 0.5106 - accuracy: 0.9180 - val_loss: 0.5755 - val_accuracy: 0.8929\n",
      "Epoch 17/50\n",
      "34/34 [==============================] - 0s 4ms/step - loss: 0.4610 - accuracy: 0.9293 - val_loss: 0.5532 - val_accuracy: 0.8929\n",
      "Epoch 18/50\n",
      "34/34 [==============================] - 0s 5ms/step - loss: 0.4515 - accuracy: 0.9283 - val_loss: 0.5319 - val_accuracy: 0.8929\n",
      "Epoch 19/50\n",
      "34/34 [==============================] - 0s 4ms/step - loss: 0.4122 - accuracy: 0.9470 - val_loss: 0.5135 - val_accuracy: 0.8929\n",
      "Epoch 20/50\n",
      "34/34 [==============================] - 0s 4ms/step - loss: 0.3812 - accuracy: 0.9464 - val_loss: 0.4918 - val_accuracy: 0.8929\n",
      "Epoch 21/50\n",
      "34/34 [==============================] - 0s 8ms/step - loss: 0.3867 - accuracy: 0.9329 - val_loss: 0.4856 - val_accuracy: 0.8750\n",
      "Epoch 22/50\n",
      "34/34 [==============================] - 0s 4ms/step - loss: 0.3701 - accuracy: 0.9355 - val_loss: 0.4663 - val_accuracy: 0.8839\n",
      "Epoch 23/50\n",
      "34/34 [==============================] - 0s 3ms/step - loss: 0.3536 - accuracy: 0.9405 - val_loss: 0.4464 - val_accuracy: 0.8839\n",
      "Epoch 24/50\n",
      "34/34 [==============================] - 0s 5ms/step - loss: 0.3435 - accuracy: 0.9501 - val_loss: 0.4368 - val_accuracy: 0.8839\n",
      "Epoch 25/50\n",
      "34/34 [==============================] - 0s 6ms/step - loss: 0.3173 - accuracy: 0.9604 - val_loss: 0.4325 - val_accuracy: 0.8839\n",
      "Epoch 26/50\n",
      "34/34 [==============================] - 0s 4ms/step - loss: 0.3182 - accuracy: 0.9524 - val_loss: 0.4196 - val_accuracy: 0.8929\n",
      "Epoch 27/50\n",
      "34/34 [==============================] - 0s 3ms/step - loss: 0.2826 - accuracy: 0.9630 - val_loss: 0.4119 - val_accuracy: 0.8750\n",
      "Epoch 28/50\n",
      "34/34 [==============================] - 0s 4ms/step - loss: 0.2733 - accuracy: 0.9627 - val_loss: 0.3997 - val_accuracy: 0.8750\n",
      "Epoch 29/50\n",
      "34/34 [==============================] - 0s 5ms/step - loss: 0.2754 - accuracy: 0.9629 - val_loss: 0.3965 - val_accuracy: 0.8839\n",
      "Epoch 30/50\n",
      "34/34 [==============================] - 0s 6ms/step - loss: 0.2501 - accuracy: 0.9655 - val_loss: 0.3941 - val_accuracy: 0.8750\n",
      "Epoch 31/50\n",
      "34/34 [==============================] - 0s 4ms/step - loss: 0.2309 - accuracy: 0.9704 - val_loss: 0.3925 - val_accuracy: 0.8750\n",
      "Epoch 32/50\n",
      "34/34 [==============================] - 0s 3ms/step - loss: 0.2390 - accuracy: 0.9695 - val_loss: 0.3805 - val_accuracy: 0.8750\n",
      "Epoch 33/50\n",
      "34/34 [==============================] - 0s 3ms/step - loss: 0.2141 - accuracy: 0.9807 - val_loss: 0.3725 - val_accuracy: 0.8750\n",
      "Epoch 34/50\n",
      "34/34 [==============================] - 0s 3ms/step - loss: 0.2304 - accuracy: 0.9778 - val_loss: 0.3725 - val_accuracy: 0.8839\n",
      "Epoch 35/50\n",
      "34/34 [==============================] - 0s 3ms/step - loss: 0.1942 - accuracy: 0.9908 - val_loss: 0.3672 - val_accuracy: 0.8750\n",
      "Epoch 36/50\n",
      "34/34 [==============================] - 0s 4ms/step - loss: 0.1907 - accuracy: 0.9818 - val_loss: 0.3643 - val_accuracy: 0.8839\n",
      "Epoch 37/50\n",
      "34/34 [==============================] - 0s 7ms/step - loss: 0.1843 - accuracy: 0.9910 - val_loss: 0.3628 - val_accuracy: 0.8839\n",
      "Epoch 38/50\n",
      "34/34 [==============================] - 0s 6ms/step - loss: 0.1753 - accuracy: 0.9874 - val_loss: 0.3596 - val_accuracy: 0.8839\n",
      "Epoch 39/50\n",
      "34/34 [==============================] - 0s 3ms/step - loss: 0.1833 - accuracy: 0.9868 - val_loss: 0.3527 - val_accuracy: 0.8839\n",
      "Epoch 40/50\n",
      "34/34 [==============================] - 0s 3ms/step - loss: 0.1580 - accuracy: 0.9922 - val_loss: 0.3471 - val_accuracy: 0.8750\n",
      "Epoch 41/50\n",
      "34/34 [==============================] - 0s 6ms/step - loss: 0.1674 - accuracy: 0.9890 - val_loss: 0.3515 - val_accuracy: 0.8750\n",
      "Epoch 42/50\n",
      "34/34 [==============================] - 0s 5ms/step - loss: 0.1662 - accuracy: 0.9908 - val_loss: 0.3403 - val_accuracy: 0.8839\n",
      "Epoch 43/50\n",
      "34/34 [==============================] - 0s 3ms/step - loss: 0.1639 - accuracy: 0.9848 - val_loss: 0.3414 - val_accuracy: 0.8839\n",
      "Epoch 44/50\n",
      "34/34 [==============================] - 0s 3ms/step - loss: 0.1570 - accuracy: 0.9855 - val_loss: 0.3360 - val_accuracy: 0.8839\n",
      "Epoch 45/50\n",
      "34/34 [==============================] - 0s 3ms/step - loss: 0.1426 - accuracy: 0.9911 - val_loss: 0.3346 - val_accuracy: 0.8839\n",
      "Epoch 46/50\n",
      "34/34 [==============================] - 0s 3ms/step - loss: 0.1395 - accuracy: 0.9902 - val_loss: 0.3310 - val_accuracy: 0.8839\n",
      "Epoch 47/50\n",
      "34/34 [==============================] - 0s 4ms/step - loss: 0.1403 - accuracy: 0.9917 - val_loss: 0.3287 - val_accuracy: 0.8839\n",
      "Epoch 48/50\n",
      "34/34 [==============================] - 0s 5ms/step - loss: 0.1358 - accuracy: 0.9918 - val_loss: 0.3312 - val_accuracy: 0.8929\n",
      "Epoch 49/50\n",
      "34/34 [==============================] - 0s 7ms/step - loss: 0.1361 - accuracy: 0.9904 - val_loss: 0.3280 - val_accuracy: 0.8929\n",
      "Epoch 50/50\n",
      "34/34 [==============================] - 0s 6ms/step - loss: 0.1225 - accuracy: 0.9953 - val_loss: 0.3283 - val_accuracy: 0.8929\n"
     ]
    }
   ],
   "source": [
    "evaluation=nn.fit(X_train, y_train, batch_size = 30,validation_split = 0.1, epochs = 50)"
   ]
  },
  {
   "cell_type": "code",
   "execution_count": 104,
   "metadata": {
    "id": "3u9VWVVDCe3e",
    "outputId": "9755f18c-8d03-4d5f-d6b0-4bead435235d"
   },
   "outputs": [],
   "source": [
    "y_pred=nn.predict_classes(X_test)"
   ]
  },
  {
   "cell_type": "code",
   "execution_count": 105,
   "metadata": {},
   "outputs": [
    {
     "data": {
      "text/plain": [
       "array([1, 5, 8, 6, 1, 8, 6, 8, 8, 6, 1, 6, 6, 9, 5, 0, 8, 1, 9, 4, 6, 2,\n",
       "       8, 3, 0, 2, 8, 9, 0, 1, 2, 8, 6, 9, 1, 2, 4, 1, 7, 2, 7, 8, 8, 7,\n",
       "       6, 0, 6, 1, 0, 3, 3, 8, 4, 4, 1, 0, 1, 9, 0, 6, 4, 0, 9, 5, 7, 0,\n",
       "       6, 8, 7, 2, 2, 7, 7, 8, 1, 3, 2, 5, 9, 7, 1, 6, 6, 8, 9, 1, 8, 5,\n",
       "       3, 8, 5, 8, 6, 7, 6, 7, 9, 2, 4, 3, 9, 0, 6, 2, 7, 4, 4, 0, 2, 1,\n",
       "       6, 9, 8, 1, 3, 2, 0, 9, 7, 7, 3, 0, 0, 6, 6, 5, 4, 0, 5, 6, 8, 8,\n",
       "       1, 1, 3, 4, 9, 3, 9, 3, 4, 8, 2, 2, 4, 3, 1, 6, 2, 7, 3, 2, 1, 2,\n",
       "       8, 3, 0, 4, 8, 1, 8, 1, 4, 8, 2, 1, 3, 4, 3, 6, 1, 9, 4, 8, 7, 9,\n",
       "       9, 4, 5, 0, 1, 5, 6, 2, 5, 8, 6, 9, 1, 5, 7, 1, 6, 1, 5, 6, 0, 5,\n",
       "       1, 5, 8, 5, 5, 7, 1, 5, 7, 9, 3, 3, 4, 0, 7, 5, 9, 8, 7, 3, 2, 0,\n",
       "       1, 2, 9, 2, 9, 7, 8, 7, 9, 7, 2, 3, 1, 1, 8, 6, 6, 6, 9, 9, 1, 8,\n",
       "       8, 6, 7, 4, 4, 8, 0, 4, 3, 3, 2, 8, 9, 5, 8, 5, 3, 9, 3, 5, 4, 1,\n",
       "       1, 6, 1, 4, 9, 6, 9, 0, 5, 6, 5, 8, 6, 8, 4, 9, 6, 7, 5, 0, 1, 2,\n",
       "       4, 4, 4, 2, 5, 5, 6, 8, 1, 4, 9, 6, 8, 1, 0, 3, 9, 8, 2, 0, 6, 0,\n",
       "       3, 5, 8, 6, 6, 5, 3, 0, 5, 0, 4, 4, 5, 0, 2, 8, 3, 3, 2, 0, 4, 2,\n",
       "       1, 0, 2, 9, 3, 9, 4, 7, 0, 6, 9, 0, 7, 9, 5, 4, 8, 0, 6, 4, 3, 5,\n",
       "       3, 3, 8, 1, 0, 3, 8, 3, 8, 0, 0, 1, 4, 0, 6, 1, 2, 3, 2, 3, 8, 5,\n",
       "       1, 4, 7, 9, 3, 5, 0, 6, 3, 1, 0, 5, 9, 2, 6, 0, 1, 9, 9, 3, 9, 1,\n",
       "       1, 4, 4, 4, 0, 3, 3, 3, 3, 9, 7, 2, 1, 3, 0, 3, 2, 9, 2, 6, 3, 6,\n",
       "       9, 0, 5, 7, 6, 1, 5, 6, 0, 0, 1, 6, 7, 5, 8, 4, 1, 1, 0, 6, 8, 1,\n",
       "       6, 3, 5, 3, 7, 6, 4, 9, 6, 1, 7, 8, 3, 3, 9, 3, 5, 0, 9, 6, 7, 5,\n",
       "       1, 0, 7, 1, 6, 8, 1, 1, 1, 7, 1, 2, 8, 8, 9, 3], dtype=int64)"
      ]
     },
     "execution_count": 105,
     "metadata": {},
     "output_type": "execute_result"
    }
   ],
   "source": [
    "y_pred"
   ]
  },
  {
   "cell_type": "code",
   "execution_count": 106,
   "metadata": {},
   "outputs": [
    {
     "name": "stdout",
     "output_type": "stream",
     "text": [
      "35/35 [==============================] - 0s 2ms/step - loss: 0.1439 - accuracy: 0.9830\n",
      "15/15 [==============================] - 0s 997us/step - loss: 0.3199 - accuracy: 0.9100\n"
     ]
    }
   ],
   "source": [
    "# evaluate the model\n",
    "_, train_acc = nn.evaluate(X_train, y_train)\n",
    "_, test_acc = nn.evaluate(X_test,y_test )\n"
   ]
  },
  {
   "cell_type": "code",
   "execution_count": 107,
   "metadata": {},
   "outputs": [
    {
     "name": "stdout",
     "output_type": "stream",
     "text": [
      "Train Accuracy: 0.983\n",
      "Test Accuracy: 0.910\n"
     ]
    }
   ],
   "source": [
    "print('Train Accuracy: %.3f' % train_acc)\n",
    "print('Test Accuracy: %.3f' %  test_acc)"
   ]
  },
  {
   "cell_type": "code",
   "execution_count": 108,
   "metadata": {},
   "outputs": [],
   "source": [
    "\n",
    "#import tensorflow from keras.utils import to_categorical\n",
    "#test_pred=to_categorical(y_pred)\n",
    "#y_pred\n",
    "\n",
    "y_pred1=tf.keras.utils.to_categorical(y_pred)\n"
   ]
  },
  {
   "cell_type": "code",
   "execution_count": 66,
   "metadata": {},
   "outputs": [
    {
     "data": {
      "text/plain": [
       "(478, 10)"
      ]
     },
     "execution_count": 66,
     "metadata": {},
     "output_type": "execute_result"
    }
   ],
   "source": [
    "y_pred1.shape\n",
    "\n",
    "#y_pred1 = y_pred1.astype(np.int32)"
   ]
  },
  {
   "cell_type": "code",
   "execution_count": 59,
   "metadata": {},
   "outputs": [
    {
     "data": {
      "text/plain": [
       "(478, 10)"
      ]
     },
     "execution_count": 59,
     "metadata": {},
     "output_type": "execute_result"
    }
   ],
   "source": [
    "y_test.shape"
   ]
  },
  {
   "cell_type": "code",
   "execution_count": 109,
   "metadata": {},
   "outputs": [
    {
     "name": "stdout",
     "output_type": "stream",
     "text": [
      "Accuracy: 0.910\n",
      "              precision    recall  f1-score   support\n",
      "\n",
      "           0       0.96      0.96      0.96        49\n",
      "           1       0.89      0.93      0.91        58\n",
      "           2       0.89      0.89      0.89        38\n",
      "           3       0.85      0.90      0.87        50\n",
      "           4       0.90      0.93      0.91        40\n",
      "           5       0.98      0.91      0.94        45\n",
      "           6       0.93      0.98      0.95        53\n",
      "           7       0.92      0.87      0.89        38\n",
      "           8       0.94      0.93      0.94        55\n",
      "           9       0.85      0.79      0.82        52\n",
      "\n",
      "   micro avg       0.91      0.91      0.91       478\n",
      "   macro avg       0.91      0.91      0.91       478\n",
      "weighted avg       0.91      0.91      0.91       478\n",
      " samples avg       0.91      0.91      0.91       478\n",
      "\n"
     ]
    }
   ],
   "source": [
    "# Calculate accuracy, precision and recall using metrics package on the test set\n",
    "#YOUR CODE GOES HERE -- YOU MAY GET A DIFFERENT ACCURACY AND PRECISION/RECALL\n",
    "from sklearn.metrics import accuracy_score\n",
    "accuracy=accuracy_score(y_test,y_pred1)\n",
    "print('Accuracy: %.3f' % accuracy)\n",
    "print(metrics.classification_report(y_test,y_pred1))\n"
   ]
  },
  {
   "cell_type": "code",
   "execution_count": 110,
   "metadata": {},
   "outputs": [],
   "source": [
    "mat=tf.math.confusion_matrix(labels=y_test.argmax(axis=1),predictions=y_pred1.argmax(axis=1)).numpy()\n"
   ]
  },
  {
   "cell_type": "code",
   "execution_count": 111,
   "metadata": {},
   "outputs": [],
   "source": [
    "classes=[0,1,2,3,4,5,6,7,8,9]\n",
    "mat = np.around(mat.astype('float') / mat.sum(axis=1)[:, np.newaxis], decimals=2)\n",
    "\n",
    "mat_df = pd.DataFrame(mat,\n",
    "                     index = classes, \n",
    "                     columns = classes)"
   ]
  },
  {
   "cell_type": "code",
   "execution_count": 112,
   "metadata": {},
   "outputs": [
    {
     "data": {
      "image/png": "[encoded data removed]",
      "text/plain": [
       "<Figure size 432x432 with 2 Axes>"
      ]
     },
     "metadata": {
      "needs_background": "light"
     },
     "output_type": "display_data"
    }
   ],
   "source": [
    "figure = plt.figure(figsize=(6, 6))\n",
    "sns.heatmap(mat_df, annot=True,cmap=plt.cm.Blues)\n",
    "plt.tight_layout()\n",
    "plt.ylabel('True label')\n",
    "plt.xlabel('Predicted label')\n",
    "plt.show()"
   ]
  },
  {
   "cell_type": "code",
   "execution_count": 52,
   "metadata": {},
   "outputs": [
    {
     "data": {
      "text/plain": [
       "array([[0., 1., 0., ..., 0., 0., 0.],\n",
       "       [0., 0., 0., ..., 0., 0., 0.],\n",
       "       [0., 0., 0., ..., 0., 1., 0.],\n",
       "       ...,\n",
       "       [0., 0., 0., ..., 0., 1., 0.],\n",
       "       [0., 0., 0., ..., 0., 0., 1.],\n",
       "       [0., 0., 0., ..., 0., 0., 0.]], dtype=float32)"
      ]
     },
     "execution_count": 52,
     "metadata": {},
     "output_type": "execute_result"
    }
   ],
   "source": [
    "#y_pred1\n",
    "#y_pred1 = y_pred1.astype({'a': np.int64})\n",
    "#y_pred1.dtypes\n",
    "y_pred1"
   ]
  },
  {
   "cell_type": "code",
   "execution_count": 40,
   "metadata": {},
   "outputs": [
    {
     "data": {
      "text/plain": [
       "array([[0, 1, 0, ..., 0, 0, 0],\n",
       "       [0, 0, 0, ..., 0, 0, 0],\n",
       "       [0, 0, 0, ..., 0, 1, 0],\n",
       "       ...,\n",
       "       [0, 0, 0, ..., 0, 1, 0],\n",
       "       [0, 0, 0, ..., 0, 0, 1],\n",
       "       [0, 0, 0, ..., 0, 0, 0]], dtype=int64)"
      ]
     },
     "execution_count": 40,
     "metadata": {},
     "output_type": "execute_result"
    }
   ],
   "source": [
    "y_test"
   ]
  },
  {
   "cell_type": "code",
   "execution_count": 113,
   "metadata": {
    "id": "2yOl37tECe3i",
    "outputId": "b112190d-dd42-4d7f-a27b-7a0d9abc8a81"
   },
   "outputs": [
    {
     "data": {
      "image/png": "[encoded data removed]",
      "text/plain": [
       "<Figure size 576x360 with 1 Axes>"
      ]
     },
     "metadata": {
      "needs_background": "light"
     },
     "output_type": "display_data"
    }
   ],
   "source": [
    "# Function to plot accuracy vs epoch graph\n",
    "# help function given to you if you would like to use it.\n",
    "\n",
    "plot_accgraph(evaluation,20)"
   ]
  },
  {
   "cell_type": "markdown",
   "metadata": {
    "id": "tfOPT_UsCe3k"
   },
   "source": [
    "<h1> REPEAT WITH Training with 50 hidden units </h1>"
   ]
  },
  {
   "cell_type": "code",
   "execution_count": 116,
   "metadata": {
    "id": "8p1NyymTHIUP"
   },
   "outputs": [
    {
     "name": "stdout",
     "output_type": "stream",
     "text": [
      "Epoch 1/50\n",
      "34/34 [==============================] - 1s 7ms/step - loss: 2.3659 - accuracy: 0.1128 - val_loss: 2.0841 - val_accuracy: 0.3750\n",
      "Epoch 2/50\n",
      "34/34 [==============================] - 0s 4ms/step - loss: 2.0466 - accuracy: 0.4033 - val_loss: 1.8419 - val_accuracy: 0.4821\n",
      "Epoch 3/50\n",
      "34/34 [==============================] - 0s 4ms/step - loss: 1.7710 - accuracy: 0.6377 - val_loss: 1.5674 - val_accuracy: 0.6875\n",
      "Epoch 4/50\n",
      "34/34 [==============================] - 0s 3ms/step - loss: 1.5031 - accuracy: 0.7411 - val_loss: 1.3411 - val_accuracy: 0.8036\n",
      "Epoch 5/50\n",
      "34/34 [==============================] - 0s 3ms/step - loss: 1.2730 - accuracy: 0.8132 - val_loss: 1.1348 - val_accuracy: 0.8661\n",
      "Epoch 6/50\n",
      "34/34 [==============================] - 0s 3ms/step - loss: 1.0854 - accuracy: 0.8251 - val_loss: 1.0067 - val_accuracy: 0.8214\n",
      "Epoch 7/50\n",
      "34/34 [==============================] - 0s 7ms/step - loss: 0.9330 - accuracy: 0.8467 - val_loss: 0.8889 - val_accuracy: 0.8750\n",
      "Epoch 8/50\n",
      "34/34 [==============================] - 0s 5ms/step - loss: 0.8041 - accuracy: 0.8681 - val_loss: 0.7722 - val_accuracy: 0.8839\n",
      "Epoch 9/50\n",
      "34/34 [==============================] - 0s 3ms/step - loss: 0.7238 - accuracy: 0.8847 - val_loss: 0.7270 - val_accuracy: 0.8750\n",
      "Epoch 10/50\n",
      "34/34 [==============================] - 0s 3ms/step - loss: 0.6438 - accuracy: 0.8868 - val_loss: 0.6477 - val_accuracy: 0.8750\n",
      "Epoch 11/50\n",
      "34/34 [==============================] - 0s 6ms/step - loss: 0.5584 - accuracy: 0.9176 - val_loss: 0.5987 - val_accuracy: 0.8839\n",
      "Epoch 12/50\n",
      "34/34 [==============================] - 0s 4ms/step - loss: 0.5249 - accuracy: 0.9113 - val_loss: 0.5520 - val_accuracy: 0.9018\n",
      "Epoch 13/50\n",
      "34/34 [==============================] - 0s 4ms/step - loss: 0.4620 - accuracy: 0.9232 - val_loss: 0.5202 - val_accuracy: 0.9018\n",
      "Epoch 14/50\n",
      "34/34 [==============================] - 0s 4ms/step - loss: 0.4469 - accuracy: 0.9202 - val_loss: 0.4973 - val_accuracy: 0.8839\n",
      "Epoch 15/50\n",
      "34/34 [==============================] - 0s 3ms/step - loss: 0.3997 - accuracy: 0.9256 - val_loss: 0.4688 - val_accuracy: 0.9107\n",
      "Epoch 16/50\n",
      "34/34 [==============================] - 0s 3ms/step - loss: 0.3768 - accuracy: 0.9343 - val_loss: 0.4526 - val_accuracy: 0.9018\n",
      "Epoch 17/50\n",
      "34/34 [==============================] - 0s 4ms/step - loss: 0.3467 - accuracy: 0.9248 - val_loss: 0.4370 - val_accuracy: 0.9018\n",
      "Epoch 18/50\n",
      "34/34 [==============================] - 0s 3ms/step - loss: 0.3359 - accuracy: 0.9497 - val_loss: 0.4213 - val_accuracy: 0.9018\n",
      "Epoch 19/50\n",
      "34/34 [==============================] - 0s 3ms/step - loss: 0.3121 - accuracy: 0.9344 - val_loss: 0.4144 - val_accuracy: 0.9018\n",
      "Epoch 20/50\n",
      "34/34 [==============================] - 0s 3ms/step - loss: 0.2842 - accuracy: 0.9546 - val_loss: 0.3944 - val_accuracy: 0.9107\n",
      "Epoch 21/50\n",
      "34/34 [==============================] - 0s 3ms/step - loss: 0.2872 - accuracy: 0.9528 - val_loss: 0.3901 - val_accuracy: 0.9107\n",
      "Epoch 22/50\n",
      "34/34 [==============================] - 0s 14ms/step - loss: 0.2703 - accuracy: 0.9525 - val_loss: 0.3824 - val_accuracy: 0.9107\n",
      "Epoch 23/50\n",
      "34/34 [==============================] - 0s 4ms/step - loss: 0.2602 - accuracy: 0.9589 - val_loss: 0.3736 - val_accuracy: 0.9018\n",
      "Epoch 24/50\n",
      "34/34 [==============================] - 0s 5ms/step - loss: 0.2487 - accuracy: 0.9490 - val_loss: 0.3597 - val_accuracy: 0.9107\n",
      "Epoch 25/50\n",
      "34/34 [==============================] - 0s 4ms/step - loss: 0.2320 - accuracy: 0.9710 - val_loss: 0.3570 - val_accuracy: 0.9018\n",
      "Epoch 26/50\n",
      "34/34 [==============================] - 0s 5ms/step - loss: 0.2298 - accuracy: 0.9632 - val_loss: 0.3428 - val_accuracy: 0.9018\n",
      "Epoch 27/50\n",
      "34/34 [==============================] - 0s 5ms/step - loss: 0.2198 - accuracy: 0.9692 - val_loss: 0.3465 - val_accuracy: 0.9107\n",
      "Epoch 28/50\n",
      "34/34 [==============================] - 0s 4ms/step - loss: 0.2049 - accuracy: 0.9730 - val_loss: 0.3423 - val_accuracy: 0.9107\n",
      "Epoch 29/50\n",
      "34/34 [==============================] - 0s 5ms/step - loss: 0.2066 - accuracy: 0.9653 - val_loss: 0.3356 - val_accuracy: 0.9107\n",
      "Epoch 30/50\n",
      "34/34 [==============================] - 0s 4ms/step - loss: 0.1768 - accuracy: 0.9782 - val_loss: 0.3320 - val_accuracy: 0.9018\n",
      "Epoch 31/50\n",
      "34/34 [==============================] - 0s 3ms/step - loss: 0.1737 - accuracy: 0.9870 - val_loss: 0.3294 - val_accuracy: 0.9018\n",
      "Epoch 32/50\n",
      "34/34 [==============================] - 0s 5ms/step - loss: 0.1701 - accuracy: 0.9777 - val_loss: 0.3205 - val_accuracy: 0.9107\n",
      "Epoch 33/50\n",
      "34/34 [==============================] - 0s 3ms/step - loss: 0.1688 - accuracy: 0.9791 - val_loss: 0.3216 - val_accuracy: 0.9196\n",
      "Epoch 34/50\n",
      "34/34 [==============================] - 0s 5ms/step - loss: 0.1490 - accuracy: 0.9845 - val_loss: 0.3155 - val_accuracy: 0.9107\n",
      "Epoch 35/50\n",
      "34/34 [==============================] - 0s 4ms/step - loss: 0.1632 - accuracy: 0.9795 - val_loss: 0.3085 - val_accuracy: 0.9107\n",
      "Epoch 36/50\n",
      "34/34 [==============================] - 0s 5ms/step - loss: 0.1437 - accuracy: 0.9857 - val_loss: 0.3067 - val_accuracy: 0.9018\n",
      "Epoch 37/50\n",
      "34/34 [==============================] - 0s 3ms/step - loss: 0.1426 - accuracy: 0.9810 - val_loss: 0.3041 - val_accuracy: 0.9107\n",
      "Epoch 38/50\n",
      "34/34 [==============================] - 0s 3ms/step - loss: 0.1308 - accuracy: 0.9883 - val_loss: 0.3029 - val_accuracy: 0.9107\n",
      "Epoch 39/50\n",
      "34/34 [==============================] - 0s 3ms/step - loss: 0.1321 - accuracy: 0.9896 - val_loss: 0.2966 - val_accuracy: 0.9107\n",
      "Epoch 40/50\n",
      "34/34 [==============================] - 0s 3ms/step - loss: 0.1259 - accuracy: 0.9938 - val_loss: 0.3092 - val_accuracy: 0.9107\n",
      "Epoch 41/50\n",
      "34/34 [==============================] - 0s 4ms/step - loss: 0.1257 - accuracy: 0.9909 - val_loss: 0.2985 - val_accuracy: 0.9107\n",
      "Epoch 42/50\n",
      "34/34 [==============================] - 0s 5ms/step - loss: 0.1191 - accuracy: 0.9924 - val_loss: 0.3008 - val_accuracy: 0.9107\n",
      "Epoch 43/50\n",
      "34/34 [==============================] - 0s 3ms/step - loss: 0.1239 - accuracy: 0.9952 - val_loss: 0.2897 - val_accuracy: 0.9107\n",
      "Epoch 44/50\n",
      "34/34 [==============================] - 0s 3ms/step - loss: 0.1115 - accuracy: 0.9910 - val_loss: 0.2958 - val_accuracy: 0.9107\n",
      "Epoch 45/50\n",
      "34/34 [==============================] - 0s 3ms/step - loss: 0.1080 - accuracy: 0.9954 - val_loss: 0.2912 - val_accuracy: 0.9107\n",
      "Epoch 46/50\n",
      "34/34 [==============================] - 0s 4ms/step - loss: 0.1072 - accuracy: 0.9916 - val_loss: 0.2889 - val_accuracy: 0.9107\n",
      "Epoch 47/50\n",
      "34/34 [==============================] - 0s 4ms/step - loss: 0.1072 - accuracy: 0.9948 - val_loss: 0.2903 - val_accuracy: 0.9107\n",
      "Epoch 48/50\n",
      "34/34 [==============================] - 0s 6ms/step - loss: 0.1047 - accuracy: 0.9967 - val_loss: 0.2856 - val_accuracy: 0.9107\n",
      "Epoch 49/50\n",
      "34/34 [==============================] - 0s 8ms/step - loss: 0.1026 - accuracy: 0.9891 - val_loss: 0.2855 - val_accuracy: 0.9107\n",
      "Epoch 50/50\n",
      "34/34 [==============================] - 0s 5ms/step - loss: 0.0955 - accuracy: 0.9964 - val_loss: 0.2880 - val_accuracy: 0.9107\n"
     ]
    },
    {
     "data": {
      "text/plain": [
       "<tensorflow.python.keras.callbacks.History at 0x1f5100038c8>"
      ]
     },
     "execution_count": 116,
     "metadata": {},
     "output_type": "execute_result"
    }
   ],
   "source": [
    "nn50=tf.keras.models.Sequential()\n",
    "\n",
    "nn50.add(tf.keras.layers.Dense(units=50, activation='sigmoid',use_bias=True,bias_initializer=bias_initializer))\n",
    "nn50.add(tf.keras.layers.Dense(units=10, activation='sigmoid',use_bias=True,bias_initializer=bias_initializer))\n",
    "#optimizer=keras.optimizers.SGD(lr=0.1)\n",
    "nn50.compile(optimizer = optimizer,loss = 'categorical_crossentropy', metrics = ['accuracy'])\n",
    "nn50.fit(X_train, y_train, batch_size = 30,validation_split = 0.1, epochs = 50)"
   ]
  },
  {
   "cell_type": "code",
   "execution_count": 117,
   "metadata": {},
   "outputs": [],
   "source": [
    "y_pred50=nn50.predict_classes(X_test)"
   ]
  },
  {
   "cell_type": "code",
   "execution_count": 118,
   "metadata": {},
   "outputs": [
    {
     "name": "stdout",
     "output_type": "stream",
     "text": [
      "35/35 [==============================] - 0s 2ms/step - loss: 0.1137 - accuracy: 0.9865\n",
      "15/15 [==============================] - 0s 997us/step - loss: 0.3029 - accuracy: 0.8996\n"
     ]
    }
   ],
   "source": [
    "# evaluate the model\n",
    "_, train_acc = nn50.evaluate(X_train, y_train)\n",
    "_, test_acc = nn50.evaluate(X_test,y_test )"
   ]
  },
  {
   "cell_type": "code",
   "execution_count": 119,
   "metadata": {},
   "outputs": [
    {
     "name": "stdout",
     "output_type": "stream",
     "text": [
      "Train Accuracy: 0.987\n",
      "Test Accuracy: 0.900\n"
     ]
    }
   ],
   "source": [
    "print('Train Accuracy: %.3f' % train_acc)\n",
    "print('Test Accuracy: %.3f' %  test_acc)"
   ]
  },
  {
   "cell_type": "code",
   "execution_count": 120,
   "metadata": {},
   "outputs": [
    {
     "name": "stdout",
     "output_type": "stream",
     "text": [
      "Accuracy: 0.910\n",
      "              precision    recall  f1-score   support\n",
      "\n",
      "           0       0.96      0.96      0.96        49\n",
      "           1       0.89      0.93      0.91        58\n",
      "           2       0.89      0.89      0.89        38\n",
      "           3       0.85      0.90      0.87        50\n",
      "           4       0.90      0.93      0.91        40\n",
      "           5       0.98      0.91      0.94        45\n",
      "           6       0.93      0.98      0.95        53\n",
      "           7       0.92      0.87      0.89        38\n",
      "           8       0.94      0.93      0.94        55\n",
      "           9       0.85      0.79      0.82        52\n",
      "\n",
      "   micro avg       0.91      0.91      0.91       478\n",
      "   macro avg       0.91      0.91      0.91       478\n",
      "weighted avg       0.91      0.91      0.91       478\n",
      " samples avg       0.91      0.91      0.91       478\n",
      "\n"
     ]
    }
   ],
   "source": [
    "y_pred1=tf.keras.utils.to_categorical(y_pred)\n",
    "# Calculate accuracy, precision and recall using metrics package on the test set\n",
    "#YOUR CODE GOES HERE -- YOU MAY GET A DIFFERENT ACCURACY AND PRECISION/RECALL\n",
    "from sklearn.metrics import accuracy_score\n",
    "accuracy=accuracy_score(y_test,y_pred1)\n",
    "print('Accuracy: %.3f' % accuracy)\n",
    "print(metrics.classification_report(y_test,y_pred1))"
   ]
  },
  {
   "cell_type": "code",
   "execution_count": 121,
   "metadata": {},
   "outputs": [
    {
     "data": {
      "image/png": "[encoded data removed]",
      "text/plain": [
       "<Figure size 432x432 with 2 Axes>"
      ]
     },
     "metadata": {
      "needs_background": "light"
     },
     "output_type": "display_data"
    }
   ],
   "source": [
    "mat=tf.math.confusion_matrix(labels=y_test.argmax(axis=1),predictions=y_pred1.argmax(axis=1)).numpy()\n",
    "classes=[0,1,2,3,4,5,6,7,8,9]\n",
    "mat = np.around(mat.astype('float') / mat.sum(axis=1)[:, np.newaxis], decimals=2)\n",
    "\n",
    "mat_df = pd.DataFrame(mat,\n",
    "                     index = classes, \n",
    "                     columns = classes)\n",
    "figure = plt.figure(figsize=(6, 6))\n",
    "sns.heatmap(mat_df, annot=True,cmap=plt.cm.Blues)\n",
    "plt.tight_layout()\n",
    "plt.ylabel('True label')\n",
    "plt.xlabel('Predicted label')\n",
    "plt.show()"
   ]
  },
  {
   "cell_type": "code",
   "execution_count": 122,
   "metadata": {},
   "outputs": [
    {
     "data": {
      "image/png": "[encoded data removed]",
      "text/plain": [
       "<Figure size 576x360 with 1 Axes>"
      ]
     },
     "metadata": {
      "needs_background": "light"
     },
     "output_type": "display_data"
    }
   ],
   "source": [
    "plot_accgraph(evaluation,20)"
   ]
  },
  {
   "cell_type": "markdown",
   "metadata": {
    "id": "cIC79qpoCe4A"
   },
   "source": [
    "<h1> REPEAT WITH Training with 100 hidden units </h1>"
   ]
  },
  {
   "cell_type": "code",
   "execution_count": 123,
   "metadata": {
    "id": "bQL1FIbXHLRV"
   },
   "outputs": [
    {
     "name": "stdout",
     "output_type": "stream",
     "text": [
      "Epoch 1/50\n",
      "112/112 [==============================] - 1s 3ms/step - loss: 2.2695 - accuracy: 0.1829 - val_loss: 1.6648 - val_accuracy: 0.2679\n",
      "Epoch 2/50\n",
      "112/112 [==============================] - 0s 3ms/step - loss: 1.2416 - accuracy: 0.6779 - val_loss: 0.8952 - val_accuracy: 0.7589\n",
      "Epoch 3/50\n",
      "112/112 [==============================] - 0s 2ms/step - loss: 0.7228 - accuracy: 0.8484 - val_loss: 0.5980 - val_accuracy: 0.8393\n",
      "Epoch 4/50\n",
      "112/112 [==============================] - 0s 2ms/step - loss: 0.5133 - accuracy: 0.8820 - val_loss: 0.4618 - val_accuracy: 0.9286\n",
      "Epoch 5/50\n",
      "112/112 [==============================] - 0s 2ms/step - loss: 0.3544 - accuracy: 0.9254 - val_loss: 0.4100 - val_accuracy: 0.9107\n",
      "Epoch 6/50\n",
      "112/112 [==============================] - 0s 2ms/step - loss: 0.2980 - accuracy: 0.9382 - val_loss: 0.3628 - val_accuracy: 0.9107\n",
      "Epoch 7/50\n",
      "112/112 [==============================] - 0s 2ms/step - loss: 0.2394 - accuracy: 0.9480 - val_loss: 0.3431 - val_accuracy: 0.9286\n",
      "Epoch 8/50\n",
      "112/112 [==============================] - 0s 2ms/step - loss: 0.1988 - accuracy: 0.9645 - val_loss: 0.3048 - val_accuracy: 0.9196\n",
      "Epoch 9/50\n",
      "112/112 [==============================] - 0s 2ms/step - loss: 0.1814 - accuracy: 0.9735 - val_loss: 0.3043 - val_accuracy: 0.9107\n",
      "Epoch 10/50\n",
      "112/112 [==============================] - 0s 4ms/step - loss: 0.1548 - accuracy: 0.9789 - val_loss: 0.2864 - val_accuracy: 0.9196\n",
      "Epoch 11/50\n",
      "112/112 [==============================] - 0s 4ms/step - loss: 0.1602 - accuracy: 0.9778 - val_loss: 0.2818 - val_accuracy: 0.9018\n",
      "Epoch 12/50\n",
      "112/112 [==============================] - 0s 3ms/step - loss: 0.1359 - accuracy: 0.9832 - val_loss: 0.2648 - val_accuracy: 0.9196\n",
      "Epoch 13/50\n",
      "112/112 [==============================] - 0s 2ms/step - loss: 0.1158 - accuracy: 0.9900 - val_loss: 0.2516 - val_accuracy: 0.9196\n",
      "Epoch 14/50\n",
      "112/112 [==============================] - 0s 2ms/step - loss: 0.0962 - accuracy: 0.9935 - val_loss: 0.2626 - val_accuracy: 0.9196\n",
      "Epoch 15/50\n",
      "112/112 [==============================] - 0s 3ms/step - loss: 0.0885 - accuracy: 0.9948 - val_loss: 0.2628 - val_accuracy: 0.9286\n",
      "Epoch 16/50\n",
      "112/112 [==============================] - 0s 2ms/step - loss: 0.0843 - accuracy: 0.9922 - val_loss: 0.2509 - val_accuracy: 0.9107\n",
      "Epoch 17/50\n",
      "112/112 [==============================] - 0s 2ms/step - loss: 0.0724 - accuracy: 0.9981 - val_loss: 0.2437 - val_accuracy: 0.9196\n",
      "Epoch 18/50\n",
      "112/112 [==============================] - 0s 3ms/step - loss: 0.0705 - accuracy: 0.9958 - val_loss: 0.2508 - val_accuracy: 0.9107\n",
      "Epoch 19/50\n",
      "112/112 [==============================] - 0s 2ms/step - loss: 0.0641 - accuracy: 0.9990 - val_loss: 0.2384 - val_accuracy: 0.9196\n",
      "Epoch 20/50\n",
      "112/112 [==============================] - 0s 2ms/step - loss: 0.0574 - accuracy: 0.9995 - val_loss: 0.2400 - val_accuracy: 0.9196\n",
      "Epoch 21/50\n",
      "112/112 [==============================] - 0s 2ms/step - loss: 0.0519 - accuracy: 0.9998 - val_loss: 0.2311 - val_accuracy: 0.9286\n",
      "Epoch 22/50\n",
      "112/112 [==============================] - 0s 2ms/step - loss: 0.0499 - accuracy: 1.0000 - val_loss: 0.2399 - val_accuracy: 0.9196\n",
      "Epoch 23/50\n",
      "112/112 [==============================] - 0s 2ms/step - loss: 0.0486 - accuracy: 0.9948 - val_loss: 0.2420 - val_accuracy: 0.9196\n",
      "Epoch 24/50\n",
      "112/112 [==============================] - 0s 2ms/step - loss: 0.0418 - accuracy: 0.9989 - val_loss: 0.2452 - val_accuracy: 0.9107\n",
      "Epoch 25/50\n",
      "112/112 [==============================] - 0s 2ms/step - loss: 0.0418 - accuracy: 0.9996 - val_loss: 0.2421 - val_accuracy: 0.9196\n",
      "Epoch 26/50\n",
      "112/112 [==============================] - 0s 3ms/step - loss: 0.0371 - accuracy: 1.0000 - val_loss: 0.2348 - val_accuracy: 0.9196\n",
      "Epoch 27/50\n",
      "112/112 [==============================] - 0s 2ms/step - loss: 0.0358 - accuracy: 1.0000 - val_loss: 0.2318 - val_accuracy: 0.9107\n",
      "Epoch 28/50\n",
      "112/112 [==============================] - 0s 2ms/step - loss: 0.0345 - accuracy: 1.0000 - val_loss: 0.2235 - val_accuracy: 0.9196\n",
      "Epoch 29/50\n",
      "112/112 [==============================] - 0s 2ms/step - loss: 0.0339 - accuracy: 1.0000 - val_loss: 0.2270 - val_accuracy: 0.9196\n",
      "Epoch 30/50\n",
      "112/112 [==============================] - 0s 2ms/step - loss: 0.0321 - accuracy: 1.0000 - val_loss: 0.2310 - val_accuracy: 0.9196\n",
      "Epoch 31/50\n",
      "112/112 [==============================] - 0s 2ms/step - loss: 0.0298 - accuracy: 1.0000 - val_loss: 0.2308 - val_accuracy: 0.9107\n",
      "Epoch 32/50\n",
      "112/112 [==============================] - 0s 2ms/step - loss: 0.0279 - accuracy: 1.0000 - val_loss: 0.2364 - val_accuracy: 0.9107\n",
      "Epoch 33/50\n",
      "112/112 [==============================] - 0s 3ms/step - loss: 0.0289 - accuracy: 1.0000 - val_loss: 0.2326 - val_accuracy: 0.9107\n",
      "Epoch 34/50\n",
      "112/112 [==============================] - 0s 2ms/step - loss: 0.0262 - accuracy: 1.0000 - val_loss: 0.2367 - val_accuracy: 0.9107\n",
      "Epoch 35/50\n",
      "112/112 [==============================] - 0s 3ms/step - loss: 0.0255 - accuracy: 1.0000 - val_loss: 0.2284 - val_accuracy: 0.9107\n",
      "Epoch 36/50\n",
      "112/112 [==============================] - 0s 2ms/step - loss: 0.0245 - accuracy: 1.0000 - val_loss: 0.2317 - val_accuracy: 0.9107\n",
      "Epoch 37/50\n",
      "112/112 [==============================] - 0s 2ms/step - loss: 0.0234 - accuracy: 1.0000 - val_loss: 0.2326 - val_accuracy: 0.9107\n",
      "Epoch 38/50\n",
      "112/112 [==============================] - 0s 1ms/step - loss: 0.0249 - accuracy: 1.0000 - val_loss: 0.2293 - val_accuracy: 0.9107\n",
      "Epoch 39/50\n",
      "112/112 [==============================] - 0s 1ms/step - loss: 0.0230 - accuracy: 1.0000 - val_loss: 0.2385 - val_accuracy: 0.9107\n",
      "Epoch 40/50\n",
      "112/112 [==============================] - 0s 2ms/step - loss: 0.0202 - accuracy: 1.0000 - val_loss: 0.2380 - val_accuracy: 0.9107\n",
      "Epoch 41/50\n",
      "112/112 [==============================] - 0s 2ms/step - loss: 0.0219 - accuracy: 1.0000 - val_loss: 0.2403 - val_accuracy: 0.9107\n",
      "Epoch 42/50\n",
      "112/112 [==============================] - 0s 2ms/step - loss: 0.0209 - accuracy: 1.0000 - val_loss: 0.2342 - val_accuracy: 0.9107\n",
      "Epoch 43/50\n",
      "112/112 [==============================] - 0s 4ms/step - loss: 0.0185 - accuracy: 1.0000 - val_loss: 0.2303 - val_accuracy: 0.9107\n",
      "Epoch 44/50\n",
      "112/112 [==============================] - 0s 4ms/step - loss: 0.0185 - accuracy: 1.0000 - val_loss: 0.2437 - val_accuracy: 0.9107\n",
      "Epoch 45/50\n",
      "112/112 [==============================] - 0s 4ms/step - loss: 0.0180 - accuracy: 1.0000 - val_loss: 0.2323 - val_accuracy: 0.9107\n",
      "Epoch 46/50\n",
      "112/112 [==============================] - 0s 3ms/step - loss: 0.0163 - accuracy: 1.0000 - val_loss: 0.2366 - val_accuracy: 0.9107\n",
      "Epoch 47/50\n",
      "112/112 [==============================] - 0s 2ms/step - loss: 0.0183 - accuracy: 1.0000 - val_loss: 0.2344 - val_accuracy: 0.9107\n",
      "Epoch 48/50\n",
      "112/112 [==============================] - 0s 2ms/step - loss: 0.0164 - accuracy: 1.0000 - val_loss: 0.2292 - val_accuracy: 0.9107\n",
      "Epoch 49/50\n",
      "112/112 [==============================] - 0s 3ms/step - loss: 0.0154 - accuracy: 1.0000 - val_loss: 0.2385 - val_accuracy: 0.9107\n",
      "Epoch 50/50\n",
      "112/112 [==============================] - 0s 2ms/step - loss: 0.0141 - accuracy: 1.0000 - val_loss: 0.2312 - val_accuracy: 0.9107\n"
     ]
    },
    {
     "data": {
      "text/plain": [
       "<tensorflow.python.keras.callbacks.History at 0x1f50f772488>"
      ]
     },
     "execution_count": 123,
     "metadata": {},
     "output_type": "execute_result"
    }
   ],
   "source": [
    "nn100=tf.keras.models.Sequential()\n",
    "\n",
    "nn100.add(tf.keras.layers.Dense(units=100, activation='sigmoid',use_bias=True,bias_initializer=bias_initializer))\n",
    "nn100.add(tf.keras.layers.Dense(units=10, activation='sigmoid',use_bias=True,bias_initializer=bias_initializer))\n",
    "#optimizer=keras.optimizers.SGD(lr=0.1)\n",
    "nn100.compile(optimizer = optimizer,loss = 'categorical_crossentropy', metrics = ['accuracy'])\n",
    "nn100.fit(X_train, y_train, batch_size = 9,validation_split = 0.1, epochs = 50)"
   ]
  },
  {
   "cell_type": "code",
   "execution_count": 124,
   "metadata": {},
   "outputs": [],
   "source": [
    "y_pred100=nn100.predict_classes(X_test)"
   ]
  },
  {
   "cell_type": "code",
   "execution_count": 125,
   "metadata": {},
   "outputs": [
    {
     "name": "stdout",
     "output_type": "stream",
     "text": [
      "35/35 [==============================] - 0s 1ms/step - loss: 0.1137 - accuracy: 0.9865\n",
      "15/15 [==============================] - 0s 926us/step - loss: 0.3029 - accuracy: 0.8996\n"
     ]
    }
   ],
   "source": [
    "# evaluate the model\n",
    "_, train_acc = nn50.evaluate(X_train, y_train)\n",
    "_, test_acc = nn50.evaluate(X_test,y_test )"
   ]
  },
  {
   "cell_type": "code",
   "execution_count": 126,
   "metadata": {},
   "outputs": [
    {
     "name": "stdout",
     "output_type": "stream",
     "text": [
      "Train Accuracy: 0.987\n",
      "Test Accuracy: 0.900\n"
     ]
    }
   ],
   "source": [
    "print('Train Accuracy: %.3f' % train_acc)\n",
    "print('Test Accuracy: %.3f' %  test_acc)"
   ]
  },
  {
   "cell_type": "code",
   "execution_count": 127,
   "metadata": {},
   "outputs": [
    {
     "name": "stdout",
     "output_type": "stream",
     "text": [
      "Accuracy: 0.910\n",
      "              precision    recall  f1-score   support\n",
      "\n",
      "           0       0.96      0.96      0.96        49\n",
      "           1       0.89      0.93      0.91        58\n",
      "           2       0.89      0.89      0.89        38\n",
      "           3       0.85      0.90      0.87        50\n",
      "           4       0.90      0.93      0.91        40\n",
      "           5       0.98      0.91      0.94        45\n",
      "           6       0.93      0.98      0.95        53\n",
      "           7       0.92      0.87      0.89        38\n",
      "           8       0.94      0.93      0.94        55\n",
      "           9       0.85      0.79      0.82        52\n",
      "\n",
      "   micro avg       0.91      0.91      0.91       478\n",
      "   macro avg       0.91      0.91      0.91       478\n",
      "weighted avg       0.91      0.91      0.91       478\n",
      " samples avg       0.91      0.91      0.91       478\n",
      "\n"
     ]
    }
   ],
   "source": [
    "y_pred1=tf.keras.utils.to_categorical(y_pred)\n",
    "# Calculate accuracy, precision and recall using metrics package on the test set\n",
    "#YOUR CODE GOES HERE -- YOU MAY GET A DIFFERENT ACCURACY AND PRECISION/RECALL\n",
    "from sklearn.metrics import accuracy_score\n",
    "accuracy=accuracy_score(y_test,y_pred1)\n",
    "print('Accuracy: %.3f' % accuracy)\n",
    "print(metrics.classification_report(y_test,y_pred1))"
   ]
  },
  {
   "cell_type": "code",
   "execution_count": 128,
   "metadata": {},
   "outputs": [
    {
     "data": {
      "image/png": "[encoded data removed]",
      "text/plain": [
       "<Figure size 432x432 with 2 Axes>"
      ]
     },
     "metadata": {
      "needs_background": "light"
     },
     "output_type": "display_data"
    }
   ],
   "source": [
    "mat=tf.math.confusion_matrix(labels=y_test.argmax(axis=1),predictions=y_pred1.argmax(axis=1)).numpy()\n",
    "classes=[0,1,2,3,4,5,6,7,8,9]\n",
    "mat = np.around(mat.astype('float') / mat.sum(axis=1)[:, np.newaxis], decimals=2)\n",
    "\n",
    "mat_df = pd.DataFrame(mat,\n",
    "                     index = classes, \n",
    "                     columns = classes)\n",
    "figure = plt.figure(figsize=(6, 6))\n",
    "sns.heatmap(mat_df, annot=True,cmap=plt.cm.Blues)\n",
    "plt.tight_layout()\n",
    "plt.ylabel('True label')\n",
    "plt.xlabel('Predicted label')\n",
    "plt.show()"
   ]
  },
  {
   "cell_type": "code",
   "execution_count": 129,
   "metadata": {},
   "outputs": [
    {
     "data": {
      "image/png": "[encoded data removed]",
      "text/plain": [
       "<Figure size 576x360 with 1 Axes>"
      ]
     },
     "metadata": {
      "needs_background": "light"
     },
     "output_type": "display_data"
    }
   ],
   "source": [
    "plot_accgraph(evaluation,20)"
   ]
  },
  {
   "cell_type": "code",
   "execution_count": null,
   "metadata": {},
   "outputs": [],
   "source": [
    "For 20\n",
    "Train Accuracy: 0.983\n",
    "Test Accuracy: 0.910\n",
    "    \n",
    "for 50\n",
    "Train Accuracy: 0.987\n",
    "Test Accuracy: 0.900\n",
    "    \n",
    "For 100\n",
    "Train Accuracy: 0.987\n",
    "Test Accuracy: 0.900"
   ]
  },
  {
   "cell_type": "markdown",
   "metadata": {
    "id": "Qj-ogjj2Ce4g"
   },
   "source": [
    "<h3> Discuss your results in at least 50 words. How does number of hidden units affect the final accuracy on the test data? </h3>\n",
    "    \n",
    "There is not a significant difference if we compare all the three models with different hidden unit. We can see as we increase the number of hidden units , accuracy for the training dataset is almost set to 100%. Since we do not see much difference with the increase in the hidden unit, we can use another method like increasing the hidden layer, choosing different activation function, changing learning rate and so forth to see prominet difference."
   ]
  },
  {
   "cell_type": "markdown",
   "metadata": {
    "id": "88UVdasfCe4g"
   },
   "source": [
    "<h3> Discuss your results in at least 50 words. How does number of hidden units affect number of epochs needed for training to converge?</h3>\n",
    "\n",
    "If we compare all the three results we see that as we increase the number of units, the convergence is better. Loss is less for 100 hidden units as compared to 20. Another thing I noticed was as we increase the hidden unit, run time also increases. So we can say, more the hidden units, better the convergence"
   ]
  },
  {
   "cell_type": "markdown",
   "metadata": {
    "id": "XY5jfdkBCe4h"
   },
   "source": [
    "<h3> Discuss your results in at least 50 words: Is there any evidence that any of your networks overfit to the training data? If so, what is the evidence? </h3>\n",
    "\n",
    "There is overfitting issues in the network, if we see the accuracy vs epoch plot there is difference between the the two line, More the difference, its a robust evidence that model has overfitting issues. \n"
   ]
  },
  {
   "cell_type": "markdown",
   "metadata": {
    "id": "TqhJd7oyCe5b"
   },
   "source": [
    "# Extra Credit - increasing accuracy of best model \n",
    "\n",
    "Question 2 (Extra credit = 5 points total): Experiment with features and hyperparameters of the model to increase the accuracy of the best model from previous experiments. You should increase the accuracy by at least 10% to receive this extra credit. Document what changes you needed to make to achieve these results. \n",
    "\n"
   ]
  },
  {
   "cell_type": "code",
   "execution_count": 252,
   "metadata": {},
   "outputs": [],
   "source": [
    "optimizer=keras.optimizers.Adam(learning_rate=0.01)\n",
    "bias_initializer=tf.keras.initializers.Ones()"
   ]
  },
  {
   "cell_type": "code",
   "execution_count": 253,
   "metadata": {
    "id": "wDO_7MLUGyuD"
   },
   "outputs": [
    {
     "name": "stdout",
     "output_type": "stream",
     "text": [
      "Epoch 1/170\n",
      "38/38 [==============================] - 0s 2ms/step - loss: 2.1419 - accuracy: 0.2722\n",
      "Epoch 2/170\n",
      "38/38 [==============================] - 0s 2ms/step - loss: 0.5742 - accuracy: 0.8708\n",
      "Epoch 3/170\n",
      "38/38 [==============================] - 0s 2ms/step - loss: 0.2223 - accuracy: 0.9471\n",
      "Epoch 4/170\n",
      "38/38 [==============================] - 0s 2ms/step - loss: 0.1368 - accuracy: 0.9764\n",
      "Epoch 5/170\n",
      "38/38 [==============================] - 0s 2ms/step - loss: 0.0487 - accuracy: 0.9984\n",
      "Epoch 6/170\n",
      "38/38 [==============================] - 0s 3ms/step - loss: 0.0395 - accuracy: 0.9956\n",
      "Epoch 7/170\n",
      "38/38 [==============================] - 0s 2ms/step - loss: 0.0221 - accuracy: 0.9989\n",
      "Epoch 8/170\n",
      "38/38 [==============================] - 0s 2ms/step - loss: 0.0139 - accuracy: 1.0000\n",
      "Epoch 9/170\n",
      "38/38 [==============================] - 0s 2ms/step - loss: 0.0091 - accuracy: 1.0000\n",
      "Epoch 10/170\n",
      "38/38 [==============================] - 0s 2ms/step - loss: 0.0070 - accuracy: 1.0000\n",
      "Epoch 11/170\n",
      "38/38 [==============================] - 0s 2ms/step - loss: 0.0055 - accuracy: 1.0000\n",
      "Epoch 12/170\n",
      "38/38 [==============================] - 0s 2ms/step - loss: 0.0045 - accuracy: 1.0000\n",
      "Epoch 13/170\n",
      "38/38 [==============================] - 0s 2ms/step - loss: 0.0040 - accuracy: 1.0000\n",
      "Epoch 14/170\n",
      "38/38 [==============================] - 0s 2ms/step - loss: 0.0035 - accuracy: 1.0000\n",
      "Epoch 15/170\n",
      "38/38 [==============================] - 0s 2ms/step - loss: 0.0028 - accuracy: 1.0000\n",
      "Epoch 16/170\n",
      "38/38 [==============================] - 0s 2ms/step - loss: 0.0025 - accuracy: 1.0000\n",
      "Epoch 17/170\n",
      "38/38 [==============================] - 0s 2ms/step - loss: 0.0024 - accuracy: 1.0000\n",
      "Epoch 18/170\n",
      "38/38 [==============================] - 0s 2ms/step - loss: 0.0021 - accuracy: 1.0000\n",
      "Epoch 19/170\n",
      "38/38 [==============================] - 0s 2ms/step - loss: 0.0020 - accuracy: 1.0000\n",
      "Epoch 20/170\n",
      "38/38 [==============================] - 0s 2ms/step - loss: 0.0017 - accuracy: 1.0000\n",
      "Epoch 21/170\n",
      "38/38 [==============================] - 0s 2ms/step - loss: 0.0017 - accuracy: 1.0000\n",
      "Epoch 22/170\n",
      "38/38 [==============================] - 0s 2ms/step - loss: 0.0016 - accuracy: 1.0000\n",
      "Epoch 23/170\n",
      "38/38 [==============================] - 0s 2ms/step - loss: 0.0015 - accuracy: 1.0000\n",
      "Epoch 24/170\n",
      "38/38 [==============================] - 0s 2ms/step - loss: 0.0013 - accuracy: 1.0000\n",
      "Epoch 25/170\n",
      "38/38 [==============================] - 0s 2ms/step - loss: 0.0012 - accuracy: 1.0000\n",
      "Epoch 26/170\n",
      "38/38 [==============================] - 0s 2ms/step - loss: 0.0010 - accuracy: 1.0000\n",
      "Epoch 27/170\n",
      "38/38 [==============================] - 0s 2ms/step - loss: 0.0010 - accuracy: 1.0000\n",
      "Epoch 28/170\n",
      "38/38 [==============================] - 0s 2ms/step - loss: 9.3734e-04 - accuracy: 1.0000\n",
      "Epoch 29/170\n",
      "38/38 [==============================] - 0s 2ms/step - loss: 9.0276e-04 - accuracy: 1.0000\n",
      "Epoch 30/170\n",
      "38/38 [==============================] - 0s 2ms/step - loss: 8.0954e-04 - accuracy: 1.0000\n",
      "Epoch 31/170\n",
      "38/38 [==============================] - 0s 2ms/step - loss: 7.6888e-04 - accuracy: 1.0000\n",
      "Epoch 32/170\n",
      "38/38 [==============================] - 0s 2ms/step - loss: 7.2843e-04 - accuracy: 1.0000\n",
      "Epoch 33/170\n",
      "38/38 [==============================] - 0s 2ms/step - loss: 7.2712e-04 - accuracy: 1.0000\n",
      "Epoch 34/170\n",
      "38/38 [==============================] - 0s 2ms/step - loss: 6.5765e-04 - accuracy: 1.0000\n",
      "Epoch 35/170\n",
      "38/38 [==============================] - 0s 2ms/step - loss: 6.3970e-04 - accuracy: 1.0000\n",
      "Epoch 36/170\n",
      "38/38 [==============================] - 0s 2ms/step - loss: 5.8592e-04 - accuracy: 1.0000\n",
      "Epoch 37/170\n",
      "38/38 [==============================] - 0s 2ms/step - loss: 5.6796e-04 - accuracy: 1.0000\n",
      "Epoch 38/170\n",
      "38/38 [==============================] - 0s 2ms/step - loss: 5.4582e-04 - accuracy: 1.0000\n",
      "Epoch 39/170\n",
      "38/38 [==============================] - 0s 2ms/step - loss: 4.9274e-04 - accuracy: 1.0000\n",
      "Epoch 40/170\n",
      "38/38 [==============================] - 0s 2ms/step - loss: 4.6700e-04 - accuracy: 1.0000\n",
      "Epoch 41/170\n",
      "38/38 [==============================] - 0s 3ms/step - loss: 4.2466e-04 - accuracy: 1.0000\n",
      "Epoch 42/170\n",
      "38/38 [==============================] - 0s 2ms/step - loss: 4.2826e-04 - accuracy: 1.0000\n",
      "Epoch 43/170\n",
      "38/38 [==============================] - 0s 2ms/step - loss: 4.3617e-04 - accuracy: 1.0000\n",
      "Epoch 44/170\n",
      "38/38 [==============================] - 0s 2ms/step - loss: 3.8352e-04 - accuracy: 1.0000\n",
      "Epoch 45/170\n",
      "38/38 [==============================] - 0s 2ms/step - loss: 3.9206e-04 - accuracy: 1.0000\n",
      "Epoch 46/170\n",
      "38/38 [==============================] - 0s 2ms/step - loss: 3.4974e-04 - accuracy: 1.0000\n",
      "Epoch 47/170\n",
      "38/38 [==============================] - 0s 2ms/step - loss: 3.3776e-04 - accuracy: 1.0000\n",
      "Epoch 48/170\n",
      "38/38 [==============================] - 0s 2ms/step - loss: 3.2742e-04 - accuracy: 1.0000\n",
      "Epoch 49/170\n",
      "38/38 [==============================] - 0s 2ms/step - loss: 3.1953e-04 - accuracy: 1.0000\n",
      "Epoch 50/170\n",
      "38/38 [==============================] - 0s 2ms/step - loss: 2.9725e-04 - accuracy: 1.0000\n",
      "Epoch 51/170\n",
      "38/38 [==============================] - 0s 2ms/step - loss: 2.7661e-04 - accuracy: 1.0000\n",
      "Epoch 52/170\n",
      "38/38 [==============================] - 0s 2ms/step - loss: 2.8513e-04 - accuracy: 1.0000\n",
      "Epoch 53/170\n",
      "38/38 [==============================] - 0s 3ms/step - loss: 2.8907e-04 - accuracy: 1.0000\n",
      "Epoch 54/170\n",
      "38/38 [==============================] - 0s 2ms/step - loss: 2.6396e-04 - accuracy: 1.0000\n",
      "Epoch 55/170\n",
      "38/38 [==============================] - 0s 2ms/step - loss: 2.5107e-04 - accuracy: 1.0000\n",
      "Epoch 56/170\n",
      "38/38 [==============================] - 0s 2ms/step - loss: 2.3634e-04 - accuracy: 1.0000\n",
      "Epoch 57/170\n",
      "38/38 [==============================] - 0s 2ms/step - loss: 2.5399e-04 - accuracy: 1.0000\n",
      "Epoch 58/170\n",
      "38/38 [==============================] - 0s 2ms/step - loss: 2.2094e-04 - accuracy: 1.0000\n",
      "Epoch 59/170\n",
      "38/38 [==============================] - 0s 2ms/step - loss: 2.1698e-04 - accuracy: 1.0000\n",
      "Epoch 60/170\n",
      "38/38 [==============================] - 0s 2ms/step - loss: 2.0795e-04 - accuracy: 1.0000\n",
      "Epoch 61/170\n",
      "38/38 [==============================] - 0s 2ms/step - loss: 2.0351e-04 - accuracy: 1.0000\n",
      "Epoch 62/170\n",
      "38/38 [==============================] - 0s 2ms/step - loss: 1.9271e-04 - accuracy: 1.0000\n",
      "Epoch 63/170\n",
      "38/38 [==============================] - 0s 2ms/step - loss: 1.8705e-04 - accuracy: 1.0000\n",
      "Epoch 64/170\n",
      "38/38 [==============================] - 0s 2ms/step - loss: 1.6984e-04 - accuracy: 1.0000\n",
      "Epoch 65/170\n",
      "38/38 [==============================] - 0s 2ms/step - loss: 1.8036e-04 - accuracy: 1.0000\n",
      "Epoch 66/170\n",
      "38/38 [==============================] - 0s 3ms/step - loss: 1.8299e-04 - accuracy: 1.0000\n",
      "Epoch 67/170\n",
      "38/38 [==============================] - 0s 2ms/step - loss: 1.6895e-04 - accuracy: 1.0000\n",
      "Epoch 68/170\n",
      "38/38 [==============================] - 0s 2ms/step - loss: 1.5502e-04 - accuracy: 1.0000\n",
      "Epoch 69/170\n",
      "38/38 [==============================] - 0s 2ms/step - loss: 1.4528e-04 - accuracy: 1.0000\n",
      "Epoch 70/170\n",
      "38/38 [==============================] - 0s 2ms/step - loss: 1.5559e-04 - accuracy: 1.0000\n",
      "Epoch 71/170\n",
      "38/38 [==============================] - 0s 2ms/step - loss: 1.5158e-04 - accuracy: 1.0000\n",
      "Epoch 72/170\n",
      "38/38 [==============================] - 0s 2ms/step - loss: 1.4162e-04 - accuracy: 1.0000\n",
      "Epoch 73/170\n",
      "38/38 [==============================] - 0s 2ms/step - loss: 1.4411e-04 - accuracy: 1.0000\n",
      "Epoch 74/170\n",
      "38/38 [==============================] - 0s 2ms/step - loss: 1.3719e-04 - accuracy: 1.0000\n",
      "Epoch 75/170\n",
      "38/38 [==============================] - 0s 2ms/step - loss: 1.2085e-04 - accuracy: 1.0000\n",
      "Epoch 76/170\n",
      "38/38 [==============================] - 0s 2ms/step - loss: 1.3214e-04 - accuracy: 1.0000\n",
      "Epoch 77/170\n",
      "38/38 [==============================] - 0s 2ms/step - loss: 1.2481e-04 - accuracy: 1.0000\n",
      "Epoch 78/170\n",
      "38/38 [==============================] - 0s 2ms/step - loss: 1.0986e-04 - accuracy: 1.0000\n",
      "Epoch 79/170\n",
      "38/38 [==============================] - 0s 3ms/step - loss: 1.1250e-04 - accuracy: 1.0000\n",
      "Epoch 80/170\n",
      "38/38 [==============================] - 0s 2ms/step - loss: 1.0272e-04 - accuracy: 1.0000\n",
      "Epoch 81/170\n",
      "38/38 [==============================] - 0s 2ms/step - loss: 1.0685e-04 - accuracy: 1.0000\n",
      "Epoch 82/170\n",
      "38/38 [==============================] - 0s 1ms/step - loss: 1.0426e-04 - accuracy: 1.0000\n",
      "Epoch 83/170\n",
      "38/38 [==============================] - 0s 1ms/step - loss: 9.9791e-05 - accuracy: 1.0000\n",
      "Epoch 84/170\n",
      "38/38 [==============================] - 0s 1ms/step - loss: 1.0060e-04 - accuracy: 1.0000\n",
      "Epoch 85/170\n",
      "38/38 [==============================] - 0s 1ms/step - loss: 9.9031e-05 - accuracy: 1.0000\n",
      "Epoch 86/170\n",
      "38/38 [==============================] - 0s 2ms/step - loss: 8.7787e-05 - accuracy: 1.0000\n",
      "Epoch 87/170\n",
      "38/38 [==============================] - 0s 1ms/step - loss: 8.7319e-05 - accuracy: 1.0000\n",
      "Epoch 88/170\n",
      "38/38 [==============================] - 0s 1ms/step - loss: 9.1959e-05 - accuracy: 1.0000\n",
      "Epoch 89/170\n",
      "38/38 [==============================] - 0s 1ms/step - loss: 8.3064e-05 - accuracy: 1.0000\n",
      "Epoch 90/170\n",
      "38/38 [==============================] - 0s 2ms/step - loss: 7.5871e-05 - accuracy: 1.0000\n",
      "Epoch 91/170\n",
      "38/38 [==============================] - 0s 2ms/step - loss: 7.9564e-05 - accuracy: 1.0000\n",
      "Epoch 92/170\n",
      "38/38 [==============================] - 0s 2ms/step - loss: 7.6788e-05 - accuracy: 1.0000\n",
      "Epoch 93/170\n",
      "38/38 [==============================] - 0s 2ms/step - loss: 7.9795e-05 - accuracy: 1.0000\n",
      "Epoch 94/170\n",
      "38/38 [==============================] - 0s 2ms/step - loss: 7.4570e-05 - accuracy: 1.0000\n",
      "Epoch 95/170\n",
      "38/38 [==============================] - 0s 2ms/step - loss: 7.0222e-05 - accuracy: 1.0000\n",
      "Epoch 96/170\n",
      "38/38 [==============================] - 0s 1ms/step - loss: 6.9055e-05 - accuracy: 1.0000\n",
      "Epoch 97/170\n",
      "38/38 [==============================] - 0s 1ms/step - loss: 7.1453e-05 - accuracy: 1.0000\n",
      "Epoch 98/170\n",
      "38/38 [==============================] - 0s 1ms/step - loss: 7.0221e-05 - accuracy: 1.0000\n",
      "Epoch 99/170\n",
      "38/38 [==============================] - 0s 1ms/step - loss: 6.4140e-05 - accuracy: 1.0000\n",
      "Epoch 100/170\n",
      "38/38 [==============================] - 0s 1ms/step - loss: 6.0774e-05 - accuracy: 1.0000\n",
      "Epoch 101/170\n",
      "38/38 [==============================] - 0s 2ms/step - loss: 6.2894e-05 - accuracy: 1.0000\n",
      "Epoch 102/170\n",
      "38/38 [==============================] - 0s 1ms/step - loss: 6.0099e-05 - accuracy: 1.0000\n",
      "Epoch 103/170\n",
      "38/38 [==============================] - 0s 2ms/step - loss: 5.9515e-05 - accuracy: 1.0000\n",
      "Epoch 104/170\n",
      "38/38 [==============================] - 0s 2ms/step - loss: 5.7950e-05 - accuracy: 1.0000\n",
      "Epoch 105/170\n",
      "38/38 [==============================] - 0s 2ms/step - loss: 5.2229e-05 - accuracy: 1.0000\n",
      "Epoch 106/170\n",
      "38/38 [==============================] - 0s 2ms/step - loss: 5.4043e-05 - accuracy: 1.0000\n",
      "Epoch 107/170\n",
      "38/38 [==============================] - 0s 2ms/step - loss: 4.9319e-05 - accuracy: 1.0000\n",
      "Epoch 108/170\n",
      "38/38 [==============================] - 0s 2ms/step - loss: 4.9795e-05 - accuracy: 1.0000\n",
      "Epoch 109/170\n",
      "38/38 [==============================] - 0s 1ms/step - loss: 5.2508e-05 - accuracy: 1.0000\n",
      "Epoch 110/170\n",
      "38/38 [==============================] - 0s 2ms/step - loss: 4.8488e-05 - accuracy: 1.0000\n",
      "Epoch 111/170\n",
      "38/38 [==============================] - 0s 2ms/step - loss: 4.7074e-05 - accuracy: 1.0000\n",
      "Epoch 112/170\n",
      "38/38 [==============================] - 0s 1ms/step - loss: 4.6777e-05 - accuracy: 1.0000\n",
      "Epoch 113/170\n",
      "38/38 [==============================] - 0s 1ms/step - loss: 4.6048e-05 - accuracy: 1.0000\n",
      "Epoch 114/170\n",
      "38/38 [==============================] - 0s 1ms/step - loss: 4.5329e-05 - accuracy: 1.0000\n",
      "Epoch 115/170\n",
      "38/38 [==============================] - 0s 1ms/step - loss: 4.5733e-05 - accuracy: 1.0000\n",
      "Epoch 116/170\n",
      "38/38 [==============================] - 0s 2ms/step - loss: 4.3512e-05 - accuracy: 1.0000\n",
      "Epoch 117/170\n",
      "38/38 [==============================] - 0s 2ms/step - loss: 4.0716e-05 - accuracy: 1.0000\n",
      "Epoch 118/170\n",
      "38/38 [==============================] - 0s 2ms/step - loss: 4.1103e-05 - accuracy: 1.0000\n",
      "Epoch 119/170\n",
      "38/38 [==============================] - 0s 2ms/step - loss: 3.8296e-05 - accuracy: 1.0000\n",
      "Epoch 120/170\n",
      "38/38 [==============================] - 0s 1ms/step - loss: 3.9323e-05 - accuracy: 1.0000\n",
      "Epoch 121/170\n",
      "38/38 [==============================] - 0s 1ms/step - loss: 3.5353e-05 - accuracy: 1.0000\n",
      "Epoch 122/170\n",
      "38/38 [==============================] - 0s 2ms/step - loss: 3.7205e-05 - accuracy: 1.0000\n",
      "Epoch 123/170\n",
      "38/38 [==============================] - 0s 2ms/step - loss: 3.7260e-05 - accuracy: 1.0000\n",
      "Epoch 124/170\n",
      "38/38 [==============================] - 0s 2ms/step - loss: 3.4230e-05 - accuracy: 1.0000\n",
      "Epoch 125/170\n",
      "38/38 [==============================] - 0s 2ms/step - loss: 3.2603e-05 - accuracy: 1.0000\n",
      "Epoch 126/170\n",
      "38/38 [==============================] - 0s 2ms/step - loss: 3.3883e-05 - accuracy: 1.0000\n",
      "Epoch 127/170\n",
      "38/38 [==============================] - 0s 1ms/step - loss: 3.4663e-05 - accuracy: 1.0000\n",
      "Epoch 128/170\n",
      "38/38 [==============================] - 0s 1ms/step - loss: 3.2613e-05 - accuracy: 1.0000\n",
      "Epoch 129/170\n",
      "38/38 [==============================] - 0s 1ms/step - loss: 3.1628e-05 - accuracy: 1.0000\n",
      "Epoch 130/170\n",
      "38/38 [==============================] - 0s 1ms/step - loss: 3.1663e-05 - accuracy: 1.0000\n",
      "Epoch 131/170\n",
      "38/38 [==============================] - 0s 1ms/step - loss: 3.1955e-05 - accuracy: 1.0000\n",
      "Epoch 132/170\n",
      "38/38 [==============================] - 0s 2ms/step - loss: 2.9236e-05 - accuracy: 1.0000\n",
      "Epoch 133/170\n",
      "38/38 [==============================] - 0s 1ms/step - loss: 3.0199e-05 - accuracy: 1.0000\n",
      "Epoch 134/170\n",
      "38/38 [==============================] - 0s 2ms/step - loss: 2.7114e-05 - accuracy: 1.0000\n",
      "Epoch 135/170\n",
      "38/38 [==============================] - 0s 2ms/step - loss: 2.5933e-05 - accuracy: 1.0000\n",
      "Epoch 136/170\n",
      "38/38 [==============================] - 0s 2ms/step - loss: 2.5065e-05 - accuracy: 1.0000\n",
      "Epoch 137/170\n",
      "38/38 [==============================] - 0s 2ms/step - loss: 2.5338e-05 - accuracy: 1.0000\n",
      "Epoch 138/170\n",
      "38/38 [==============================] - 0s 1ms/step - loss: 2.6045e-05 - accuracy: 1.0000\n",
      "Epoch 139/170\n",
      "38/38 [==============================] - 0s 2ms/step - loss: 2.5410e-05 - accuracy: 1.0000\n",
      "Epoch 140/170\n",
      "38/38 [==============================] - 0s 1ms/step - loss: 2.4870e-05 - accuracy: 1.0000\n",
      "Epoch 141/170\n",
      "38/38 [==============================] - 0s 2ms/step - loss: 2.3365e-05 - accuracy: 1.0000\n",
      "Epoch 142/170\n",
      "38/38 [==============================] - 0s 2ms/step - loss: 2.3499e-05 - accuracy: 1.0000\n",
      "Epoch 143/170\n",
      "38/38 [==============================] - 0s 1ms/step - loss: 2.1666e-05 - accuracy: 1.0000\n",
      "Epoch 144/170\n",
      "38/38 [==============================] - 0s 1ms/step - loss: 2.2321e-05 - accuracy: 1.0000\n",
      "Epoch 145/170\n",
      "38/38 [==============================] - 0s 1ms/step - loss: 2.0866e-05 - accuracy: 1.0000\n",
      "Epoch 146/170\n",
      "38/38 [==============================] - 0s 2ms/step - loss: 2.2317e-05 - accuracy: 1.0000\n",
      "Epoch 147/170\n",
      "38/38 [==============================] - 0s 2ms/step - loss: 2.0345e-05 - accuracy: 1.0000\n",
      "Epoch 148/170\n",
      "38/38 [==============================] - 0s 2ms/step - loss: 1.9081e-05 - accuracy: 1.0000\n",
      "Epoch 149/170\n",
      "38/38 [==============================] - 0s 2ms/step - loss: 1.8568e-05 - accuracy: 1.0000\n",
      "Epoch 150/170\n",
      "38/38 [==============================] - 0s 2ms/step - loss: 1.9817e-05 - accuracy: 1.0000\n",
      "Epoch 151/170\n",
      "38/38 [==============================] - 0s 2ms/step - loss: 1.8429e-05 - accuracy: 1.0000\n",
      "Epoch 152/170\n",
      "38/38 [==============================] - 0s 2ms/step - loss: 1.9329e-05 - accuracy: 1.0000\n",
      "Epoch 153/170\n",
      "38/38 [==============================] - 0s 1ms/step - loss: 1.7844e-05 - accuracy: 1.0000\n",
      "Epoch 154/170\n",
      "38/38 [==============================] - 0s 1ms/step - loss: 1.7536e-05 - accuracy: 1.0000\n",
      "Epoch 155/170\n",
      "38/38 [==============================] - 0s 1ms/step - loss: 1.6858e-05 - accuracy: 1.0000\n",
      "Epoch 156/170\n",
      "38/38 [==============================] - 0s 1ms/step - loss: 1.7227e-05 - accuracy: 1.0000\n",
      "Epoch 157/170\n",
      "38/38 [==============================] - 0s 2ms/step - loss: 1.5561e-05 - accuracy: 1.0000\n",
      "Epoch 158/170\n",
      "38/38 [==============================] - 0s 2ms/step - loss: 1.6056e-05 - accuracy: 1.0000\n",
      "Epoch 159/170\n",
      "38/38 [==============================] - 0s 2ms/step - loss: 1.5704e-05 - accuracy: 1.0000\n",
      "Epoch 160/170\n",
      "38/38 [==============================] - 0s 2ms/step - loss: 1.5483e-05 - accuracy: 1.0000\n",
      "Epoch 161/170\n",
      "38/38 [==============================] - 0s 2ms/step - loss: 1.4979e-05 - accuracy: 1.0000\n",
      "Epoch 162/170\n",
      "38/38 [==============================] - 0s 1ms/step - loss: 1.4912e-05 - accuracy: 1.0000\n",
      "Epoch 163/170\n",
      "38/38 [==============================] - 0s 1ms/step - loss: 1.5429e-05 - accuracy: 1.0000\n",
      "Epoch 164/170\n",
      "38/38 [==============================] - 0s 2ms/step - loss: 1.4904e-05 - accuracy: 1.0000\n",
      "Epoch 165/170\n",
      "38/38 [==============================] - 0s 2ms/step - loss: 1.3902e-05 - accuracy: 1.0000\n",
      "Epoch 166/170\n",
      "38/38 [==============================] - 0s 2ms/step - loss: 1.3930e-05 - accuracy: 1.0000\n",
      "Epoch 167/170\n",
      "38/38 [==============================] - 0s 2ms/step - loss: 1.4060e-05 - accuracy: 1.0000\n",
      "Epoch 168/170\n",
      "38/38 [==============================] - 0s 2ms/step - loss: 1.2622e-05 - accuracy: 1.0000\n",
      "Epoch 169/170\n",
      "38/38 [==============================] - 0s 2ms/step - loss: 1.2501e-05 - accuracy: 1.0000\n",
      "Epoch 170/170\n",
      "38/38 [==============================] - 0s 2ms/step - loss: 1.2278e-05 - accuracy: 1.0000\n"
     ]
    },
    {
     "data": {
      "text/plain": [
       "<tensorflow.python.keras.callbacks.History at 0x1f530815b08>"
      ]
     },
     "execution_count": 253,
     "metadata": {},
     "output_type": "execute_result"
    }
   ],
   "source": [
    "#YOUR CODE GOES HERE IF ATTEMPTED\n",
    "\n",
    "nnX=tf.keras.models.Sequential()\n",
    "\n",
    "nnX.add(tf.keras.layers.Dense(units=100, activation='sigmoid',use_bias=True,bias_initializer=bias_initializer))\n",
    "nnX.add(tf.keras.layers.Dense(units=100, activation='sigmoid',use_bias=True,bias_initializer=bias_initializer))\n",
    "nnX.add(tf.keras.layers.Dense(units=10, activation='softmax',use_bias=True,bias_initializer=bias_initializer))\n",
    "#optimizer=keras.optimizers.SGD(lr=0.1)\n",
    "nnX.compile(optimizer = optimizer,loss = 'categorical_crossentropy', metrics = ['accuracy'])\n",
    "nnX.fit(X_train, y_train, batch_size = 30, epochs = 170)"
   ]
  },
  {
   "cell_type": "code",
   "execution_count": 254,
   "metadata": {},
   "outputs": [
    {
     "name": "stdout",
     "output_type": "stream",
     "text": [
      "35/35 [==============================] - 0s 1ms/step - loss: 1.2171e-05 - accuracy: 1.0000\n",
      "15/15 [==============================] - 0s 998us/step - loss: 0.4548 - accuracy: 0.9184\n",
      "Train Accuracy: 1.000\n",
      "Test Accuracy: 0.918\n"
     ]
    }
   ],
   "source": [
    "y_predX=nnX.predict_classes(X_test)\n",
    "# evaluate the model\n",
    "_, train_acc = nnX.evaluate(X_train, y_train)\n",
    "_, test_acc = nnX.evaluate(X_test,y_test )\n",
    "\n",
    "print('Train Accuracy: %.3f' % train_acc)\n",
    "print('Test Accuracy: %.3f' %  test_acc)"
   ]
  },
  {
   "cell_type": "markdown",
   "metadata": {
    "id": "Xkgt8O31Ce5j"
   },
   "source": [
    "<h3> Document what changes you needed to make to achieve the results for extra credit. </h3>\n",
    "I had to add extra layer. \n",
    "batch size fixed at 30\n",
    "Optimizer: adam\n",
    "output activation function: softmax"
   ]
  }
 ],
 "metadata": {
  "colab": {
   "name": "neural_networks_assignment.ipynb",
   "provenance": []
  },
  "kernelspec": {
   "display_name": "Python 3",
   "language": "python",
   "name": "python3"
  },
  "language_info": {
   "codemirror_mode": {
    "name": "ipython",
    "version": 3
   },
   "file_extension": ".py",
   "mimetype": "text/x-python",
   "name": "python",
   "nbconvert_exporter": "python",
   "pygments_lexer": "ipython3",
   "version": "3.7.4"
  }
 },
 "nbformat": 4,
 "nbformat_minor": 1
}
