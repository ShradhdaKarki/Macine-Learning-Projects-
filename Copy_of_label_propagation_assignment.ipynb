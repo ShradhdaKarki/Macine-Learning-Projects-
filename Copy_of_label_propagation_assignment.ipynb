{
  "nbformat": 4,
  "nbformat_minor": 0,
  "metadata": {
    "kernelspec": {
      "display_name": "Python 3",
      "language": "python",
      "name": "python3"
    },
    "language_info": {
      "codemirror_mode": {
        "name": "ipython",
        "version": 3
      },
      "file_extension": ".py",
      "mimetype": "text/x-python",
      "name": "python",
      "nbconvert_exporter": "python",
      "pygments_lexer": "ipython3",
      "version": "3.8.5"
    },
    "colab": {
      "name": "Copy of label_propagation_assignment.ipynb",
      "provenance": []
    }
  },
  "cells": [
    {
      "cell_type": "code",
      "metadata": {
        "id": "yNSYuSyD4K_w"
      },
      "source": [
        "%matplotlib inline"
      ],
      "execution_count": null,
      "outputs": []
    },
    {
      "cell_type": "markdown",
      "metadata": {
        "id": "5xwoZO154K_w"
      },
      "source": [
        "\n",
        "# Assignment: Label Propagation\n",
        "\n",
        "Comparison for decision boundary generated on dataset\n",
        "between Label Propagation and another model, e.g. SVM.\n",
        "\n",
        "\n",
        "The assignment will require following code from this tutorial: https://scikit-learn.org/stable/auto_examples/semi_supervised/plot_semi_supervised_versus_svm_iris.html#sphx-glr-auto-examples-semi-supervised-plot-semi-supervised-versus-svm-iris-py\n",
        "\n",
        "\n",
        "First, study the code linked at the above tutorial. It shows the performance of Label Propagation in finding the boundaries between the classes in the IRIS dataset. And compares the performance against SVM. \n",
        "\n",
        "##Question 1 (2points): ##\n",
        "We will instead work on the WINE dataset. It is one of the standard datasets available in sklearn.\n",
        "Add code below to load the wine dataset and print its description.\n"
      ]
    },
    {
      "cell_type": "code",
      "metadata": {
        "colab": {
          "base_uri": "https://localhost:8080/"
        },
        "id": "2hxeS3na4K_w",
        "outputId": "b05ca730-429f-428f-82ea-eda84fd41052"
      },
      "source": [
        "import numpy as np\n",
        "import matplotlib.pyplot as plt\n",
        "from sklearn import datasets\n",
        "from sklearn import svm\n",
        "from sklearn.semi_supervised import LabelSpreading\n",
        "\n",
        "\n",
        "\n",
        "rng = np.random.RandomState(0)\n",
        "\n",
        "#YOUR CODE GOES HERE\n",
        "#SAMPLE OUTPUT SHOWN BELOW\n",
        "\n",
        "data=datasets.load_wine()\n",
        "\n",
        "data"
      ],
      "execution_count": null,
      "outputs": [
        {
          "output_type": "execute_result",
          "data": {
            "text/plain": [
              "{'DESCR': '.. _wine_dataset:\\n\\nWine recognition dataset\\n------------------------\\n\\n**Data Set Characteristics:**\\n\\n    :Number of Instances: 178 (50 in each of three classes)\\n    :Number of Attributes: 13 numeric, predictive attributes and the class\\n    :Attribute Information:\\n \\t\\t- Alcohol\\n \\t\\t- Malic acid\\n \\t\\t- Ash\\n\\t\\t- Alcalinity of ash  \\n \\t\\t- Magnesium\\n\\t\\t- Total phenols\\n \\t\\t- Flavanoids\\n \\t\\t- Nonflavanoid phenols\\n \\t\\t- Proanthocyanins\\n\\t\\t- Color intensity\\n \\t\\t- Hue\\n \\t\\t- OD280/OD315 of diluted wines\\n \\t\\t- Proline\\n\\n    - class:\\n            - class_0\\n            - class_1\\n            - class_2\\n\\t\\t\\n    :Summary Statistics:\\n    \\n    ============================= ==== ===== ======= =====\\n                                   Min   Max   Mean     SD\\n    ============================= ==== ===== ======= =====\\n    Alcohol:                      11.0  14.8    13.0   0.8\\n    Malic Acid:                   0.74  5.80    2.34  1.12\\n    Ash:                          1.36  3.23    2.36  0.27\\n    Alcalinity of Ash:            10.6  30.0    19.5   3.3\\n    Magnesium:                    70.0 162.0    99.7  14.3\\n    Total Phenols:                0.98  3.88    2.29  0.63\\n    Flavanoids:                   0.34  5.08    2.03  1.00\\n    Nonflavanoid Phenols:         0.13  0.66    0.36  0.12\\n    Proanthocyanins:              0.41  3.58    1.59  0.57\\n    Colour Intensity:              1.3  13.0     5.1   2.3\\n    Hue:                          0.48  1.71    0.96  0.23\\n    OD280/OD315 of diluted wines: 1.27  4.00    2.61  0.71\\n    Proline:                       278  1680     746   315\\n    ============================= ==== ===== ======= =====\\n\\n    :Missing Attribute Values: None\\n    :Class Distribution: class_0 (59), class_1 (71), class_2 (48)\\n    :Creator: R.A. Fisher\\n    :Donor: Michael Marshall (MARSHALL%PLU@io.arc.nasa.gov)\\n    :Date: July, 1988\\n\\nThis is a copy of UCI ML Wine recognition datasets.\\nhttps://archive.ics.uci.edu/ml/machine-learning-databases/wine/wine.data\\n\\nThe data is the results of a chemical analysis of wines grown in the same\\nregion in Italy by three different cultivators. There are thirteen different\\nmeasurements taken for different constituents found in the three types of\\nwine.\\n\\nOriginal Owners: \\n\\nForina, M. et al, PARVUS - \\nAn Extendible Package for Data Exploration, Classification and Correlation. \\nInstitute of Pharmaceutical and Food Analysis and Technologies,\\nVia Brigata Salerno, 16147 Genoa, Italy.\\n\\nCitation:\\n\\nLichman, M. (2013). UCI Machine Learning Repository\\n[https://archive.ics.uci.edu/ml]. Irvine, CA: University of California,\\nSchool of Information and Computer Science. \\n\\n.. topic:: References\\n\\n  (1) S. Aeberhard, D. Coomans and O. de Vel, \\n  Comparison of Classifiers in High Dimensional Settings, \\n  Tech. Rep. no. 92-02, (1992), Dept. of Computer Science and Dept. of  \\n  Mathematics and Statistics, James Cook University of North Queensland. \\n  (Also submitted to Technometrics). \\n\\n  The data was used with many others for comparing various \\n  classifiers. The classes are separable, though only RDA \\n  has achieved 100% correct classification. \\n  (RDA : 100%, QDA 99.4%, LDA 98.9%, 1NN 96.1% (z-transformed data)) \\n  (All results using the leave-one-out technique) \\n\\n  (2) S. Aeberhard, D. Coomans and O. de Vel, \\n  \"THE CLASSIFICATION PERFORMANCE OF RDA\" \\n  Tech. Rep. no. 92-01, (1992), Dept. of Computer Science and Dept. of \\n  Mathematics and Statistics, James Cook University of North Queensland. \\n  (Also submitted to Journal of Chemometrics).\\n',\n",
              " 'data': array([[1.423e+01, 1.710e+00, 2.430e+00, ..., 1.040e+00, 3.920e+00,\n",
              "         1.065e+03],\n",
              "        [1.320e+01, 1.780e+00, 2.140e+00, ..., 1.050e+00, 3.400e+00,\n",
              "         1.050e+03],\n",
              "        [1.316e+01, 2.360e+00, 2.670e+00, ..., 1.030e+00, 3.170e+00,\n",
              "         1.185e+03],\n",
              "        ...,\n",
              "        [1.327e+01, 4.280e+00, 2.260e+00, ..., 5.900e-01, 1.560e+00,\n",
              "         8.350e+02],\n",
              "        [1.317e+01, 2.590e+00, 2.370e+00, ..., 6.000e-01, 1.620e+00,\n",
              "         8.400e+02],\n",
              "        [1.413e+01, 4.100e+00, 2.740e+00, ..., 6.100e-01, 1.600e+00,\n",
              "         5.600e+02]]),\n",
              " 'feature_names': ['alcohol',\n",
              "  'malic_acid',\n",
              "  'ash',\n",
              "  'alcalinity_of_ash',\n",
              "  'magnesium',\n",
              "  'total_phenols',\n",
              "  'flavanoids',\n",
              "  'nonflavanoid_phenols',\n",
              "  'proanthocyanins',\n",
              "  'color_intensity',\n",
              "  'hue',\n",
              "  'od280/od315_of_diluted_wines',\n",
              "  'proline'],\n",
              " 'frame': None,\n",
              " 'target': array([0, 0, 0, 0, 0, 0, 0, 0, 0, 0, 0, 0, 0, 0, 0, 0, 0, 0, 0, 0, 0, 0,\n",
              "        0, 0, 0, 0, 0, 0, 0, 0, 0, 0, 0, 0, 0, 0, 0, 0, 0, 0, 0, 0, 0, 0,\n",
              "        0, 0, 0, 0, 0, 0, 0, 0, 0, 0, 0, 0, 0, 0, 0, 1, 1, 1, 1, 1, 1, 1,\n",
              "        1, 1, 1, 1, 1, 1, 1, 1, 1, 1, 1, 1, 1, 1, 1, 1, 1, 1, 1, 1, 1, 1,\n",
              "        1, 1, 1, 1, 1, 1, 1, 1, 1, 1, 1, 1, 1, 1, 1, 1, 1, 1, 1, 1, 1, 1,\n",
              "        1, 1, 1, 1, 1, 1, 1, 1, 1, 1, 1, 1, 1, 1, 1, 1, 1, 1, 1, 1, 2, 2,\n",
              "        2, 2, 2, 2, 2, 2, 2, 2, 2, 2, 2, 2, 2, 2, 2, 2, 2, 2, 2, 2, 2, 2,\n",
              "        2, 2, 2, 2, 2, 2, 2, 2, 2, 2, 2, 2, 2, 2, 2, 2, 2, 2, 2, 2, 2, 2,\n",
              "        2, 2]),\n",
              " 'target_names': array(['class_0', 'class_1', 'class_2'], dtype='<U7')}"
            ]
          },
          "metadata": {
            "tags": []
          },
          "execution_count": 1
        }
      ]
    },
    {
      "cell_type": "markdown",
      "metadata": {
        "id": "YFQihLNBpiwn"
      },
      "source": [
        "#Question 2 (2 points)#\n",
        "\n",
        "Set the X and y from the loaded dataset. \n",
        "X should be the first two columns of the dataset and y should be the pre-determined target variable in the wine data. "
      ]
    },
    {
      "cell_type": "code",
      "metadata": {
        "colab": {
          "base_uri": "https://localhost:8080/"
        },
        "id": "y5BvjdYvl0hH",
        "outputId": "298ff3b9-976d-4263-f8b9-0bfa831c0030"
      },
      "source": [
        "X=data.data[:,:2]\n",
        "y=data.target\n",
        "#YOUR CODE GOES HERE\n",
        "#SAMPLE OUTPUT SHOWN BELOW\n",
        "X"
      ],
      "execution_count": null,
      "outputs": [
        {
          "output_type": "execute_result",
          "data": {
            "text/plain": [
              "array([[14.23,  1.71],\n",
              "       [13.2 ,  1.78],\n",
              "       [13.16,  2.36],\n",
              "       [14.37,  1.95],\n",
              "       [13.24,  2.59],\n",
              "       [14.2 ,  1.76],\n",
              "       [14.39,  1.87],\n",
              "       [14.06,  2.15],\n",
              "       [14.83,  1.64],\n",
              "       [13.86,  1.35],\n",
              "       [14.1 ,  2.16],\n",
              "       [14.12,  1.48],\n",
              "       [13.75,  1.73],\n",
              "       [14.75,  1.73],\n",
              "       [14.38,  1.87],\n",
              "       [13.63,  1.81],\n",
              "       [14.3 ,  1.92],\n",
              "       [13.83,  1.57],\n",
              "       [14.19,  1.59],\n",
              "       [13.64,  3.1 ],\n",
              "       [14.06,  1.63],\n",
              "       [12.93,  3.8 ],\n",
              "       [13.71,  1.86],\n",
              "       [12.85,  1.6 ],\n",
              "       [13.5 ,  1.81],\n",
              "       [13.05,  2.05],\n",
              "       [13.39,  1.77],\n",
              "       [13.3 ,  1.72],\n",
              "       [13.87,  1.9 ],\n",
              "       [14.02,  1.68],\n",
              "       [13.73,  1.5 ],\n",
              "       [13.58,  1.66],\n",
              "       [13.68,  1.83],\n",
              "       [13.76,  1.53],\n",
              "       [13.51,  1.8 ],\n",
              "       [13.48,  1.81],\n",
              "       [13.28,  1.64],\n",
              "       [13.05,  1.65],\n",
              "       [13.07,  1.5 ],\n",
              "       [14.22,  3.99],\n",
              "       [13.56,  1.71],\n",
              "       [13.41,  3.84],\n",
              "       [13.88,  1.89],\n",
              "       [13.24,  3.98],\n",
              "       [13.05,  1.77],\n",
              "       [14.21,  4.04],\n",
              "       [14.38,  3.59],\n",
              "       [13.9 ,  1.68],\n",
              "       [14.1 ,  2.02],\n",
              "       [13.94,  1.73],\n",
              "       [13.05,  1.73],\n",
              "       [13.83,  1.65],\n",
              "       [13.82,  1.75],\n",
              "       [13.77,  1.9 ],\n",
              "       [13.74,  1.67],\n",
              "       [13.56,  1.73],\n",
              "       [14.22,  1.7 ],\n",
              "       [13.29,  1.97],\n",
              "       [13.72,  1.43],\n",
              "       [12.37,  0.94],\n",
              "       [12.33,  1.1 ],\n",
              "       [12.64,  1.36],\n",
              "       [13.67,  1.25],\n",
              "       [12.37,  1.13],\n",
              "       [12.17,  1.45],\n",
              "       [12.37,  1.21],\n",
              "       [13.11,  1.01],\n",
              "       [12.37,  1.17],\n",
              "       [13.34,  0.94],\n",
              "       [12.21,  1.19],\n",
              "       [12.29,  1.61],\n",
              "       [13.86,  1.51],\n",
              "       [13.49,  1.66],\n",
              "       [12.99,  1.67],\n",
              "       [11.96,  1.09],\n",
              "       [11.66,  1.88],\n",
              "       [13.03,  0.9 ],\n",
              "       [11.84,  2.89],\n",
              "       [12.33,  0.99],\n",
              "       [12.7 ,  3.87],\n",
              "       [12.  ,  0.92],\n",
              "       [12.72,  1.81],\n",
              "       [12.08,  1.13],\n",
              "       [13.05,  3.86],\n",
              "       [11.84,  0.89],\n",
              "       [12.67,  0.98],\n",
              "       [12.16,  1.61],\n",
              "       [11.65,  1.67],\n",
              "       [11.64,  2.06],\n",
              "       [12.08,  1.33],\n",
              "       [12.08,  1.83],\n",
              "       [12.  ,  1.51],\n",
              "       [12.69,  1.53],\n",
              "       [12.29,  2.83],\n",
              "       [11.62,  1.99],\n",
              "       [12.47,  1.52],\n",
              "       [11.81,  2.12],\n",
              "       [12.29,  1.41],\n",
              "       [12.37,  1.07],\n",
              "       [12.29,  3.17],\n",
              "       [12.08,  2.08],\n",
              "       [12.6 ,  1.34],\n",
              "       [12.34,  2.45],\n",
              "       [11.82,  1.72],\n",
              "       [12.51,  1.73],\n",
              "       [12.42,  2.55],\n",
              "       [12.25,  1.73],\n",
              "       [12.72,  1.75],\n",
              "       [12.22,  1.29],\n",
              "       [11.61,  1.35],\n",
              "       [11.46,  3.74],\n",
              "       [12.52,  2.43],\n",
              "       [11.76,  2.68],\n",
              "       [11.41,  0.74],\n",
              "       [12.08,  1.39],\n",
              "       [11.03,  1.51],\n",
              "       [11.82,  1.47],\n",
              "       [12.42,  1.61],\n",
              "       [12.77,  3.43],\n",
              "       [12.  ,  3.43],\n",
              "       [11.45,  2.4 ],\n",
              "       [11.56,  2.05],\n",
              "       [12.42,  4.43],\n",
              "       [13.05,  5.8 ],\n",
              "       [11.87,  4.31],\n",
              "       [12.07,  2.16],\n",
              "       [12.43,  1.53],\n",
              "       [11.79,  2.13],\n",
              "       [12.37,  1.63],\n",
              "       [12.04,  4.3 ],\n",
              "       [12.86,  1.35],\n",
              "       [12.88,  2.99],\n",
              "       [12.81,  2.31],\n",
              "       [12.7 ,  3.55],\n",
              "       [12.51,  1.24],\n",
              "       [12.6 ,  2.46],\n",
              "       [12.25,  4.72],\n",
              "       [12.53,  5.51],\n",
              "       [13.49,  3.59],\n",
              "       [12.84,  2.96],\n",
              "       [12.93,  2.81],\n",
              "       [13.36,  2.56],\n",
              "       [13.52,  3.17],\n",
              "       [13.62,  4.95],\n",
              "       [12.25,  3.88],\n",
              "       [13.16,  3.57],\n",
              "       [13.88,  5.04],\n",
              "       [12.87,  4.61],\n",
              "       [13.32,  3.24],\n",
              "       [13.08,  3.9 ],\n",
              "       [13.5 ,  3.12],\n",
              "       [12.79,  2.67],\n",
              "       [13.11,  1.9 ],\n",
              "       [13.23,  3.3 ],\n",
              "       [12.58,  1.29],\n",
              "       [13.17,  5.19],\n",
              "       [13.84,  4.12],\n",
              "       [12.45,  3.03],\n",
              "       [14.34,  1.68],\n",
              "       [13.48,  1.67],\n",
              "       [12.36,  3.83],\n",
              "       [13.69,  3.26],\n",
              "       [12.85,  3.27],\n",
              "       [12.96,  3.45],\n",
              "       [13.78,  2.76],\n",
              "       [13.73,  4.36],\n",
              "       [13.45,  3.7 ],\n",
              "       [12.82,  3.37],\n",
              "       [13.58,  2.58],\n",
              "       [13.4 ,  4.6 ],\n",
              "       [12.2 ,  3.03],\n",
              "       [12.77,  2.39],\n",
              "       [14.16,  2.51],\n",
              "       [13.71,  5.65],\n",
              "       [13.4 ,  3.91],\n",
              "       [13.27,  4.28],\n",
              "       [13.17,  2.59],\n",
              "       [14.13,  4.1 ]])"
            ]
          },
          "metadata": {
            "tags": []
          },
          "execution_count": 2
        }
      ]
    },
    {
      "cell_type": "markdown",
      "metadata": {
        "id": "ApsA-M1YqH1u"
      },
      "source": [
        "#Question 3 (6 points)# \n",
        "\n",
        "Similar to the code in the tutorial linked above, create three versions of the label propagation algorithm. \n",
        "However, your label propagation should start with **10%, 30% and 50%** of the data labeled.\n",
        "\n",
        "Similar to the code in tutorial linked above, compare the performance of the label propagation algorithms to an SVM classifier with RBF kernel. \n",
        "\n",
        "You should output four plots as shown in sample output below."
      ]
    },
    {
      "cell_type": "code",
      "metadata": {
        "colab": {
          "base_uri": "https://localhost:8080/",
          "height": 344
        },
        "id": "sTQpd6iAn1-S",
        "outputId": "e23addf1-c2a5-4c45-81ee-35f045333a24"
      },
      "source": [
        "!pip install --upgrade scikit-learn\n",
        "\n"
      ],
      "execution_count": null,
      "outputs": [
        {
          "output_type": "stream",
          "text": [
            "Collecting scikit-learn\n",
            "\u001b[?25l  Downloading https://files.pythonhosted.org/packages/f3/74/eb899f41d55f957e2591cde5528e75871f817d9fb46d4732423ecaca736d/scikit_learn-0.24.1-cp37-cp37m-manylinux2010_x86_64.whl (22.3MB)\n",
            "\u001b[K     |████████████████████████████████| 22.3MB 1.4MB/s \n",
            "\u001b[?25hCollecting threadpoolctl>=2.0.0\n",
            "  Downloading https://files.pythonhosted.org/packages/f7/12/ec3f2e203afa394a149911729357aa48affc59c20e2c1c8297a60f33f133/threadpoolctl-2.1.0-py3-none-any.whl\n",
            "Requirement already satisfied, skipping upgrade: scipy>=0.19.1 in /usr/local/lib/python3.7/dist-packages (from scikit-learn) (1.4.1)\n",
            "Requirement already satisfied, skipping upgrade: numpy>=1.13.3 in /usr/local/lib/python3.7/dist-packages (from scikit-learn) (1.19.5)\n",
            "Requirement already satisfied, skipping upgrade: joblib>=0.11 in /usr/local/lib/python3.7/dist-packages (from scikit-learn) (1.0.1)\n",
            "Installing collected packages: threadpoolctl, scikit-learn\n",
            "  Found existing installation: scikit-learn 0.22.2.post1\n",
            "    Uninstalling scikit-learn-0.22.2.post1:\n",
            "      Successfully uninstalled scikit-learn-0.22.2.post1\n",
            "Successfully installed scikit-learn-0.24.1 threadpoolctl-2.1.0\n"
          ],
          "name": "stdout"
        },
        {
          "output_type": "display_data",
          "data": {
            "application/vnd.colab-display-data+json": {
              "pip_warning": {
                "packages": [
                  "sklearn"
                ]
              }
            }
          },
          "metadata": {
            "tags": []
          }
        }
      ]
    },
    {
      "cell_type": "code",
      "metadata": {
        "id": "V9FKiwdedqrE"
      },
      "source": [
        "from sklearn.svm import SVC\n",
        "from sklearn.semi_supervised import SelfTrainingClassifier\n"
      ],
      "execution_count": null,
      "outputs": []
    },
    {
      "cell_type": "code",
      "metadata": {
        "colab": {
          "base_uri": "https://localhost:8080/",
          "height": 319
        },
        "id": "9PuYMzG7cboO",
        "outputId": "f0f6f80e-2f25-46d6-c855-fa7efc4b06e9"
      },
      "source": [
        "#YOUR CODE GOES HERE\n",
        "#SAMPLE OUTPUT SHOWN BELOW\n",
        "# step size in the mesh\n",
        "h = .02\n",
        "\n",
        "rng = np.random.RandomState(0)\n",
        "y_rand = rng.rand(y.shape[0])\n",
        "y_10=np.copy(y)\n",
        "y_30[y_rand < 0.1] = -1 \n",
        "y_30 = np.copy(y)\n",
        "y_30[y_rand < 0.3] = -1  # set random samples to be unlabeled\n",
        "y_50 = np.copy(y)\n",
        "y_50[y_rand < 0.5] = -1\n",
        "# we create an instance of SVM and fit out data. We do not scale our\n",
        "# data since we want to plot the support vectors\n",
        "ls30 = (LabelSpreading().fit(X, y_30), y_30, 'Label Spreading 30% data')\n",
        "ls50 = (LabelSpreading().fit(X, y_50), y_50, 'Label Spreading 50% data')\n",
        "ls10 = (LabelSpreading().fit(X, y_10), y_10, 'Label Spreading 10% data')\n",
        "\n",
        "# the base classifier for self-training is identical to the SVC\n",
        "base_classifier = SVC(kernel='rbf', gamma=.5, probability=True)\n",
        "st30 = (SelfTrainingClassifier(base_classifier).fit(X, y_30),\n",
        "        y_30, 'Self-training 30% data')\n",
        "st50 = (SelfTrainingClassifier(base_classifier).fit(X, y_50),\n",
        "        y_50, 'Self-training 50% data')\n",
        "st10 = (SelfTrainingClassifier(base_classifier).fit(X, y_10),\n",
        "        y_30, 'Self-training 10% data')\n",
        "\n",
        "rbf_svc = (SVC(kernel='rbf', gamma=.5).fit(X, y), y, 'SVC with rbf kernel')\n",
        "\n",
        "# create a mesh to plot in\n",
        "x_min, x_max = X[:, 0].min() - 1, X[:, 0].max() + 1\n",
        "y_min, y_max = X[:, 1].min() - 1, X[:, 1].max() + 1\n",
        "xx, yy = np.meshgrid(np.arange(x_min, x_max, h),\n",
        "                     np.arange(y_min, y_max, h))\n",
        "\n",
        "color_map = {-1: (1, 1, 1), 0: (0, 0, .9), 1: (1, 0, 0), 2: (.8, .6, 0)}\n",
        "\n",
        "classifiers = (ls30, ls50, ls10, rbf_svc)\n",
        "for i, (clf, y_train, title) in enumerate(classifiers):\n",
        "    # Plot the decision boundary. For that, we will assign a color to each\n",
        "    # point in the mesh [x_min, x_max]x[y_min, y_max].\n",
        "    plt.subplot(3, 2, i + 1)\n",
        "    Z = clf.predict(np.c_[xx.ravel(), yy.ravel()])\n",
        "\n",
        "    # Put the result into a color plot\n",
        "    Z = Z.reshape(xx.shape)\n",
        "    plt.contourf(xx, yy, Z, cmap=plt.cm.Paired)\n",
        "    plt.axis('off')\n",
        "\n",
        "    # Plot also the training points\n",
        "    colors = [color_map[y] for y in y_train]\n",
        "    plt.scatter(X[:, 0], X[:, 1], c=colors, edgecolors='black')\n",
        "\n",
        "    plt.title(title)\n",
        "\n",
        "plt.suptitle(\"Unlabeled points are colored white\", y=0.1)\n",
        "plt.show()"
      ],
      "execution_count": null,
      "outputs": [
        {
          "output_type": "stream",
          "text": [
            "/usr/local/lib/python3.7/dist-packages/sklearn/semi_supervised/_self_training.py:187: UserWarning: y contains no unlabeled samples\n",
            "  warnings.warn(\"y contains no unlabeled samples\", UserWarning)\n"
          ],
          "name": "stderr"
        },
        {
          "output_type": "display_data",
          "data": {
            "image/png": "[encoded data removed]",
            "text/plain": [
              "<Figure size 432x288 with 4 Axes>"
            ]
          },
          "metadata": {
            "tags": [],
            "needs_background": "light"
          }
        }
      ]
    },
    {
      "cell_type": "markdown",
      "metadata": {
        "id": "Afrg1Oasq6s3"
      },
      "source": [
        "##Question 4 (5 points):##\n",
        "\n",
        "What can you observe in terms of performance for the 4 algorithms above? Which label propagation works better? Does more labeled data help with the final performance?\n",
        "\n",
        "Write at least **50 words**. "
      ]
    },
    {
      "cell_type": "markdown",
      "metadata": {
        "id": "qmAe3StZrQJL"
      },
      "source": [
        "#YOUR RESPONSE GOES HERE#\n",
        "This algorithm make use of both labeled and unlabeled dataset. We see that algorithms learns good boundaries when more unlabled data are there in the dataset. Seems like 10% data is performing better. Yes, more labeled data helps in the final performance. "
      ]
    }
  ]
}