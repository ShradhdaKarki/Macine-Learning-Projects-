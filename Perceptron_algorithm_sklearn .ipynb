{
 "cells": [
  {
   "cell_type": "code",
   "execution_count": 113,
   "metadata": {
    "id": "LWKsY27qfxEh"
   },
   "outputs": [],
   "source": [
    "#all the imports\n",
    "#not all might be needed -- e.g. I am using Google colab and importing files from my Google drive\n",
    "#from pydrive.auth import GoogleAuth\n",
    "#from pydrive.drive import GoogleDrive\n",
    "#from google.colab import auth\n",
    "#from oauth2client.client import GoogleCredentials\n",
    "import pandas as pd\n",
    "import numpy as np\n",
    "import matplotlib.pyplot as plt\n",
    "\n",
    "from sklearn.metrics import accuracy_score\n",
    "from sklearn import datasets\n",
    "from sklearn.preprocessing import StandardScaler\n"
   ]
  },
  {
   "cell_type": "markdown",
   "metadata": {
    "id": "YvUHYAymQ0Jv"
   },
   "source": [
    "###Question 1 (1 point) ###\n",
    " Load the English and Italian data into 2 separate data frames.\n"
   ]
  },
  {
   "cell_type": "code",
   "execution_count": 114,
   "metadata": {
    "colab": {
     "base_uri": "https://localhost:8080/",
     "height": 34
    },
    "id": "dbI8ONTSKpYe",
    "outputId": "10036bd4-85dd-40f2-887e-dd2c3b345f49"
   },
   "outputs": [],
   "source": [
    "#load the data\n",
    "#your code goes here.\n",
    "#@%cd /content/drive/My Drive/COURSES/2020/DATA/\n",
    "en_data = pd.read_csv('CONcreTEXT_trial_EN.tsv',sep='\\t')\n",
    "it_data = pd.read_csv('CONcreTEXT_trial_IT.tsv',sep='\\t')\n"
   ]
  },
  {
   "cell_type": "code",
   "execution_count": 115,
   "metadata": {
    "colab": {
     "base_uri": "https://localhost:8080/",
     "height": 419
    },
    "id": "gm4aRtfcLgIg",
    "outputId": "68e98504-b331-4bd7-dc9e-ba768da083a9"
   },
   "outputs": [
    {
     "data": {
      "text/html": [
       "<div>\n",
       "<style scoped>\n",
       "    .dataframe tbody tr th:only-of-type {\n",
       "        vertical-align: middle;\n",
       "    }\n",
       "\n",
       "    .dataframe tbody tr th {\n",
       "        vertical-align: top;\n",
       "    }\n",
       "\n",
       "    .dataframe thead th {\n",
       "        text-align: right;\n",
       "    }\n",
       "</style>\n",
       "<table border=\"1\" class=\"dataframe\">\n",
       "  <thead>\n",
       "    <tr style=\"text-align: right;\">\n",
       "      <th></th>\n",
       "      <th>TARGET</th>\n",
       "      <th>POS</th>\n",
       "      <th>INDEX</th>\n",
       "      <th>TEXT</th>\n",
       "      <th>MEAN</th>\n",
       "    </tr>\n",
       "  </thead>\n",
       "  <tbody>\n",
       "    <tr>\n",
       "      <td>0</td>\n",
       "      <td>achievement</td>\n",
       "      <td>N</td>\n",
       "      <td>3</td>\n",
       "      <td>Bring up academic achievements , awards , and ...</td>\n",
       "      <td>3.06</td>\n",
       "    </tr>\n",
       "    <tr>\n",
       "      <td>1</td>\n",
       "      <td>achievement</td>\n",
       "      <td>N</td>\n",
       "      <td>9</td>\n",
       "      <td>Please list people you have helped , your pers...</td>\n",
       "      <td>3.03</td>\n",
       "    </tr>\n",
       "    <tr>\n",
       "      <td>2</td>\n",
       "      <td>activate</td>\n",
       "      <td>V</td>\n",
       "      <td>1</td>\n",
       "      <td>Add activated carbon straight to your vodka .</td>\n",
       "      <td>3.83</td>\n",
       "    </tr>\n",
       "    <tr>\n",
       "      <td>3</td>\n",
       "      <td>activate</td>\n",
       "      <td>V</td>\n",
       "      <td>15</td>\n",
       "      <td>Place sensors around your garden , and when a ...</td>\n",
       "      <td>5.51</td>\n",
       "    </tr>\n",
       "    <tr>\n",
       "      <td>4</td>\n",
       "      <td>adventure</td>\n",
       "      <td>N</td>\n",
       "      <td>9</td>\n",
       "      <td>Look for a partner that shares your level of a...</td>\n",
       "      <td>2.03</td>\n",
       "    </tr>\n",
       "  </tbody>\n",
       "</table>\n",
       "</div>"
      ],
      "text/plain": [
       "        TARGET POS  INDEX                                               TEXT  \\\n",
       "0  achievement   N      3  Bring up academic achievements , awards , and ...   \n",
       "1  achievement   N      9  Please list people you have helped , your pers...   \n",
       "2     activate   V      1     Add activated carbon straight to your vodka .    \n",
       "3     activate   V     15  Place sensors around your garden , and when a ...   \n",
       "4    adventure   N      9  Look for a partner that shares your level of a...   \n",
       "\n",
       "   MEAN  \n",
       "0  3.06  \n",
       "1  3.03  \n",
       "2  3.83  \n",
       "3  5.51  \n",
       "4  2.03  "
      ]
     },
     "execution_count": 115,
     "metadata": {},
     "output_type": "execute_result"
    }
   ],
   "source": [
    "\n",
    "#check to see what the data look like\n",
    "en_data.head()"
   ]
  },
  {
   "cell_type": "code",
   "execution_count": 116,
   "metadata": {
    "colab": {
     "base_uri": "https://localhost:8080/",
     "height": 204
    },
    "id": "-QA83Wr5MMRj",
    "outputId": "adfce4f0-4615-4c5d-9fc3-46dc76089536"
   },
   "outputs": [
    {
     "data": {
      "text/html": [
       "<div>\n",
       "<style scoped>\n",
       "    .dataframe tbody tr th:only-of-type {\n",
       "        vertical-align: middle;\n",
       "    }\n",
       "\n",
       "    .dataframe tbody tr th {\n",
       "        vertical-align: top;\n",
       "    }\n",
       "\n",
       "    .dataframe thead th {\n",
       "        text-align: right;\n",
       "    }\n",
       "</style>\n",
       "<table border=\"1\" class=\"dataframe\">\n",
       "  <thead>\n",
       "    <tr style=\"text-align: right;\">\n",
       "      <th></th>\n",
       "      <th>TARGET</th>\n",
       "      <th>POS</th>\n",
       "      <th>INDEX</th>\n",
       "      <th>TEXT</th>\n",
       "      <th>MEAN</th>\n",
       "    </tr>\n",
       "  </thead>\n",
       "  <tbody>\n",
       "    <tr>\n",
       "      <td>0</td>\n",
       "      <td>affascinare</td>\n",
       "      <td>V</td>\n",
       "      <td>8</td>\n",
       "      <td>Guardati i piedi o fai finta di essere affasci...</td>\n",
       "      <td>2.39</td>\n",
       "    </tr>\n",
       "    <tr>\n",
       "      <td>1</td>\n",
       "      <td>affascinare</td>\n",
       "      <td>V</td>\n",
       "      <td>1</td>\n",
       "      <td>Sei affascinato dal funzionamento della mente ...</td>\n",
       "      <td>2.03</td>\n",
       "    </tr>\n",
       "    <tr>\n",
       "      <td>2</td>\n",
       "      <td>amore</td>\n",
       "      <td>N</td>\n",
       "      <td>5</td>\n",
       "      <td>Pensa ai tuoi sentimenti di amore , passione e...</td>\n",
       "      <td>2.71</td>\n",
       "    </tr>\n",
       "    <tr>\n",
       "      <td>3</td>\n",
       "      <td>amore</td>\n",
       "      <td>N</td>\n",
       "      <td>7</td>\n",
       "      <td>Quasi tutti sono in grado di ricevere amore e ...</td>\n",
       "      <td>2.16</td>\n",
       "    </tr>\n",
       "    <tr>\n",
       "      <td>4</td>\n",
       "      <td>aria</td>\n",
       "      <td>N</td>\n",
       "      <td>4</td>\n",
       "      <td>Accendi il condizionatore sull’ aria fredda ma...</td>\n",
       "      <td>5.68</td>\n",
       "    </tr>\n",
       "  </tbody>\n",
       "</table>\n",
       "</div>"
      ],
      "text/plain": [
       "        TARGET POS  INDEX                                               TEXT  \\\n",
       "0  affascinare   V      8  Guardati i piedi o fai finta di essere affasci...   \n",
       "1  affascinare   V      1  Sei affascinato dal funzionamento della mente ...   \n",
       "2        amore   N      5  Pensa ai tuoi sentimenti di amore , passione e...   \n",
       "3        amore   N      7  Quasi tutti sono in grado di ricevere amore e ...   \n",
       "4         aria   N      4  Accendi il condizionatore sull’ aria fredda ma...   \n",
       "\n",
       "   MEAN  \n",
       "0  2.39  \n",
       "1  2.03  \n",
       "2  2.71  \n",
       "3  2.16  \n",
       "4  5.68  "
      ]
     },
     "execution_count": 116,
     "metadata": {},
     "output_type": "execute_result"
    }
   ],
   "source": [
    "it_data.head()"
   ]
  },
  {
   "cell_type": "markdown",
   "metadata": {
    "id": "q5CyEln_RHX1"
   },
   "source": [
    "###Question 2 (2 points): ###\n",
    "Next we will create three columns in each data frame. \n",
    "\n",
    "One column will be called 'CONCRETE' and it will be a boolean. If the mean value of the word is >=4 then this value is 0, otherwise 1. \n",
    "\n",
    "Basically, we are assuming that all words with a MEAN score greater than or equal to 4 are concrete words, and the rest are abstract.\n",
    "\n",
    "\n",
    "Next column will be another boolean 'IS_NOUN'. If the column POS == N (noun), then the 'IS_NOUN' column will be 0 otherwise it will be 1. \n",
    "\n",
    "The third column is 'IS_EARLY'. We are setting another boolean variable column, where, if the word appears early in the sentence, then this value is 0 otherwise 1. We will assume that any word which appears at INDEX < 5 appears early in this sentence. \n",
    "\n",
    "Your dataframe after you write this code should look like the example shown below. \n",
    "\n",
    "You may find it useful to use numpy and the 'where' condition for this question. \n",
    "\n",
    "Repeat the same process for the Italian data dataframe.\n"
   ]
  },
  {
   "cell_type": "code",
   "execution_count": 117,
   "metadata": {
    "colab": {
     "base_uri": "https://localhost:8080/",
     "height": 204
    },
    "id": "yKSEJm9xMOZC",
    "outputId": "2bf404ae-c6a2-426b-a4b2-48843c19bc94"
   },
   "outputs": [
    {
     "data": {
      "text/html": [
       "<div>\n",
       "<style scoped>\n",
       "    .dataframe tbody tr th:only-of-type {\n",
       "        vertical-align: middle;\n",
       "    }\n",
       "\n",
       "    .dataframe tbody tr th {\n",
       "        vertical-align: top;\n",
       "    }\n",
       "\n",
       "    .dataframe thead th {\n",
       "        text-align: right;\n",
       "    }\n",
       "</style>\n",
       "<table border=\"1\" class=\"dataframe\">\n",
       "  <thead>\n",
       "    <tr style=\"text-align: right;\">\n",
       "      <th></th>\n",
       "      <th>TARGET</th>\n",
       "      <th>POS</th>\n",
       "      <th>INDEX</th>\n",
       "      <th>TEXT</th>\n",
       "      <th>MEAN</th>\n",
       "      <th>CONCRETE</th>\n",
       "      <th>IS_NOUN</th>\n",
       "      <th>IS_EARLY</th>\n",
       "    </tr>\n",
       "  </thead>\n",
       "  <tbody>\n",
       "    <tr>\n",
       "      <td>0</td>\n",
       "      <td>affascinare</td>\n",
       "      <td>V</td>\n",
       "      <td>8</td>\n",
       "      <td>Guardati i piedi o fai finta di essere affasci...</td>\n",
       "      <td>2.39</td>\n",
       "      <td>0</td>\n",
       "      <td>0</td>\n",
       "      <td>0</td>\n",
       "    </tr>\n",
       "    <tr>\n",
       "      <td>1</td>\n",
       "      <td>affascinare</td>\n",
       "      <td>V</td>\n",
       "      <td>1</td>\n",
       "      <td>Sei affascinato dal funzionamento della mente ...</td>\n",
       "      <td>2.03</td>\n",
       "      <td>0</td>\n",
       "      <td>0</td>\n",
       "      <td>0</td>\n",
       "    </tr>\n",
       "    <tr>\n",
       "      <td>2</td>\n",
       "      <td>amore</td>\n",
       "      <td>N</td>\n",
       "      <td>5</td>\n",
       "      <td>Pensa ai tuoi sentimenti di amore , passione e...</td>\n",
       "      <td>2.71</td>\n",
       "      <td>0</td>\n",
       "      <td>0</td>\n",
       "      <td>0</td>\n",
       "    </tr>\n",
       "    <tr>\n",
       "      <td>3</td>\n",
       "      <td>amore</td>\n",
       "      <td>N</td>\n",
       "      <td>7</td>\n",
       "      <td>Quasi tutti sono in grado di ricevere amore e ...</td>\n",
       "      <td>2.16</td>\n",
       "      <td>0</td>\n",
       "      <td>0</td>\n",
       "      <td>0</td>\n",
       "    </tr>\n",
       "    <tr>\n",
       "      <td>4</td>\n",
       "      <td>aria</td>\n",
       "      <td>N</td>\n",
       "      <td>4</td>\n",
       "      <td>Accendi il condizionatore sull’ aria fredda ma...</td>\n",
       "      <td>5.68</td>\n",
       "      <td>0</td>\n",
       "      <td>0</td>\n",
       "      <td>0</td>\n",
       "    </tr>\n",
       "  </tbody>\n",
       "</table>\n",
       "</div>"
      ],
      "text/plain": [
       "        TARGET POS  INDEX                                               TEXT  \\\n",
       "0  affascinare   V      8  Guardati i piedi o fai finta di essere affasci...   \n",
       "1  affascinare   V      1  Sei affascinato dal funzionamento della mente ...   \n",
       "2        amore   N      5  Pensa ai tuoi sentimenti di amore , passione e...   \n",
       "3        amore   N      7  Quasi tutti sono in grado di ricevere amore e ...   \n",
       "4         aria   N      4  Accendi il condizionatore sull’ aria fredda ma...   \n",
       "\n",
       "   MEAN  CONCRETE  IS_NOUN  IS_EARLY  \n",
       "0  2.39         0        0         0  \n",
       "1  2.03         0        0         0  \n",
       "2  2.71         0        0         0  \n",
       "3  2.16         0        0         0  \n",
       "4  5.68         0        0         0  "
      ]
     },
     "execution_count": 117,
     "metadata": {},
     "output_type": "execute_result"
    }
   ],
   "source": [
    "#create three new columns using conditions on the main data frame\n",
    "\n",
    "#your code goes here\n",
    "it_data['CONCRETE']=0\n",
    "it_data['IS_NOUN']=0\n",
    "it_data['IS_EARLY']=0\n",
    "\n",
    "\n",
    "\n",
    "\n",
    "#below is what the dataframe should look like after you have inserted the new columns and set the appropriate values\n",
    "it_data.head()                                \n"
   ]
  },
  {
   "cell_type": "code",
   "execution_count": 118,
   "metadata": {},
   "outputs": [],
   "source": [
    "for i in range(len(it_data)):\n",
    "    if it_data.loc[i,'MEAN']< 4:\n",
    "        it_data.at[i,'CONCRETE']=1\n",
    "    else:\n",
    "        it_data.at[i,'CONCRETE']=0\n",
    "    \n",
    "    if it_data.loc[i,'POS']!= 'N':\n",
    "        it_data.at[i,'IS_NOUN']=1\n",
    "    else:\n",
    "        it_data.at[i,'IS_NOUN']=0\n",
    "        \n",
    "    if it_data.loc[i,'INDEX']>= 5:\n",
    "        it_data.at[i,'IS_EARLY']=1\n",
    "    else:\n",
    "        it_data.at[i,'IS_EARLY']=0\n",
    "     #   it_data.at[value,'CONCRETE']=1\n",
    "#if it_data.loc[2,'MEAN']<4:\n",
    " #   it_data.at[2,'CONCRETE']=1\n"
   ]
  },
  {
   "cell_type": "code",
   "execution_count": 111,
   "metadata": {},
   "outputs": [
    {
     "data": {
      "text/plain": [
       "0.00     True\n",
       "1.00     True\n",
       "2.00     True\n",
       "3.00     True\n",
       "4.00    False\n",
       "        ...  \n",
       "2.28     True\n",
       "1.78     True\n",
       "2.91     True\n",
       "2.53     True\n",
       "2.22     True\n",
       "Name: CONCRETE, Length: 131, dtype: bool"
      ]
     },
     "execution_count": 111,
     "metadata": {},
     "output_type": "execute_result"
    }
   ],
   "source": [
    "#if (it_data.loc[0,'MEAN'])< 4:\n",
    " #       it_data.at[value,'CONCRETE']=1\n",
    "    \n",
    "#it_data.at[1,'CONCRETE']=1\n",
    "#it_data.loc[0,'MEAN']\n",
    "#len(it_data)  \n",
    "#it_data.loc[0,'TARGET']\n",
    "\n",
    "\n",
    "\n",
    "\n",
    "it_data['CONCRETE'] = it_data['CONCRETE'].astype('bool')\n",
    "\n",
    "it_data['CONCRETE']"
   ]
  },
  {
   "cell_type": "code",
   "execution_count": 119,
   "metadata": {},
   "outputs": [
    {
     "data": {
      "text/html": [
       "<div>\n",
       "<style scoped>\n",
       "    .dataframe tbody tr th:only-of-type {\n",
       "        vertical-align: middle;\n",
       "    }\n",
       "\n",
       "    .dataframe tbody tr th {\n",
       "        vertical-align: top;\n",
       "    }\n",
       "\n",
       "    .dataframe thead th {\n",
       "        text-align: right;\n",
       "    }\n",
       "</style>\n",
       "<table border=\"1\" class=\"dataframe\">\n",
       "  <thead>\n",
       "    <tr style=\"text-align: right;\">\n",
       "      <th></th>\n",
       "      <th>TARGET</th>\n",
       "      <th>POS</th>\n",
       "      <th>INDEX</th>\n",
       "      <th>TEXT</th>\n",
       "      <th>MEAN</th>\n",
       "      <th>CONCRETE</th>\n",
       "      <th>IS_NOUN</th>\n",
       "      <th>IS_EARLY</th>\n",
       "    </tr>\n",
       "  </thead>\n",
       "  <tbody>\n",
       "    <tr>\n",
       "      <td>0</td>\n",
       "      <td>affascinare</td>\n",
       "      <td>V</td>\n",
       "      <td>8</td>\n",
       "      <td>Guardati i piedi o fai finta di essere affasci...</td>\n",
       "      <td>2.39</td>\n",
       "      <td>1</td>\n",
       "      <td>1</td>\n",
       "      <td>1</td>\n",
       "    </tr>\n",
       "    <tr>\n",
       "      <td>1</td>\n",
       "      <td>affascinare</td>\n",
       "      <td>V</td>\n",
       "      <td>1</td>\n",
       "      <td>Sei affascinato dal funzionamento della mente ...</td>\n",
       "      <td>2.03</td>\n",
       "      <td>1</td>\n",
       "      <td>1</td>\n",
       "      <td>0</td>\n",
       "    </tr>\n",
       "    <tr>\n",
       "      <td>2</td>\n",
       "      <td>amore</td>\n",
       "      <td>N</td>\n",
       "      <td>5</td>\n",
       "      <td>Pensa ai tuoi sentimenti di amore , passione e...</td>\n",
       "      <td>2.71</td>\n",
       "      <td>1</td>\n",
       "      <td>0</td>\n",
       "      <td>1</td>\n",
       "    </tr>\n",
       "    <tr>\n",
       "      <td>3</td>\n",
       "      <td>amore</td>\n",
       "      <td>N</td>\n",
       "      <td>7</td>\n",
       "      <td>Quasi tutti sono in grado di ricevere amore e ...</td>\n",
       "      <td>2.16</td>\n",
       "      <td>1</td>\n",
       "      <td>0</td>\n",
       "      <td>1</td>\n",
       "    </tr>\n",
       "    <tr>\n",
       "      <td>4</td>\n",
       "      <td>aria</td>\n",
       "      <td>N</td>\n",
       "      <td>4</td>\n",
       "      <td>Accendi il condizionatore sull’ aria fredda ma...</td>\n",
       "      <td>5.68</td>\n",
       "      <td>0</td>\n",
       "      <td>0</td>\n",
       "      <td>0</td>\n",
       "    </tr>\n",
       "  </tbody>\n",
       "</table>\n",
       "</div>"
      ],
      "text/plain": [
       "        TARGET POS  INDEX                                               TEXT  \\\n",
       "0  affascinare   V      8  Guardati i piedi o fai finta di essere affasci...   \n",
       "1  affascinare   V      1  Sei affascinato dal funzionamento della mente ...   \n",
       "2        amore   N      5  Pensa ai tuoi sentimenti di amore , passione e...   \n",
       "3        amore   N      7  Quasi tutti sono in grado di ricevere amore e ...   \n",
       "4         aria   N      4  Accendi il condizionatore sull’ aria fredda ma...   \n",
       "\n",
       "   MEAN  CONCRETE  IS_NOUN  IS_EARLY  \n",
       "0  2.39         1        1         1  \n",
       "1  2.03         1        1         0  \n",
       "2  2.71         1        0         1  \n",
       "3  2.16         1        0         1  \n",
       "4  5.68         0        0         0  "
      ]
     },
     "execution_count": 119,
     "metadata": {},
     "output_type": "execute_result"
    }
   ],
   "source": [
    "it_data.head()"
   ]
  },
  {
   "cell_type": "markdown",
   "metadata": {
    "id": "ffScaE8SSpmc"
   },
   "source": [
    "\n",
    "###Question 3(3 points):###\n",
    "\n",
    "Using sklearn implementation of the Perceptron algorithm. \n",
    "\n",
    "First, create X and y. \n",
    "\n",
    "X are your explanatory variables -- in this case, we will use the newly created 'IS_NOUN' and 'IS_EARLY' columns are our X.\n",
    "\n",
    "y is the target variable -- the 'CONCRETE' column you created above is what we need to predict.\n",
    "\n",
    "Create a train, test split using sklearn and fit the perceptron algorithm.\n",
    "\n"
   ]
  },
  {
   "cell_type": "code",
   "execution_count": 120,
   "metadata": {
    "id": "UZCv6ckiTmML"
   },
   "outputs": [],
   "source": [
    "#your code goes here.\n",
    "xn=it_data.iloc[:,[6,7]].values\n",
    "yn=it_data.iloc[:,5].values\n",
    "\n",
    "from sklearn.model_selection import train_test_split\n",
    "X_train,X_test,y_train,y_test=train_test_split(xn,yn,test_size=0.2,random_state=1)\n",
    "\n"
   ]
  },
  {
   "cell_type": "code",
   "execution_count": 109,
   "metadata": {},
   "outputs": [
    {
     "data": {
      "text/plain": [
       "TARGET       object\n",
       "POS          object\n",
       "INDEX       float64\n",
       "TEXT         object\n",
       "MEAN        float64\n",
       "CONCRETE    float64\n",
       "IS_NOUN     float64\n",
       "IS_EARLY    float64\n",
       "dtype: object"
      ]
     },
     "execution_count": 109,
     "metadata": {},
     "output_type": "execute_result"
    }
   ],
   "source": [
    "it_data.dtypes"
   ]
  },
  {
   "cell_type": "markdown",
   "metadata": {
    "id": "l7yn-XY8TtjY"
   },
   "source": [
    "###Question 4(1 points):###\n",
    "\n",
    "Predict the values on the test set and print the result accuracy value of the model. "
   ]
  },
  {
   "cell_type": "code",
   "execution_count": 125,
   "metadata": {
    "colab": {
     "base_uri": "https://localhost:8080/",
     "height": 34
    },
    "id": "Ib02cTdVfuju",
    "outputId": "b24c70b8-8eee-456e-ebfc-0d981042738b"
   },
   "outputs": [
    {
     "data": {
      "text/plain": [
       "Perceptron(alpha=0.0001, class_weight=None, early_stopping=False, eta0=1.0,\n",
       "           fit_intercept=True, max_iter=10, n_iter_no_change=5, n_jobs=None,\n",
       "           penalty=None, random_state=0, shuffle=True, tol=0.001,\n",
       "           validation_fraction=0.1, verbose=0, warm_start=False)"
      ]
     },
     "execution_count": 125,
     "metadata": {},
     "output_type": "execute_result"
    }
   ],
   "source": [
    "# Apply the trained perceptron on the X data to make predicts for the y test data\n",
    "# View the accuracy of the model, which is: 1 - (observations predicted wrong / total observations)\n",
    "\n",
    "#your code goes here\n",
    "#sample output shown below\n",
    "# Apply the scaler to the X training data\n",
    "\n",
    "\n",
    "\n",
    "\n",
    "from sklearn.linear_model import Perceptron\n",
    "ppn= Perceptron( max_iter=10,random_state=0,eta0=0.01)\n",
    "ppn.fit(X_train, y_train)\n",
    "# Train the perceptron\n",
    "    \n"
   ]
  },
  {
   "cell_type": "code",
   "execution_count": 126,
   "metadata": {},
   "outputs": [],
   "source": [
    "y_pred = ppn.predict(X_test)"
   ]
  },
  {
   "cell_type": "code",
   "execution_count": 127,
   "metadata": {},
   "outputs": [
    {
     "data": {
      "text/plain": [
       "array([0, 1, 1, 1, 1, 0, 0, 1, 1, 1, 0, 0, 1, 0, 1, 1, 1, 0, 0, 0],\n",
       "      dtype=int64)"
      ]
     },
     "execution_count": 127,
     "metadata": {},
     "output_type": "execute_result"
    }
   ],
   "source": [
    "y_pred"
   ]
  },
  {
   "cell_type": "code",
   "execution_count": 128,
   "metadata": {},
   "outputs": [
    {
     "name": "stdout",
     "output_type": "stream",
     "text": [
      "Accuracy: 0.50\n"
     ]
    }
   ],
   "source": [
    "print('Accuracy: %.2f' % accuracy_score(y_test, y_pred))"
   ]
  },
  {
   "cell_type": "markdown",
   "metadata": {
    "id": "J5zNWLBCUHDU"
   },
   "source": [
    "\n",
    "###Question 5 (3 points):###\n",
    "\n",
    "Repeat the Questions 3 and 4 for the Italian data. \n"
   ]
  },
  {
   "cell_type": "code",
   "execution_count": 129,
   "metadata": {
    "colab": {
     "base_uri": "https://localhost:8080/",
     "height": 85
    },
    "id": "iZGEMN_mf4gj",
    "outputId": "debda888-19cc-4951-d435-2238d419a3f9"
   },
   "outputs": [],
   "source": [
    "#Repeat the process for the enhglsih dataset\n",
    "en_data['CONCRETE']=0\n",
    "en_data['IS_NOUN']=0\n",
    "en_data['IS_EARLY']=0\n",
    "\n",
    "\n",
    "#your code goes here.\n",
    "#sample output shown below\n"
   ]
  },
  {
   "cell_type": "code",
   "execution_count": 130,
   "metadata": {},
   "outputs": [],
   "source": [
    "for i in range(len(en_data)):\n",
    "    if en_data.loc[i,'MEAN']< 4:\n",
    "        en_data.at[i,'CONCRETE']=1\n",
    "    else:\n",
    "        en_data.at[i,'CONCRETE']=0\n",
    "    \n",
    "    if en_data.loc[i,'POS']!= 'N':\n",
    "        en_data.at[i,'IS_NOUN']=1\n",
    "    else:\n",
    "        en_data.at[i,'IS_NOUN']=0\n",
    "        \n",
    "    if en_data.loc[i,'INDEX']>= 5:\n",
    "        en_data.at[i,'IS_EARLY']=1\n",
    "    else:\n",
    "        en_data.at[i,'IS_EARLY']=0"
   ]
  },
  {
   "cell_type": "code",
   "execution_count": 131,
   "metadata": {},
   "outputs": [],
   "source": [
    "xn1=en_data.iloc[:,[6,7]].values\n",
    "yn1=en_data.iloc[:,5].values\n",
    "\n",
    "from sklearn.model_selection import train_test_split\n",
    "X1_train,X1_test,y1_train,y1_test=train_test_split(xn1,yn1,test_size=0.2,random_state=1)\n",
    "\n"
   ]
  },
  {
   "cell_type": "code",
   "execution_count": 132,
   "metadata": {},
   "outputs": [
    {
     "data": {
      "text/plain": [
       "Perceptron(alpha=0.0001, class_weight=None, early_stopping=False, eta0=0.01,\n",
       "           fit_intercept=True, max_iter=10, n_iter_no_change=5, n_jobs=None,\n",
       "           penalty=None, random_state=0, shuffle=True, tol=0.001,\n",
       "           validation_fraction=0.1, verbose=0, warm_start=False)"
      ]
     },
     "execution_count": 132,
     "metadata": {},
     "output_type": "execute_result"
    }
   ],
   "source": [
    "from sklearn.linear_model import Perceptron\n",
    "ppn= Perceptron( max_iter=10,random_state=0,eta0=0.01)\n",
    "ppn.fit(X1_train, y1_train)"
   ]
  },
  {
   "cell_type": "code",
   "execution_count": 133,
   "metadata": {},
   "outputs": [],
   "source": [
    "y1_pred = ppn.predict(X1_test)"
   ]
  },
  {
   "cell_type": "code",
   "execution_count": 134,
   "metadata": {},
   "outputs": [
    {
     "data": {
      "text/plain": [
       "array([0, 0, 0, 0, 0, 0, 0, 0, 0, 0, 0, 0, 0, 0, 0, 0, 0, 0, 0, 0],\n",
       "      dtype=int64)"
      ]
     },
     "execution_count": 134,
     "metadata": {},
     "output_type": "execute_result"
    }
   ],
   "source": [
    "y1_pred"
   ]
  },
  {
   "cell_type": "code",
   "execution_count": 135,
   "metadata": {},
   "outputs": [
    {
     "name": "stdout",
     "output_type": "stream",
     "text": [
      "Accuracy: 0.65\n"
     ]
    }
   ],
   "source": [
    "print('Accuracy: %.2f' % accuracy_score(y1_test, y1_pred))"
   ]
  }
 ],
 "metadata": {
  "colab": {
   "name": "assignment_perceptrons.ipynb",
   "provenance": []
  },
  "kernelspec": {
   "display_name": "Python 3",
   "language": "python",
   "name": "python3"
  },
  "language_info": {
   "codemirror_mode": {
    "name": "ipython",
    "version": 3
   },
   "file_extension": ".py",
   "mimetype": "text/x-python",
   "name": "python",
   "nbconvert_exporter": "python",
   "pygments_lexer": "ipython3",
   "version": "3.7.4"
  }
 },
 "nbformat": 4,
 "nbformat_minor": 1
}
