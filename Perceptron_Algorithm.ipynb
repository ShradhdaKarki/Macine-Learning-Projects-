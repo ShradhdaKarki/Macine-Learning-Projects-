{
  "nbformat": 4,
  "nbformat_minor": 0,
  "metadata": {
    "colab": {
      "name": "Perceptron-Algorithm.ipynb",
      "provenance": []
    }
  },
  "cells": [
    {
      "cell_type": "code",
      "metadata": {
        "id": "hPwmw4ZaQTMN"
      },
      "source": [
        "import numpy as np\n",
        "import numpy.random as nr\n",
        "import matplotlib.pyplot as pl\n",
        "%matplotlib inline\n",
        "\n",
        "# Size matters in plots.\n",
        "pl.rcParams['figure.figsize'] = (12.0, 10.0)\n",
        "\n",
        "# Plotting with style! \n",
        "import seaborn as sb"
      ],
      "execution_count": null,
      "outputs": []
    },
    {
      "cell_type": "markdown",
      "metadata": {
        "id": "g2J3fCTvQTMS"
      },
      "source": [
        "# Playing around with the linear perceptron algorithm \n"
      ]
    },
    {
      "cell_type": "markdown",
      "metadata": {
        "id": "WWw1wUZmQTMS"
      },
      "source": [
        "The linear perceptron algorithm can be used to classify data points according to pre-selected features they have. The idea is to find a curve (or hyperplane) that separates points with different features. Once we have the curve, we can use it to decide if future points are of feature A or B based on where they are with respect to the curve (above or below it). \n",
        "\n",
        "Below, I generate a collection of points and then paint them according to a line. If the points are above the line, they are blue, if they are below, green. "
      ]
    },
    {
      "cell_type": "code",
      "metadata": {
        "id": "sOe-wgzhQTMS",
        "outputId": "59537715-8bf8-4a3a-cd22-54f56211c201"
      },
      "source": [
        "# Generate some points\n",
        "N = 100\n",
        "xn = nr.rand(N,2)\n",
        "\n",
        "x = np.linspace(0,1);\n",
        "\n",
        "# Pick a line \n",
        "a = nr.rand();\n",
        "b = nr.rand();\n",
        "f = lambda x : a*x + b;\n",
        "\n",
        "fig =pl.figure()\n",
        "figa = pl.gca();\n",
        "\n",
        "pl.plot(xn[:,0],xn[:,1],'bo');\n",
        "pl.plot(x,f(x),'r')\n",
        "\n",
        "# Linearly separate the points by the line\n",
        "yn = np.zeros([N,1]);\n",
        "\n",
        "for i in xrange(N):\n",
        "    if(f(xn[i,0])>xn[i,1]):\n",
        "        # Point is below line\n",
        "        yn[i] = 1;\n",
        "        pl.plot(xn[i,0],xn[i,1],'go')\n",
        "    else:\n",
        "        # Point is above line\n",
        "        yn[i] = -1;\n",
        "        \n",
        "        \n",
        "pl.legend(['Above','Separator','Below'],loc=0)\n",
        "pl.title('Selected points with their separating line.')\n",
        "figa.axes.get_xaxis().set_visible(False)\n",
        "figa.axes.get_yaxis().set_visible(False)\n",
        "\n"
      ],
      "execution_count": null,
      "outputs": [
        {
          "output_type": "display_data",
          "data": {},
          "metadata": {
            "tags": []
          }
        }
      ]
    },
    {
      "cell_type": "markdown",
      "metadata": {
        "id": "eLAW7xu5QTMT"
      },
      "source": [
        "The curve naturally separates the space into two regions, one of green points and one of blue points. Thus, if I am given a new point, I can assign it a color based on where it is with respect to the curve. It is really that simple.\n",
        "\n",
        "What is not so simple is to find the curve given the points. However, if the points are linearly separable, i.e. if a line exists that does the job, then I can just move a line around until I get it to the correct position. This is what the linear perceptron algorithm is doing."
      ]
    },
    {
      "cell_type": "code",
      "metadata": {
        "id": "I6jzlUNEQTMU"
      },
      "source": [
        "def perceptron(xn,yn,MaxIter=1000,w=np.zeros(3)):\n",
        "    '''\n",
        "        A very simple implementation of the perceptron algorithm for two dimensional data.\n",
        "        \n",
        "        Given points (x,y) with x in R^{2} and y in {0,1}, the perceptron learning algorithm searches for the best\n",
        "        line that separates the data points according to the difference classes defined in y. \n",
        "        \n",
        "        Input: \n",
        "            xn : Data points, an Nx2 vector. \n",
        "            yn : Classification of the previous data points, an Nx1 vector. \n",
        "            MaxIter : Maximum number of iterations (optional).\n",
        "            w  : Initial vector of parameters (optional).\n",
        "            \n",
        "        Output: \n",
        "            w : Parameters of the best line, y = ax+b, that linearly separates the data. \n",
        "        \n",
        "        Note:\n",
        "            Convergence will be slower than expected, since this implementation picks points\n",
        "            to update without a specific plan (randomly). This is enough for a demonstration, not \n",
        "            so good for actual work. \n",
        "'''\n",
        "    \n",
        "    N = xn.shape[0];\n",
        "    \n",
        "    # Separating curve\n",
        "    f = lambda x: np.sign(w[0]+w[1]*x[0]+w[2]*x[1]);\n",
        "\n",
        "    for _ in xrange(MaxIter):\n",
        "        i = nr.randint(N);\n",
        "        if(yn[i] != f(xn[i,:])): # If not classified correctly, adjust the line to account for that point.\n",
        "             w[0] = w[0] + yn[i];\n",
        "             w[1] = w[1] + yn[i]*xn[i,0];\n",
        "             w[2] = w[2] + yn[i]*xn[i,1];\n",
        "            \n",
        "    return w;\n",
        "    \n"
      ],
      "execution_count": null,
      "outputs": []
    },
    {
      "cell_type": "markdown",
      "metadata": {
        "id": "0vxGGEawQTMU"
      },
      "source": [
        "Now that I have a (working) implementation, here's a stab at our problem. Let's see how close it gets."
      ]
    },
    {
      "cell_type": "code",
      "metadata": {
        "id": "HqItvKByQTMU",
        "outputId": "3c03e969-3c14-4ffa-9af5-e713dcc4f2c0"
      },
      "source": [
        "w= perceptron(xn,yn)\n",
        "\n",
        "# Using weights w to compute a,b for a line y=a*x+b\n",
        "bnew = -w[0]/w[2];\n",
        "anew = -w[1]/w[2];\n",
        "y = lambda x: anew * x + bnew;\n",
        "\n",
        "# Computing the colors for the points\n",
        "sep_color = (yn+1)/2.0;\n",
        "\n",
        "pl.figure();\n",
        "figa = pl.gca()\n",
        "\n",
        "pl.scatter(xn[:,0],xn[:,1],c=sep_color, s=30)\n",
        "pl.plot(x,y(x),'b--',label='Line from perceptron implementation.')\n",
        "pl.plot(x,f(x),'r',label='Original line.')\n",
        "pl.legend()\n",
        "\n",
        "pl.title('Comparison between the linear separator and the perceptron approximation.')\n",
        "\n",
        "figa.axes.get_xaxis().set_visible(False)\n",
        "figa.axes.get_yaxis().set_visible(False)\n"
      ],
      "execution_count": null,
      "outputs": [
        {
          "output_type": "display_data",
          "data": {},
          "metadata": {
            "tags": []
          }
        }
      ]
    },
    {
      "cell_type": "markdown",
      "metadata": {
        "id": "mpe48iiUQTMV"
      },
      "source": [
        "Not bad, right? The algorithm should have managed to converge to a good approximation of the separating line. If it didn't, try running the last piece of code again. Remember that this implementation updates randomly picked points, so in some cases convergence will be worse.\n",
        "\n",
        "Also, note that the line that separates the points is not unique, given the dataset we have available. Would it be so if we had all of the possible information? My guess is that this depends on the data. \n",
        "\n",
        "In any case, it can be proven that this process works every time, given a sufficient number of steps. This assumes that the data is linearly separable, a fact that is quite powerful on its own. We may be good at finding patterns in $\\mathbb{R}^2$ but what about $\\mathbb{R}^d$? Is there a way to show that a collection of points can be separated by \"inserting\" planes between them? We take a look at that next."
      ]
    },
    {
      "cell_type": "markdown",
      "metadata": {
        "id": "oQV858JoQTMV"
      },
      "source": [
        "# What if the dataset is not linearly separable?"
      ]
    },
    {
      "cell_type": "markdown",
      "metadata": {
        "id": "sVYtfjhmQTMV"
      },
      "source": [
        "If the data is not separable by a line, then, in most cases, this process will not work perfectly. Some points will be classified correctly and some will not. Then, we can think about two more questions. \n",
        "\n",
        "1. How much will it cost us if we missclassify a point? Is the cost an extra spam e-mail in our inbox or is it a patient not getting the correct medicine?\n",
        "2. If we don't want to take the risk with a line, which is the best curve to use instead?\n",
        "\n",
        "We are not going to answer those here. Instead, I will just show you an example where the classification can fail, if the points are not separable by a line. Then, if you download this notebook, you can try with other curves and see what happens. \n",
        "\n",
        "Remember that, in our case, given a point $x=(x_1,x_2)$, classification is done according to $\\text{sign}(f(x_1)-x_2)$, which can either be -1 or 1."
      ]
    },
    {
      "cell_type": "code",
      "metadata": {
        "id": "9YlCYua7QTMV",
        "outputId": "341c1c40-9f00-43ad-8218-42d6beecc87a"
      },
      "source": [
        "# Change this function to select points with respect to a different curve.\n",
        "f = lambda x: x**2;\n",
        "\n",
        "x = np.linspace(0,1);\n",
        "\n",
        "# Generate some data points to play with.\n",
        "N = 100\n",
        "xn = nr.rand(N,2)\n",
        "\n",
        "fig = pl.figure()\n",
        "figa = pl.gca();\n",
        "\n",
        "# Plot classifier \n",
        "pl.plot(x,f(x),'r')\n",
        "\n",
        "# Classify based on f(x)\n",
        "yn = np.sign(f(xn[:,0])-xn[:,1])\n",
        "\n",
        "colors = (yn+1)/2.0;\n",
        "\n",
        "pl.scatter(xn[:,0],xn[:,1],c=colors,s=30);\n",
        "pl.title('Classification based on f(x)')\n",
        "\n",
        "figa.axes.get_xaxis().set_visible(False)\n",
        "figa.axes.get_yaxis().set_visible(False)\n"
      ],
      "execution_count": null,
      "outputs": [
        {
          "output_type": "display_data",
          "data": {},
          "metadata": {
            "tags": []
          }
        }
      ]
    },
    {
      "cell_type": "markdown",
      "metadata": {
        "id": "NCxZy_J5QTMW"
      },
      "source": [
        "In this example, we can see that $x^2$ colours some points as black and others as white. Let us find a linear separator now."
      ]
    },
    {
      "cell_type": "code",
      "metadata": {
        "id": "SLCJT9eoQTMW",
        "outputId": "48173216-6714-4502-b940-ea2ba2e09aa7"
      },
      "source": [
        "# Try percepton with that data.\n",
        "w = perceptron(xn,yn,MaxIter=1000)\n",
        "\n",
        "# Re-scale the weights to construct a new representation\n",
        "bnew = -w[0]/w[2];\n",
        "anew = -w[1]/w[2];\n",
        "y = lambda x: anew * x + bnew;\n",
        "\n",
        "figa = pl.gca()\n",
        "pl.scatter(xn[:,0],xn[:,1],c=colors,s=50);\n",
        "pl.title('Classification based on f(x)')\n",
        "\n",
        "pl.plot(x,f(x),'r',label='Separating curve.')\n",
        "pl.plot(x,y(x),'b--',label = 'Curve from perceptron algorithm.')\n",
        "\n",
        "pl.legend()\n",
        "\n",
        "figa.axes.get_xaxis().set_visible(False)\n",
        "figa.axes.get_yaxis().set_visible(False)"
      ],
      "execution_count": null,
      "outputs": [
        {
          "output_type": "display_data",
          "data": {},
          "metadata": {
            "tags": []
          }
        }
      ]
    },
    {
      "cell_type": "markdown",
      "metadata": {
        "id": "_tNLzSeuQTMW"
      },
      "source": [
        "In this case, our classifier cannot get all the cases right (white points should be above the blue line, black points below). This situation will probably become worse as we add more and more points. "
      ]
    },
    {
      "cell_type": "markdown",
      "metadata": {
        "id": "-xShYLyBQTMW"
      },
      "source": [
        "#This notebook is a work in progress\n",
        "\n",
        "More details to be added soon(-ish). "
      ]
    }
  ]
}